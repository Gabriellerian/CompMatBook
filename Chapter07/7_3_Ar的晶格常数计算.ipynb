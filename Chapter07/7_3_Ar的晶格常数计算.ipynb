{
  "cells": [
    {
      "cell_type": "markdown",
      "id": "df2cd50a-3936-45df-a6e2-7d8338cf4485",
      "metadata": {
        "id": "df2cd50a-3936-45df-a6e2-7d8338cf4485"
      },
      "source": [
        "<div style=\"color:black; background-color:#FFF3E9; border: 1px solid #FFE0C3; border-radius: 10px; margin-bottom:1rem\">\n",
        "    <p style=\"margin:1rem; padding-left: 1rem; line-height: 2.5;\">\n",
        "        ©️ <b><i>Copyright 2023 @ Authors</i></b><br/>\n",
        "        作者：<a style=\"font-weight:bold\" href=\"mailto:bshan@mail.hust.edu.cn\">斯坦福大厨 📨 </a><br>\n",
        "        日期：2023-10-01<br/>\n",
        "        <img src=\"https://github.com/stanfordbshan/CompMatBook/blob/main/author.png?raw=true\" width=\"100\"/>\n",
        "        共享协议：本作品采用<a rel=\"license\" href=\"http://creativecommons.org/licenses/by-nc-sa/4.0/\">知识共享署名-非商业性使用-相同方式共享 4.0 国际许可协议</a>进行许可。</i><br/>\n",
        "        快速开始：点击上方的 <span style=\"background-color:rgb(85, 91, 228); color:white; padding: 3px; border-radius: 5px;box-shadow: 2px 2px 3px rgba(0, 0, 0, 0.3); font-size:0.75rem;\">开始连接</span> 按钮，选择 <span style='color:rgb(85,91,228); font-weight:bold'>lammps:23Jun2022-dp2.15</span> 镜像及 <span style='color:rgb(85,91,228); font-weight:bold'>c2_m4_cpu</span> 节点配置，稍等片刻即可运行。\n",
        "    </p>\n",
        "</div>\n",
        "\n",
        "恭喜您已经发现了这份神奇的计算材料学课件！这份课件是我在熬夜吃掉不计其数的披萨和咖啡后创作出来的，配套的教材是由单斌、陈征征、陈蓉合著的《计算材料学--从算法原理到代码实现》。学习资料合集您可以在这个网址找到：[www.materialssimulation.com/book](http://www.materialssimulation.com/book)，您也可以跟着up主[无人问津晦涩难懂的B站视频](https://space.bilibili.com/1111135013/channel/collectiondetail?sid=1458375)一起进行学习。希望它能帮您在计算材料学的道路上摔得不那么痛。\n",
        "\n",
        "就像您尊重那些一边烘焙披萨一边写代码的大厨一样，当您使用这份课件时，请：\n",
        "\n",
        "- 记得告诉大家这份课件是斯坦福大厨写的，并且他在华中科技大学微纳中心工作\n",
        "- 别用它去赚大钱，这个课件是用来学习的，不是用来买披萨的\n",
        "- 保持开放共享的精神\n",
        "\n",
        "\n",
        "\n",
        "\n",
        "如果你有关于计算材料学的想法，或者你只是想和我讨论最好吃的披萨口味，欢迎通过邮件 bshan@mail.hust.edu.cn 联系我。"
      ]
    },
    {
      "cell_type": "markdown",
      "id": "21dcae72-3e06-4915-8683-700a2a68f8d7",
      "metadata": {
        "id": "21dcae72-3e06-4915-8683-700a2a68f8d7"
      },
      "source": [
        "# 目录（对应《计算材料学》章节7.3）\n",
        "\n",
        "<a href=\"https://item.jd.com/10089064828853.html\"><img src=\"https://github.com/stanfordbshan/CompMatBook/blob/main/cover.png?raw=true\"  width=\"200\"/></a>\n",
        "<a href=\"https://item.jd.com/10089064828853.html\">点击购书</a>\n",
        "\n",
        "\n",
        "* [1. LAMMPS单点计算](#singlepoint)\n",
        "* [2. LAMMPS循环控制](#loopcontrol)\n",
        "* [3. 结果分析与可视化](#analysis)\n",
        "* [参考](#references)"
      ]
    },
    {
      "cell_type": "code",
      "source": [
        "try:\n",
        "    from google.colab import drive\n",
        "    drive.mount('/content/gdrive')\n",
        "\n",
        "    import os\n",
        "    original_path = '/content/gdrive/MyDrive/Colab_Modules/lammps/build/lmp'\n",
        "    link_path = '/content/lmp'\n",
        "\n",
        "    # Create a symbolic link\n",
        "    os.symlink(original_path, link_path)\n",
        "    !chmod +x lmp\n",
        "\n",
        "    current_directory = os.getcwd()\n",
        "    os.environ[\"PATH\"] += os.pathsep + current_directory\n",
        "\n",
        "    COLAB = True\n",
        "except:\n",
        "    COLAB = False"
      ],
      "metadata": {
        "colab": {
          "base_uri": "https://localhost:8080/"
        },
        "id": "qHx3uBRVCliI",
        "outputId": "79edafbc-3ba7-4d74-ffb3-e60f5077c3dc"
      },
      "id": "qHx3uBRVCliI",
      "execution_count": null,
      "outputs": [
        {
          "output_type": "stream",
          "name": "stdout",
          "text": [
            "Drive already mounted at /content/gdrive; to attempt to forcibly remount, call drive.mount(\"/content/gdrive\", force_remount=True).\n"
          ]
        }
      ]
    },
    {
      "cell_type": "markdown",
      "id": "68b21adc-e09b-41d0-9684-1ccd0edfc8f2",
      "metadata": {
        "id": "68b21adc-e09b-41d0-9684-1ccd0edfc8f2"
      },
      "source": [
        "<a name=\"singlepoint\"></a>\n",
        "# 1. LAMMPS单点计算\n",
        "\n",
        "LAMMPS脚本主要描述了一个面心立方（fcc）晶格的原子模拟过程。首先，该脚本采用了Lennard-Jones单位系统，并为模拟设置了三个方向的周期性边界条件。原子风格被设置为\"atomic\"，意味着系统中的每个原子都被视为一个不可分割的实体。接下来，定义了一个面心立方的晶格，并在此基础上建立了一个从(0,0,0)到(1,1,1)的模拟区域。在这个区域内，创建了一个包含单一原子类型的模拟盒子，并在每个晶格点上放置了原子。这些原子的质量被设置为1.0。接着，为原子之间的相互作用选择了Lennard-Jones势，并设置了相应的参数值。为了获取关于系统的信息，定义了两个变量：一个表示系统的势能，另一个表示模拟盒子的边长。最后，执行了0步模拟来初始化系统，并打印出计算得到的晶格常数和氩的凝聚能。"
      ]
    },
    {
      "cell_type": "code",
      "execution_count": null,
      "id": "f896cc91-62c4-45b5-ae20-79daccc611a0",
      "metadata": {
        "colab": {
          "base_uri": "https://localhost:8080/"
        },
        "id": "f896cc91-62c4-45b5-ae20-79daccc611a0",
        "outputId": "e9aebb43-1a2f-482c-c0f3-c82be610bdfb"
      },
      "outputs": [
        {
          "output_type": "stream",
          "name": "stdout",
          "text": [
            "Overwriting in.Ar_single_point\n"
          ]
        }
      ],
      "source": [
        "%%writefile in.Ar_single_point\n",
        "\n",
        "units lj\n",
        "boundary p p p\n",
        "atom_style atomic\n",
        "\n",
        "lattice    fcc 1.00\n",
        "region     box block 0 1 0 1 0 1\n",
        "create_box 1 box\n",
        "create_atoms 1 box\n",
        "mass 1 1.0\n",
        "\n",
        "pair_style  lj/cut  4.0\n",
        "pair_coeff  1  1  1.0  1.0  4.0\n",
        "\n",
        "variable P equal pe\n",
        "variable L equal (count(all)/1.00)^(1/3)\n",
        "run 0\n",
        "print  \"Lattice constant: $L\"\n",
        "print  \"Cohesive Energy of Ar: $P\""
      ]
    },
    {
      "cell_type": "code",
      "execution_count": null,
      "id": "5a0d2cbf-1b03-476a-b86c-f70bd570c876",
      "metadata": {
        "colab": {
          "base_uri": "https://localhost:8080/"
        },
        "id": "5a0d2cbf-1b03-476a-b86c-f70bd570c876",
        "outputId": "b57d0d24-0401-4e46-c872-84c026d4f87f"
      },
      "outputs": [
        {
          "output_type": "stream",
          "name": "stdout",
          "text": [
            "LAMMPS (2 Aug 2023 - Update 1)\n",
            "  using 2 OpenMP thread(s) per MPI task\n",
            "Lattice spacing in x,y,z = 1.5874011 1.5874011 1.5874011\n",
            "Created orthogonal box = (0 0 0) to (1.5874011 1.5874011 1.5874011)\n",
            "  1 by 1 by 1 MPI processor grid\n",
            "Created 4 atoms\n",
            "  using lattice units in orthogonal box = (0 0 0) to (1.5874011 1.5874011 1.5874011)\n",
            "  create_atoms CPU = 0.000 seconds\n",
            "WARNING: No fixes with time integration, atoms won't move (src/verlet.cpp:60)\n",
            "Generated 0 of 0 mixed pair_coeff terms from geometric mixing rule\n",
            "Neighbor list info ...\n",
            "  update: every = 1 steps, delay = 0 steps, check = yes\n",
            "  max neighbors/atom: 2000, page size: 100000\n",
            "  master list distance cutoff = 4.3\n",
            "  ghost atom cutoff = 4.3\n",
            "  binsize = 2.15, bins = 1 1 1\n",
            "  1 neighbor lists, perpetual/occasional/extra = 1 0 0\n",
            "  (1) pair lj/cut, perpetual\n",
            "      attributes: half, newton on\n",
            "      pair build: half/bin/atomonly/newton\n",
            "      stencil: half/bin/3d\n",
            "      bin: standard\n",
            "Setting up Verlet run ...\n",
            "  Unit style    : lj\n",
            "  Current step  : 0\n",
            "  Time step     : 0.005\n",
            "Per MPI rank memory allocation (min/avg/max) = 3.876 | 3.876 | 3.876 Mbytes\n",
            "   Step          Temp          E_pair         E_mol          TotEng         Press     \n",
            "         0   0             -8.2464629      0             -8.2464629     -4.3610727    \n",
            "Loop time of 9.49e-07 on 2 procs for 0 steps with 4 atoms\n",
            "\n",
            "105.4% CPU use with 1 MPI tasks x 2 OpenMP threads\n",
            "\n",
            "MPI task timing breakdown:\n",
            "Section |  min time  |  avg time  |  max time  |%varavg| %total\n",
            "---------------------------------------------------------------\n",
            "Pair    | 0          | 0          | 0          |   0.0 |  0.00\n",
            "Neigh   | 0          | 0          | 0          |   0.0 |  0.00\n",
            "Comm    | 0          | 0          | 0          |   0.0 |  0.00\n",
            "Output  | 0          | 0          | 0          |   0.0 |  0.00\n",
            "Modify  | 0          | 0          | 0          |   0.0 |  0.00\n",
            "Other   |            | 9.49e-07   |            |       |100.00\n",
            "\n",
            "Nlocal:              4 ave           4 max           4 min\n",
            "Histogram: 1 0 0 0 0 0 0 0 0 0\n",
            "Nghost:           1094 ave        1094 max        1094 min\n",
            "Histogram: 1 0 0 0 0 0 0 0 0 0\n",
            "Neighs:            640 ave         640 max         640 min\n",
            "Histogram: 1 0 0 0 0 0 0 0 0 0\n",
            "\n",
            "Total # of neighbors = 640\n",
            "Ave neighs/atom = 160\n",
            "Neighbor list builds = 0\n",
            "Dangerous builds = 0\n",
            "Lattice constant: 1.5874010519682\n",
            "Cohesive Energy of Ar: -8.24646294070177\n",
            "Total wall time: 0:00:00\n"
          ]
        }
      ],
      "source": [
        "!OMP_NUM_THREADS=2 lmp -i in.Ar_single_point"
      ]
    },
    {
      "cell_type": "markdown",
      "id": "b8f02c59-94b9-4da0-8d8d-d0f29d428941",
      "metadata": {
        "id": "b8f02c59-94b9-4da0-8d8d-d0f29d428941"
      },
      "source": [
        "<a name=\"loopcontrol\"></a>\n",
        "# 2. LAMMPS循环控制\n",
        "\n",
        "这个LAMMPS脚本与之前的脚本在构建和模拟原子系统的初步设置上大致相同，但主要的不同之处在于它加入了一个循环结构，用于探索不同的晶格常数下的凝聚能。以下是针对循环部分的详细解读：\n",
        "\n",
        "1. **循环的设置**：通过标签`label loop_i`和变量`variable i  loop  50`，脚本设定了一个循环，该循环将运行50次。\n",
        "   \n",
        "2. **晶格参数变化**：`variable x  equal  1.02+0.002*$i`定义了一个变量`x`，它表示面心立方晶格的晶格常数，从1.02开始，每次循环增加0.002。这意味着脚本将探索从1.02到1.12范围内的晶格常数。\n",
        "\n",
        "3. **创建模拟系统**：对于每一个晶格常数，脚本都创建一个新的模拟盒子和原子，设置质量和原子间的相互作用方式，与前一个脚本类似。\n",
        "\n",
        "4. **计算和打印**：系统的势能和晶格常数被计算并打印出来。这两个变量`P`和`L`分别表示势能和晶格常数，其中势能表示为`pe`，而晶格常数是由原子数和模拟盒子的体积计算得到的。\n",
        "\n",
        "5. **清除和循环**：`clear`命令用于清除当前的模拟状态，为下一次循环设置新的晶格常数做准备。`next i`和`jump SELF loop_i`指令用于控制循环结构，使其在完成当前迭代后跳转回`loop_i`标签，开始下一次迭代。\n",
        "\n",
        "总之，与前一个脚本相比，这个脚本使用了循环结构来系统地探索一系列的晶格常数，并为每一个晶格常数计算凝聚能，从而能够更全面地了解不同晶格常数下的物质属性。"
      ]
    },
    {
      "cell_type": "code",
      "execution_count": null,
      "id": "d4c9a226-cfcd-49e3-a81e-6146d84d09c3",
      "metadata": {
        "colab": {
          "base_uri": "https://localhost:8080/"
        },
        "id": "d4c9a226-cfcd-49e3-a81e-6146d84d09c3",
        "outputId": "14241549-b8ee-4380-d70d-ceec0a2e0239"
      },
      "outputs": [
        {
          "output_type": "stream",
          "name": "stdout",
          "text": [
            "Overwriting in.Ar_loop\n"
          ]
        }
      ],
      "source": [
        "%%writefile in.Ar_loop\n",
        "\n",
        "units lj\n",
        "boundary p p p\n",
        "atom_style atomic\n",
        "\n",
        "label loop_i\n",
        "variable i  loop  50\n",
        "variable x  equal  1.02+0.002*$i\n",
        "\n",
        "lattice fcc $x\n",
        "region     box block 0 1 0 1 0 1\n",
        "create_box 1 box\n",
        "create_atoms 1 box\n",
        "mass 1 1.0\n",
        "\n",
        "pair_style  lj/cut  4.0\n",
        "pair_coeff  1  1  1.0  1.0  4.0\n",
        "\n",
        "variable P equal pe\n",
        "variable L equal (count(all)/$x)^(1/3)\n",
        "\n",
        "run 0\n",
        "print  \"Cohesive Energy of Ar a = $L E = $P\"\n",
        "clear\n",
        "next i\n",
        "jump SELF loop_i\n"
      ]
    },
    {
      "cell_type": "markdown",
      "source": [
        "用%%capture来禁止屏幕输出"
      ],
      "metadata": {
        "id": "czL6I_qqI8iw"
      },
      "id": "czL6I_qqI8iw"
    },
    {
      "cell_type": "code",
      "execution_count": null,
      "id": "18c58872-7ed8-4702-a0cb-5a03b4fc1a7a",
      "metadata": {
        "id": "18c58872-7ed8-4702-a0cb-5a03b4fc1a7a"
      },
      "outputs": [],
      "source": [
        "%%capture\n",
        "!OMP_NUM_THREADS=2 lmp -i in.Ar_loop"
      ]
    },
    {
      "cell_type": "markdown",
      "source": [
        "计算完成后，我们可以用grep命令来查看能量`E`随晶格常数`a`的变化"
      ],
      "metadata": {
        "id": "aJ0niOv5K4cF"
      },
      "id": "aJ0niOv5K4cF"
    },
    {
      "cell_type": "code",
      "execution_count": null,
      "id": "a0cf43d3-e94c-4ea4-93d2-d51c239c9ada",
      "metadata": {
        "colab": {
          "base_uri": "https://localhost:8080/"
        },
        "id": "a0cf43d3-e94c-4ea4-93d2-d51c239c9ada",
        "outputId": "0453812c-e2fb-406f-d2f6-e65ee5ab5e5c"
      },
      "outputs": [
        {
          "output_type": "stream",
          "name": "stdout",
          "text": [
            "print  \"Cohesive Energy of Ar a = $L E = $P\"\n",
            "Cohesive Energy of Ar a = 1.57592797583561 E = -8.33145850509292\n",
            "print  \"Cohesive Energy of Ar a = $L E = $P\"\n",
            "Cohesive Energy of Ar a = 1.57490131236859 E = -8.33807134579063\n",
            "print  \"Cohesive Energy of Ar a = $L E = $P\"\n",
            "Cohesive Energy of Ar a = 1.57387731902894 E = -8.34449337732872\n",
            "print  \"Cohesive Energy of Ar a = $L E = $P\"\n",
            "Cohesive Energy of Ar a = 1.57285598368759 E = -8.35072340593282\n",
            "print  \"Cohesive Energy of Ar a = $L E = $P\"\n",
            "Cohesive Energy of Ar a = 1.57183729429402 E = -8.35676023549933\n",
            "print  \"Cohesive Energy of Ar a = $L E = $P\"\n",
            "Cohesive Energy of Ar a = 1.5708212388756 E = -8.36260266759513\n",
            "print  \"Cohesive Energy of Ar a = $L E = $P\"\n",
            "Cohesive Energy of Ar a = 1.56980780553695 E = -8.36824950145807\n",
            "print  \"Cohesive Energy of Ar a = $L E = $P\"\n",
            "Cohesive Energy of Ar a = 1.5687969824593 E = -8.40886495772643\n",
            "print  \"Cohesive Energy of Ar a = $L E = $P\"\n",
            "Cohesive Energy of Ar a = 1.5677887578998 E = -8.41425285507882\n",
            "print  \"Cohesive Energy of Ar a = $L E = $P\"\n",
            "Cohesive Energy of Ar a = 1.56678312019097 E = -8.41944179972544\n",
            "print  \"Cohesive Energy of Ar a = $L E = $P\"\n",
            "Cohesive Energy of Ar a = 1.56578005773998 E = -8.42443058158526\n",
            "print  \"Cohesive Energy of Ar a = $L E = $P\"\n",
            "Cohesive Energy of Ar a = 1.56477955902812 E = -8.42921798824788\n",
            "print  \"Cohesive Energy of Ar a = $L E = $P\"\n",
            "Cohesive Energy of Ar a = 1.56378161261009 E = -8.43380280497367\n",
            "print  \"Cohesive Energy of Ar a = $L E = $P\"\n",
            "Cohesive Energy of Ar a = 1.5627862071135 E = -8.43818381469352\n",
            "print  \"Cohesive Energy of Ar a = $L E = $P\"\n",
            "Cohesive Energy of Ar a = 1.56179333123816 E = -8.44235979800925\n",
            "print  \"Cohesive Energy of Ar a = $L E = $P\"\n",
            "Cohesive Energy of Ar a = 1.56080297375557 E = -8.44632953319306\n",
            "print  \"Cohesive Energy of Ar a = $L E = $P\"\n",
            "Cohesive Energy of Ar a = 1.55981512350829 E = -8.45009179618814\n",
            "print  \"Cohesive Energy of Ar a = $L E = $P\"\n",
            "Cohesive Energy of Ar a = 1.55882976940936 E = -8.45364536060804\n",
            "print  \"Cohesive Energy of Ar a = $L E = $P\"\n",
            "Cohesive Energy of Ar a = 1.55784690044172 E = -8.4569889977373\n",
            "print  \"Cohesive Energy of Ar a = $L E = $P\"\n",
            "Cohesive Energy of Ar a = 1.55686650565764 E = -8.46012147653097\n",
            "print  \"Cohesive Energy of Ar a = $L E = $P\"\n",
            "Cohesive Energy of Ar a = 1.55588857417818 E = -8.46304156361475\n",
            "print  \"Cohesive Energy of Ar a = $L E = $P\"\n",
            "Cohesive Energy of Ar a = 1.55491309519258 E = -8.46574802328514\n",
            "print  \"Cohesive Energy of Ar a = $L E = $P\"\n",
            "Cohesive Energy of Ar a = 1.55394005795775 E = -8.46823961750925\n",
            "print  \"Cohesive Energy of Ar a = $L E = $P\"\n",
            "Cohesive Energy of Ar a = 1.55296945179769 E = -8.47051510592494\n",
            "print  \"Cohesive Energy of Ar a = $L E = $P\"\n",
            "Cohesive Energy of Ar a = 1.55200126610297 E = -8.47257324584064\n",
            "print  \"Cohesive Energy of Ar a = $L E = $P\"\n",
            "Cohesive Energy of Ar a = 1.55103549033018 E = -8.47441279223549\n",
            "print  \"Cohesive Energy of Ar a = $L E = $P\"\n",
            "Cohesive Energy of Ar a = 1.55007211400138 E = -8.47603249775935\n",
            "print  \"Cohesive Energy of Ar a = $L E = $P\"\n",
            "Cohesive Energy of Ar a = 1.5491111267036 E = -8.47743111273283\n",
            "print  \"Cohesive Energy of Ar a = $L E = $P\"\n",
            "Cohesive Energy of Ar a = 1.54815251808832 E = -8.4786073851471\n",
            "print  \"Cohesive Energy of Ar a = $L E = $P\"\n",
            "Cohesive Energy of Ar a = 1.54719627787093 E = -8.47956006066408\n",
            "print  \"Cohesive Energy of Ar a = $L E = $P\"\n",
            "Cohesive Energy of Ar a = 1.5462423958302 E = -8.48028788261623\n",
            "print  \"Cohesive Energy of Ar a = $L E = $P\"\n",
            "Cohesive Energy of Ar a = 1.54529086180785 E = -8.48078959200694\n",
            "print  \"Cohesive Energy of Ar a = $L E = $P\"\n",
            "Cohesive Energy of Ar a = 1.54434166570796 E = -8.4810639275101\n",
            "print  \"Cohesive Energy of Ar a = $L E = $P\"\n",
            "Cohesive Energy of Ar a = 1.54339479749652 E = -8.48110962547033\n",
            "print  \"Cohesive Energy of Ar a = $L E = $P\"\n",
            "Cohesive Energy of Ar a = 1.54245024720093 E = -8.48092541990288\n",
            "print  \"Cohesive Energy of Ar a = $L E = $P\"\n",
            "Cohesive Energy of Ar a = 1.54150800490952 E = -8.48051004249385\n",
            "print  \"Cohesive Energy of Ar a = $L E = $P\"\n",
            "Cohesive Energy of Ar a = 1.54056806077103 E = -8.47986222259979\n",
            "print  \"Cohesive Energy of Ar a = $L E = $P\"\n",
            "Cohesive Energy of Ar a = 1.53963040499419 E = -8.47898068724805\n",
            "print  \"Cohesive Energy of Ar a = $L E = $P\"\n",
            "Cohesive Energy of Ar a = 1.53869502784719 E = -8.47786416113685\n",
            "print  \"Cohesive Energy of Ar a = $L E = $P\"\n",
            "Cohesive Energy of Ar a = 1.53776191965726 E = -8.47651136663461\n",
            "print  \"Cohesive Energy of Ar a = $L E = $P\"\n",
            "Cohesive Energy of Ar a = 1.53683107081015 E = -8.47492102378094\n",
            "print  \"Cohesive Energy of Ar a = $L E = $P\"\n",
            "Cohesive Energy of Ar a = 1.53590247174974 E = -8.47309185028574\n",
            "print  \"Cohesive Energy of Ar a = $L E = $P\"\n",
            "Cohesive Energy of Ar a = 1.53497611297752 E = -8.47102256152991\n",
            "print  \"Cohesive Energy of Ar a = $L E = $P\"\n",
            "Cohesive Energy of Ar a = 1.53405198505217 E = -8.46871187056482\n",
            "print  \"Cohesive Energy of Ar a = $L E = $P\"\n",
            "Cohesive Energy of Ar a = 1.53313007858912 E = -8.4661584881125\n",
            "print  \"Cohesive Energy of Ar a = $L E = $P\"\n",
            "Cohesive Energy of Ar a = 1.53221038426009 E = -8.46336112256596\n",
            "print  \"Cohesive Energy of Ar a = $L E = $P\"\n",
            "Cohesive Energy of Ar a = 1.53129289279264 E = -8.46031847998847\n",
            "print  \"Cohesive Energy of Ar a = $L E = $P\"\n",
            "Cohesive Energy of Ar a = 1.53037759496979 E = -8.45702926411432\n",
            "print  \"Cohesive Energy of Ar a = $L E = $P\"\n",
            "Cohesive Energy of Ar a = 1.52946448162952 E = -8.45349217634817\n",
            "print  \"Cohesive Energy of Ar a = $L E = $P\"\n",
            "Cohesive Energy of Ar a = 1.5285535436644 E = -8.44970591576578\n"
          ]
        }
      ],
      "source": [
        "!grep 'Cohesive' log.lammps"
      ]
    },
    {
      "cell_type": "markdown",
      "source": [
        "<a name=\"analysis\"></a>\n",
        "# 3. 结果分析与可视化\n",
        "\n",
        "这段代码的主要目的是从从LAMMPS的日志文件log.lammps中提取与Ar的凝聚能相关的数据，特别是在不同的晶格常数a下的能量值E。以下是该代码的详细解释：\n",
        "\n",
        "1. **导入必要的模块**：`import re` — 这一行导入了Python的正则表达式模块，用于匹配字符串中的特定模式。\n",
        "\n",
        "2. **初始化列表**：`matching_lines = []` — 这是一个空列表，用于保存匹配到的行信息。\n",
        "\n",
        "3. **定义正则表达式模式**：`pattern = re.compile(r\"Cohesive Energy of Ar a = ([\\d\\.-]+)\\s+E = ([\\d\\.-]+)\")` — 这里定义了一个正则表达式模式，用于匹配含有“Cohesive Energy of Ar a = * E = *”这种模式的行，并从中提取a值和E值。\n",
        "\n",
        "4. **读取和搜索文件**：\n",
        "    - 使用`with open('./log.lammps', 'r') as file:`打开文件，并确保文件在操作完成后正确关闭。\n",
        "    - 通过`for line in file:`遍历文件中的每一行。\n",
        "    - 使用`pattern.search(line)`方法搜索每一行中的匹配模式。\n",
        "    - 如果找到匹配的模式，它会提取a值（match.group(1)）和E值（match.group(2)），并将这两个值作为一个元组添加到`matching_lines`列表中。\n",
        "\n",
        "5. **输出匹配的行**：`matching_lines[:10]` — 这一行将显示列表中前10个匹配到的元组，每个元组包含一个a值和一个E值。"
      ],
      "metadata": {
        "id": "J5-eUvlbLRX3"
      },
      "id": "J5-eUvlbLRX3"
    },
    {
      "cell_type": "code",
      "execution_count": null,
      "id": "658b998f-120c-464a-9690-b4200f423f92",
      "metadata": {
        "colab": {
          "base_uri": "https://localhost:8080/"
        },
        "id": "658b998f-120c-464a-9690-b4200f423f92",
        "outputId": "231ed18e-23af-405a-c354-3da4c696d1f3"
      },
      "outputs": [
        {
          "output_type": "execute_result",
          "data": {
            "text/plain": [
              "[(1.57592797583561, -8.33145850509292),\n",
              " (1.57490131236859, -8.33807134579063),\n",
              " (1.57387731902894, -8.34449337732872),\n",
              " (1.57285598368759, -8.35072340593282),\n",
              " (1.57183729429402, -8.35676023549933),\n",
              " (1.5708212388756, -8.36260266759513),\n",
              " (1.56980780553695, -8.36824950145807),\n",
              " (1.5687969824593, -8.40886495772643),\n",
              " (1.5677887578998, -8.41425285507882),\n",
              " (1.56678312019097, -8.41944179972544)]"
            ]
          },
          "metadata": {},
          "execution_count": 60
        }
      ],
      "source": [
        "# Read the file and search for lines containing the pattern \"Cohesive Energy of Ar a = * E = *\"\n",
        "import re\n",
        "\n",
        "# Initialize list to hold the matching lines\n",
        "matching_lines = []\n",
        "\n",
        "# Define the regex pattern for capturing a and E values\n",
        "pattern = re.compile(r\"Cohesive Energy of Ar a = ([\\d\\.-]+)\\s+E = ([\\d\\.-]+)\")\n",
        "\n",
        "# Read the file and search for the pattern\n",
        "with open('./log.lammps', 'r') as file:\n",
        "    for line in file:\n",
        "        match = pattern.search(line)\n",
        "        if match:\n",
        "            a_value = float(match.group(1))\n",
        "            E_value = float(match.group(2))\n",
        "            matching_lines.append((a_value, E_value))\n",
        "\n",
        "# Show some of the matching lines\n",
        "matching_lines[:10]\n"
      ]
    },
    {
      "cell_type": "markdown",
      "source": [
        "为了方便后期读取，我们把结果存到Ar_fcc.csv的文件中"
      ],
      "metadata": {
        "id": "gWYd4OYZMRFZ"
      },
      "id": "gWYd4OYZMRFZ"
    },
    {
      "cell_type": "code",
      "execution_count": null,
      "id": "de718a28-d64c-48fe-9f52-637a0dc02ae1",
      "metadata": {
        "id": "de718a28-d64c-48fe-9f52-637a0dc02ae1"
      },
      "outputs": [],
      "source": [
        "# Write the extracted a and E values to a CSV file\n",
        "with open('Ar_fcc.csv', 'w') as f:\n",
        "    f.write(\"a,E\\n\")  # Write header\n",
        "    for a, E in matching_lines:\n",
        "        f.write(f\"{a},{E}\\n\")\n"
      ]
    },
    {
      "cell_type": "markdown",
      "source": [
        "进行可视化与二次抛物线拟合"
      ],
      "metadata": {
        "id": "KE9nDcmmNyRy"
      },
      "id": "KE9nDcmmNyRy"
    },
    {
      "cell_type": "code",
      "execution_count": null,
      "id": "cff13203-c807-4358-9aed-ee1de9b1a2a6",
      "metadata": {
        "colab": {
          "base_uri": "https://localhost:8080/",
          "height": 485
        },
        "id": "cff13203-c807-4358-9aed-ee1de9b1a2a6",
        "outputId": "bd43a06b-08a5-4904-d309-a63957e94321"
      },
      "outputs": [
        {
          "output_type": "stream",
          "name": "stdout",
          "text": [
            "a,b,c = 153.45467584089377 -473.9734813931492 357.5047924787406\n",
            "Emin = -8.484154799846067 opt_lat = 1.5443435620188548\n"
          ]
        },
        {
          "output_type": "display_data",
          "data": {
            "text/plain": [
              "<Figure size 640x480 with 1 Axes>"
            ],
            "image/png": "[encoded data removed]"
          },
          "metadata": {}
        }
      ],
      "source": [
        "import numpy as np\n",
        "import pandas as pd\n",
        "import matplotlib.pyplot as plt\n",
        "# 读取数据（之前存储的csv文件）：\n",
        "filename = \"Ar_fcc.csv\"\n",
        "DataFrame = pd.read_csv(filename)\n",
        "lat = np.array(DataFrame['a'])\n",
        "ene = np.array(DataFrame['E'])\n",
        "# 用二次函数拟合：\n",
        "a,b,c = np.polyfit(lat,ene,2)\n",
        "mesh = np.linspace(np.min(lat),np.max(lat),1000)\n",
        "opt_lat = -b/(2*a)\n",
        "Emin = np.polyval([a,b,c], opt_lat)\n",
        "print(\"a,b,c =\",a,b,c)\n",
        "print(\"Emin =\",Emin,\"opt_lat =\",opt_lat)\n",
        "\n",
        "# 数据可视化：\n",
        "plt.scatter(lat, ene, 10)\n",
        "plt.plot(mesh, a*mesh**2+b*mesh+c)\n",
        "plt.xlabel('Lattice parameter')\n",
        "plt.ylabel('Energy')\n",
        "plt.show()\n"
      ]
    },
    {
      "cell_type": "markdown",
      "source": [
        "我们可以在$a=1.57\\sigma$附近明显看到能量的一个阶跃。这个主要是由于LJ势的有限截断导致的。这个a所对应的原子间最近邻距离为$1.11\\sigma$左右。fcc晶体中，前几个近邻原子与最近邻距离的比值分别为：\n",
        "\n",
        "$[1.0,1.4142,1.7321,2.0,2.2361,2.4495,2.8284,3.0,3.1623,3.3166,3.4641,3.6056,3.7417,4.0,...]$\n",
        "\n",
        "其中第12近邻与最近邻的比值为3.6056.当最近邻距离为$1.11\\sigma$时，第12近邻的距离为$4.00\\sigma$。所以当我们的a比$1.57\\sigma$稍大时，第12近邻的相互作用因为截断未有被包含，而当a比$1.57\\sigma$稍小时，第12近邻的相互作用被包含。两者之间的差别导致了$1.57\\sigma$附近的势能曲线不连续。\n",
        "\n",
        "为了消除这里的不连续得到平衡位置附近更为准确的势能曲线，最简单的方法是增大LJ势的截断。我们只需将\n",
        "\n",
        "```\n",
        "pair_style  lj/cut  4.0\n",
        "pair_coeff  1  1  1.0  1.0  4.0\n",
        "```\n",
        "\n",
        "改成\n",
        "```\n",
        "pair_style  lj/cut  8.0\n",
        "pair_coeff  1  1  1.0  1.0  8.0\n",
        "```\n",
        "\n",
        "得到的将是如下的能量曲线图，最优的a=1.542。"
      ],
      "metadata": {
        "id": "15ZnjRBCO0Y8"
      },
      "id": "15ZnjRBCO0Y8"
    },
    {
      "cell_type": "markdown",
      "source": [
        "![image.png](data:image/png;base64,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)"
      ],
      "metadata": {
        "id": "o1YmY3qf-0QF"
      },
      "id": "o1YmY3qf-0QF"
    },
    {
      "cell_type": "markdown",
      "source": [
        "# 4.参考\n",
        "\n",
        "- [《计算材料学：从算法原理到代码实现》单斌、陈征征、陈蓉 著，华中科技大学出版社](http://www.materialssimulation.com/book)"
      ],
      "metadata": {
        "id": "4RmHCjw5L5Wc"
      },
      "id": "4RmHCjw5L5Wc"
    },
    {
      "cell_type": "code",
      "source": [],
      "metadata": {
        "id": "AlHBarMnMEVc"
      },
      "id": "AlHBarMnMEVc",
      "execution_count": null,
      "outputs": []
    }
  ],
  "metadata": {
    "kernelspec": {
      "display_name": "Python 3 (ipykernel)",
      "language": "python",
      "name": "python3"
    },
    "language_info": {
      "codemirror_mode": {
        "name": "ipython",
        "version": 3
      },
      "file_extension": ".py",
      "mimetype": "text/x-python",
      "name": "python",
      "nbconvert_exporter": "python",
      "pygments_lexer": "ipython3",
      "version": "3.10.6"
    },
    "colab": {
      "provenance": []
    }
  },
  "nbformat": 4,
  "nbformat_minor": 5
}