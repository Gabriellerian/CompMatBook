{
  "nbformat": 4,
  "nbformat_minor": 0,
  "metadata": {
    "colab": {
      "provenance": [],
      "authorship_tag": "ABX9TyPaZiuQc3vXBsaUC3SQTm4l"
    },
    "kernelspec": {
      "name": "python3",
      "display_name": "Python 3"
    },
    "language_info": {
      "name": "python"
    }
  },
  "cells": [
    {
      "cell_type": "markdown",
      "source": [
        "# 版权声明\n",
        "\n",
        "版权 © 2023 斯坦福大厨![斯坦福大厨.jpg](data:image/jpeg;base64,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)，华中科技大学微纳材料设计与制造研究中心的科研工作者。\n",
        "\n",
        "恭喜您已经发现了这份神奇的计算材料学课件！这份课件是我在熬夜吃掉不计其数的披萨和咖啡后创作出来的，配套的教材是由单斌、陈征征、陈蓉合著的《计算材料学-从算法原理到代码实现》。学习资料合集您可以在这个网址找到：[www.materialssimulation.com/book](www.materialssimulation.com/book)。希望它能帮您在计算材料学的道路上摔得不那么痛。\n",
        "\n",
        "就像您尊重那些一边烘焙披萨一边写代码的大厨一样，当您使用这份课件时，请：\n",
        "\n",
        "- 记得告诉大家这份课件是斯坦福大厨写的，并且他在华中科技大学微纳中心工作\n",
        "- 别用它去赚大钱，这个课件是用来学习的，不是用来买披萨的\n",
        "- 保持开放共享的精神\n",
        "\n",
        "如果你有关于计算材料学的想法，或者你只是想和我讨论最好吃的披萨口味，欢迎通过邮件 bshan@mail.hust.edu.cn 联系我。\n",
        "![logo_small.jpg](data:image/jpeg;base64,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)"
      ],
      "metadata": {
        "id": "q14U2bjzgPW2"
      }
    },
    {
      "cell_type": "markdown",
      "source": [
        "## Particle 类\n",
        "\n",
        "这个`Particle`类是一个用于表示粒子的类。以下是各部分的详细说明：\n",
        "\n",
        "1. `__init__(self, position)`: 这是类的构造函数，用于初始化Particle类的实例。它接受一个位置参数，并将其转换为一个NumPy数组，然后存储在名为`_position`的私有属性中。\n",
        "\n",
        "2. `__str__(self)`: 这是类的字符串方法，当我们尝试将Particle对象转换为字符串时，会调用它。此方法将返回一个字符串，其中包含粒子的位置信息。\n",
        "\n",
        "3. `@property`: 这是Python的装饰器之一，它将紧随其后的方法定义为获取相应属性的函数。在这个例子中，`position`方法返回私有属性`_position`的值，因此，当你尝试访问`.position`时，实际上调用了这个方法。\n",
        "\n",
        "4. `@position.setter`: 这是另一个装饰器，它将紧随其后的方法定义为设置相应属性的函数。在这个例子中，`position`方法接受一个值，将其转换为NumPy数组，然后将这个数组赋值给`_position`。因此，当你尝试设置`.position`的值时，实际上调用了这个方法。\n",
        "\n",
        "总的来说，这个`Particle`类提供了一种封装粒子位置信息的方法，并且提供了获取和设置位置信息的接口。其中，位置信息被保存为NumPy数组，以便于进行各种数值计算。"
      ],
      "metadata": {
        "id": "tFzR_M15gPG5"
      }
    },
    {
      "cell_type": "code",
      "execution_count": 1,
      "metadata": {
        "id": "6ex9tDVWGtBt"
      },
      "outputs": [],
      "source": [
        "import numpy as np\n",
        "\n",
        "class Particle:\n",
        "    def __init__(self, position):\n",
        "        self._position = np.array(position,dtype=float)\n",
        "\n",
        "    def __str__(self):\n",
        "        return f\"particle position = {self.position}\"\n",
        "\n",
        "    @property\n",
        "    def position(self):\n",
        "        return self._position\n",
        "\n",
        "    @position.setter\n",
        "    def position(self, value):\n",
        "        self._position = np.array(value)\n"
      ]
    },
    {
      "cell_type": "code",
      "source": [
        "p1 = Particle(position=(1.0, 1.0))\n",
        "print(p1)\n",
        "\n",
        "p2 = Particle(position=(9.0, -1.0))\n",
        "print(p2)"
      ],
      "metadata": {
        "colab": {
          "base_uri": "https://localhost:8080/"
        },
        "id": "xXBzxL3AWTQ1",
        "outputId": "e2622b46-4e23-44f8-934e-b2d6fe4c6259"
      },
      "execution_count": 2,
      "outputs": [
        {
          "output_type": "stream",
          "name": "stdout",
          "text": [
            "particle position = [1. 1.]\n",
            "particle position = [ 9. -1.]\n"
          ]
        }
      ]
    },
    {
      "cell_type": "markdown",
      "source": [
        "## Box 类\n",
        "\n",
        "这个`Box`类是用于表示一个盒子的类。以下是各部分的详细说明：\n",
        "\n",
        "1. `__init__(self, lower, upper)`: 这是类的构造函数，用于初始化Box类的实例。它接受两个参数，`lower`和`upper`，分别表示盒子的下界和上界。同时，计算这两个值之间的差并将其赋值给`length`属性，表示盒子的长度。\n",
        "\n",
        "2. `__str__(self)`: 这是类的字符串方法，当我们尝试将Box对象转换为字符串时，会调用它。此方法将返回一个字符串，其中包含盒子的维度（即长度）信息。\n",
        "\n",
        "简单总结，这个`Box`类提供了一种表示盒子的方法，通过盒子的上界和下界来定义盒子，并且还可以获得盒子的长度。\n"
      ],
      "metadata": {
        "id": "1H7FlUMy7R1O"
      }
    },
    {
      "cell_type": "code",
      "source": [
        "class Box:\n",
        "    def __init__(self, lower, upper):\n",
        "        self.lower = np.array(lower,dtype=float)\n",
        "        self.upper = upper\n",
        "        self.length = upper - lower\n",
        "\n",
        "    def __str__(self):\n",
        "        return f\"box dimension {self.length}\""
      ],
      "metadata": {
        "id": "qSJefvMp7YkL"
      },
      "execution_count": 9,
      "outputs": []
    },
    {
      "cell_type": "code",
      "source": [
        "# Define a box\n",
        "box = Box(np.array([0.0, 0.0]), np.array([10.0, 10.0]))\n",
        "print(box)"
      ],
      "metadata": {
        "colab": {
          "base_uri": "https://localhost:8080/"
        },
        "id": "KbfpQYQq7pij",
        "outputId": "5c129063-ad09-447f-8553-266042c9d6b7"
      },
      "execution_count": 10,
      "outputs": [
        {
          "output_type": "stream",
          "name": "stdout",
          "text": [
            "box dimension [10. 10.]\n"
          ]
        }
      ]
    },
    {
      "cell_type": "markdown",
      "source": [
        "## BoundaryCondition 类\n",
        "\n",
        "这个`BoundaryCondition`类是一个用于表示边界条件的抽象基类，其中定义了两个方法，`apply`和`displacement`，但这两个方法都没有实现，抛出了`NotImplementedError`。\n",
        "\n",
        "`PeriodicBoundaryCondition`类继承自`BoundaryCondition`类，实现了周期性边界条件。\n",
        "\n",
        "1. `apply(self, particles: List[Particle], box: Box) -> None`: 这个方法将周期性边界条件应用到系统中的所有粒子上。它接受两个参数：一个是粒子的列表，另一个是表示系统边界的`Box`对象。对于粒子列表中的每一个粒子，此方法会更新其位置，使其符合周期性边界条件。具体操作是，将粒子位置减去盒子的下界，然后对盒子的长度取模，最后再加上盒子的下界。\n",
        "\n",
        "2. `displacement(self, position1: np.ndarray, position2: np.ndarray, box: Box) -> np.ndarray`: 这个方法计算在周期性系统中，两个位置之间的最短位移矢量。它接受三个参数：第一个和第二个是两个粒子的位置，第三个是表示系统边界的`Box`对象。方法首先计算两个位置的差，然后减去这个差和盒子长度的商（四舍五入到最近的整数）与盒子长度的乘积，最后返回这个值，这就是考虑了周期性边界条件的位移短矢量。\n",
        "\n",
        "简单来说，`PeriodicBoundaryCondition`类提供了一种在周期性系统中，处理粒子位置和计算位置间位移的方法。"
      ],
      "metadata": {
        "id": "dUJzTJMR5mfh"
      }
    },
    {
      "cell_type": "code",
      "source": [
        "from typing import List\n",
        "\n",
        "class BoundaryCondition:\n",
        "    \"\"\"Abstract base class for boundary conditions.\"\"\"\n",
        "\n",
        "    def apply(self, particles: List[Particle], box: Box) -> None:\n",
        "        raise NotImplementedError\n",
        "\n",
        "    def displacement(self, position1: np.ndarray, position2: np.ndarray, box: Box) -> np.ndarray:\n",
        "        raise NotImplementedError\n",
        "\n",
        "\n",
        "class PeriodicBoundaryCondition(BoundaryCondition):\n",
        "    \"\"\"Implements periodic boundary conditions.\"\"\"\n",
        "\n",
        "    def apply(self, particles: List[Particle], box: Box)-> None:\n",
        "        \"\"\"\n",
        "        Applies periodic boundary conditions to all particles in the system.\n",
        "\n",
        "        Parameters\n",
        "        ----------\n",
        "        particles : List[Particle]\n",
        "            List of all Particle instances in the system.\n",
        "        box : Box\n",
        "            The Box instance defining the boundaries of the system.\n",
        "\n",
        "        Returns\n",
        "        -------\n",
        "        None\n",
        "\n",
        "        Notes\n",
        "        -----\n",
        "        This method updates the positions of particles in the system\n",
        "        such that they adhere to the periodic boundary conditions.\n",
        "        \"\"\"\n",
        "        for p in particles:\n",
        "            p.position = (p.position - box.lower) % box.length + box.lower\n",
        "\n",
        "\n",
        "    def displacement(self, position1: np.ndarray, position2: np.ndarray, box: Box) -> np.ndarray:\n",
        "        \"\"\"\n",
        "        Computes the shortest displacement vector between two positions in a periodic system.\n",
        "\n",
        "        Parameters\n",
        "        ----------\n",
        "        position1 : np.array\n",
        "            Position of the first particle.\n",
        "        position2 : np.array\n",
        "            Position of the second particle.\n",
        "        box : Box\n",
        "            The box object representing the system's boundary.\n",
        "\n",
        "        Returns\n",
        "        -------\n",
        "        np.array\n",
        "            The displacement vector from position2 to position1 taking into account periodic boundary conditions.\n",
        "        \"\"\"\n",
        "        dr = position1 - position2\n",
        "        dr = dr - np.rint(dr / box.length) * box.length\n",
        "        return dr"
      ],
      "metadata": {
        "id": "6uTBwwIs4ve6"
      },
      "execution_count": 11,
      "outputs": []
    },
    {
      "cell_type": "code",
      "source": [
        "particles = [p1, p2]\n",
        "boundary_condition = PeriodicBoundaryCondition()\n",
        "\n",
        "# output particles before applying boundary condition\n",
        "print('==== Before ====')\n",
        "for particle in particles:\n",
        "    print(particle)\n",
        "\n",
        "print('==== After ====')\n",
        "# output particles after applying boundary condition\n",
        "boundary_condition.apply(particles, box)\n",
        "for particle in particles:\n",
        "    print(particle)\n",
        "\n",
        "print('==== Displacement ====')\n",
        "print('displacement:',boundary_condition.displacement(p1.position, p2.position, box))"
      ],
      "metadata": {
        "colab": {
          "base_uri": "https://localhost:8080/"
        },
        "id": "3YDmrex_XHZ-",
        "outputId": "6611a6c4-fb66-4f37-b1b2-d92a7630bf1d"
      },
      "execution_count": 14,
      "outputs": [
        {
          "output_type": "stream",
          "name": "stdout",
          "text": [
            "==== Before ====\n",
            "particle position = [1. 1.]\n",
            "particle position = [9. 9.]\n",
            "==== After ====\n",
            "particle position = [1. 1.]\n",
            "particle position = [9. 9.]\n",
            "==== Displacement ====\n",
            "displacement: [2. 2.]\n"
          ]
        }
      ]
    }
  ]
}