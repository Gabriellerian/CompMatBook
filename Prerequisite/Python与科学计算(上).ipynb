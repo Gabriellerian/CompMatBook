{
  "cells": [
    {
      "cell_type": "markdown",
      "source": [
        "<div style=\"color:black; background-color:#FFF3E9; border: 1px solid #FFE0C3; border-radius: 10px; margin-bottom:1rem\">\n",
        "    <p style=\"margin:1rem; padding-left: 1rem; line-height: 2.5;\">\n",
        "        ©️ <b><i>Copyright 2023 @ Authors</i></b><br/>\n",
        "        作者：<a style=\"font-weight:bold\" href=\"mailto:bshan@mail.hust.edu.cn\">斯坦福大厨 📨 </a>，<a style=\"font-weight:bold\" href=\"billhew@foxmail.com\">何仁桀 📨 </a><br>\n",
        "        日期：2023-08-09<br/>\n",
        "        <img src=\"https://github.com/stanfordbshan/CompMatBook/blob/main/author.png?raw=true\" width=\"100\"/>\n",
        "        共享协议：本作品采用<a rel=\"license\" href=\"http://creativecommons.org/licenses/by-nc-sa/4.0/\">知识共享署名-非商业性使用-相同方式共享 4.0 国际许可协议</a>进行许可。</i><br/>\n",
        "    </p>\n",
        "</div>\n",
        "\n",
        "恭喜您已经发现了这份神奇的计算材料学课件！这份课件是我在熬夜吃掉不计其数的披萨和咖啡后创作出来的，配套的教材是由单斌、陈征征、陈蓉合著的《计算材料学--从算法原理到代码实现》。学习资料合集您可以在这个网址找到：[www.materialssimulation.com/book](www.materialssimulation.com/book)，您也可以跟着up主[无人问津晦涩难懂的B站视频](https://space.bilibili.com/1111135013/channel/collectiondetail?sid=1458375)一起进行学习。希望它能帮您在计算材料学的道路上摔得不那么痛。\n",
        "\n",
        "就像您尊重那些一边烘焙披萨一边写代码的大厨一样，当您使用这份课件时，请：\n",
        "\n",
        "- 记得告诉大家这份课件是斯坦福大厨写的，并且他在华中科技大学微纳中心工作\n",
        "- 别用它去赚大钱，这个课件是用来学习的，不是用来买披萨的\n",
        "- 保持开放共享的精神\n",
        "\n",
        "\n",
        "\n",
        "\n",
        "如果你有关于计算材料学的想法，或者你只是想和我讨论最好吃的披萨口味，欢迎通过邮件 bshan@mail.hust.edu.cn 联系我。"
      ],
      "metadata": {
        "id": "LJLaHU72jdbf"
      }
    },
    {
      "cell_type": "markdown",
      "metadata": {
        "id": "SOtrqBC-X1YA"
      },
      "source": [
        "# Python 基础 1：基础语法\n",
        "\n",
        "Python 是一种解释型、面向对象、动态数据类型的高级程序设计语言，\n",
        "由 Guido van Rossum 于 1989 年底发明，第一个公开发行版发行于 1991 年。\n",
        "\n",
        "2020 年 1 月 1 日， Python 2 停止更新。Python 2.7 被确定为最后一个 Python 2.x 版本。\n",
        "现在的主流 Python 版本为 Python 3.x。\n",
        "\n",
        "## 注释\n",
        "注释的主要作用是增强代码可读性和生成文档，Python解释器会忽略所有注释。\n",
        "\n",
        "单行注释由任意数量的井号(#)开头，多行注释由三个双引号或三个单引号包围。\n",
        "\n",
        "### 你知道吗\n",
        "Python 其实只有一种注释语法，即用#开头。因为 Python 会忽略未分配给变量的字符串，因此多行字符串可被用于多行注释。"
      ]
    },
    {
      "cell_type": "code",
      "execution_count": null,
      "metadata": {
        "id": "tH-zKwgvX1YF"
      },
      "outputs": [],
      "source": [
        "# 第一个注释\n",
        "print(\"Hello, Python!\")  # 第二个注释"
      ]
    },
    {
      "cell_type": "code",
      "execution_count": null,
      "metadata": {
        "id": "anTGtUFxX1YG"
      },
      "outputs": [],
      "source": [
        "\"\"\"\n",
        "这是多行注释，使用双引号。\n",
        "这是多行注释，使用双引号。\n",
        "\"\"\"\n",
        "\n",
        "'''\n",
        "这是多行注释，使用单引号。\n",
        "这是多行注释，使用单引号。\n",
        "'''"
      ]
    },
    {
      "cell_type": "markdown",
      "metadata": {
        "id": "mSCXFOWsX1YG"
      },
      "source": [
        "## 缩进规则\n",
        "python 用强制缩进来区分代码层级，而非类似Java或C语言的大括号{}.\n",
        "\n",
        "建议使用四个空格来缩进代码，不建议使用制表符（不同终端对制表符的解释不同！）"
      ]
    },
    {
      "cell_type": "code",
      "execution_count": null,
      "metadata": {
        "id": "8uZHIcGoX1YH"
      },
      "outputs": [],
      "source": [
        "# 利用缩进写if/else语句块，判断x与y大小\n",
        "x = float(input(\"Enter a number for x: \"))\n",
        "y = float(input(\"Enter a number for y: \"))\n",
        "if x == y:\n",
        "    print(\"x and y are equal\")\n",
        "print(\"thanks!\")"
      ]
    },
    {
      "cell_type": "markdown",
      "metadata": {
        "id": "UH0aBZ8b95r7"
      },
      "source": [
        "## 标准输出\n",
        "用 `print()` 在括号中加上字符串，就可以向屏幕上输出指定的文字。\n",
        "\n",
        "`print()` 也可接受多个字符串，用“,”隔开。\n",
        "\n",
        "字符串包含有单(双)引号，用双(单)引号表示即可。"
      ]
    },
    {
      "cell_type": "code",
      "execution_count": null,
      "metadata": {
        "id": "N6vLvQs295r7"
      },
      "outputs": [],
      "source": [
        "print(\"This is CompMat\")\t\t # 字符串输出\n",
        "print(\"This\", \"is\", \"CompMat\")\t # 多个字符串输出\n",
        "print('“Hello” in “Quotes”')     # 带引号的字符串输出"
      ]
    },
    {
      "cell_type": "markdown",
      "metadata": {
        "id": "-c7qqjrQ95r8"
      },
      "source": [
        "print函数默认在输出后添加换行符。若不换行，需要在变量末尾加上`end=\"\"`或其他非换行符字符串。\n",
        "\n",
        "使用字符串的format().\n",
        "\n",
        "Python3.6版本引入一种新的格式化方式“f-string”."
      ]
    },
    {
      "cell_type": "code",
      "execution_count": null,
      "metadata": {
        "id": "bELMmuuP95r8"
      },
      "outputs": [],
      "source": [
        "# 含变量的字符串输出\n",
        "x = 11\n",
        "print(x, end=\"***\")  # 字符串输出，以“***”结束\n",
        "print(\"my fav num is\", x, \".\", \"x =\", x)  # 含变量的字符串输出\n",
        "x_str = str(x)  # 将x转换为字符型并赋给x_str\n",
        "print(f\"my fav num is {x_str}. x = {x_str}\")  # f-string格式化输出"
      ]
    },
    {
      "cell_type": "markdown",
      "metadata": {
        "id": "Z-e4GAgQ95r8"
      },
      "source": [
        "## 标准输入\n",
        "`input()` 函数可读入用户输入内容，按字符串类型存储。\n",
        "\n",
        "`input()` 函数可接受一个参数，表示输入时的提示信息。\n"
      ]
    },
    {
      "cell_type": "code",
      "execution_count": null,
      "metadata": {
        "id": "8_r-X7CJ95r9"
      },
      "outputs": [],
      "source": [
        "# input函数的使用\n",
        "text = input(\"Type anything... \")\n",
        "print(type(text))  # 显示数据类型\n",
        "num = int(input(\"Type a number... \"))  # 强制转换为整数\n",
        "print(type(num))  # 输入字符串"
      ]
    },
    {
      "cell_type": "markdown",
      "metadata": {
        "id": "fFqY4oXa95r9"
      },
      "source": [
        "# Python 基础 2：基本数据类型\n",
        "\n",
        "## 变量赋值\n",
        "\n",
        "Python 中的变量不需要声明。\n",
        "\n",
        "每个变量在使用前必须赋值，赋值以后该变量才会被创建。\n",
        "\n",
        "在 Python 中，变量是个对象，没有类型；所谓“类型”是变量所指的内存中对象的类型。\n",
        "\n",
        "等号（=）用来给变量赋值。\n",
        "\n",
        "等号（=）运算符左边是一个变量名；等号（=）运算符右边是存储在变量中的值。\n"
      ]
    },
    {
      "cell_type": "markdown",
      "metadata": {
        "id": "QuRUzAYX95r9"
      },
      "source": [
        "## 基础类型\n",
        "\n",
        "### 布尔（bool）\n",
        "只有 True 和 False 两个值，表示真或假。 True、False 可作为 0、1 与数值类型相加。\n",
        "\n",
        "### 整型（int）\n",
        "整数值，可正数亦可负数。\n",
        "\n",
        "### 浮点型（float）\n",
        "浮点型由整数部分与小数部分组成，浮点型也可以使用科学计数法表示（2.5e2 = 2.5×102 = 250）。\n",
        "\n",
        "### 复数（complex）\n",
        "复数由实数部分和虚数部分构成，可以用a + bj，或者complex(a,b)表示，复数的实部 a 和虚部 b 都是浮点型。\n"
      ]
    },
    {
      "cell_type": "code",
      "execution_count": null,
      "metadata": {
        "id": "mK86W72P95r9"
      },
      "outputs": [],
      "source": [
        "print(type(True), type(False), type(1), type(1.0), type(1 + 1j))"
      ]
    },
    {
      "cell_type": "markdown",
      "metadata": {
        "id": "c64ktQsC95r9"
      },
      "source": [
        "## ``NoneType``\n",
        "\n",
        "Python 有一种特殊的类型，称为“NoneType”。\n",
        "它是一种特殊的构造，用于表示“无”。\n",
        "\n",
        "请注意，当您尝试查看“无”时，您什么也看不到。 这是因为它代表“无”。 你看不到“无”。"
      ]
    },
    {
      "cell_type": "code",
      "execution_count": null,
      "metadata": {
        "id": "wtgOc03B95r9"
      },
      "outputs": [],
      "source": [
        "type(None)"
      ]
    },
    {
      "cell_type": "markdown",
      "metadata": {
        "id": "ZelEaqwc95r-"
      },
      "source": [
        "## 字符串类型（string）\n",
        "\n",
        "双引号与单引号等价；字符串可通过 + 进行拼接。\n"
      ]
    },
    {
      "cell_type": "code",
      "execution_count": null,
      "metadata": {
        "id": "nYN7EwXW95r-"
      },
      "outputs": [],
      "source": [
        "hi = \"hello there\"\n",
        "name = \"Eric\"\n",
        "greet = hi + name\n",
        "greeting = hi + \" \" + name\n",
        "print(greet)\n",
        "print(greeting)"
      ]
    },
    {
      "cell_type": "markdown",
      "metadata": {
        "id": "LjYMZOBH95r-"
      },
      "source": [
        "字符串（string）可以进行索引、切片（与list类似），但不可部分赋值。"
      ]
    },
    {
      "cell_type": "code",
      "execution_count": null,
      "metadata": {
        "id": "6v6hl8YQ95r-"
      },
      "outputs": [],
      "source": [
        "name = \"Eric\"\n",
        "print(3 * name)\n",
        "print(len(name))\n",
        "print(name[1])\n",
        "print(name[1:3])"
      ]
    },
    {
      "cell_type": "markdown",
      "metadata": {
        "id": "h-S40ou595r-"
      },
      "source": [
        "## 序列（sequence）\n",
        "序列是Python中最基本的数据结构。序列中的每个元素都分配一个数字 - 它的位置，或索引，第一个索引是0，第二个索引是1，依此类推。\n",
        "\n",
        "最常见的是列表(list)和元组(tuple)。\n",
        "\n",
        "序列都可以进行的操作包括索引，切片，加，乘，检查。\n",
        "\n",
        "列表的数据项不需要具有相同的类型。"
      ]
    },
    {
      "cell_type": "markdown",
      "metadata": {
        "id": "3dRH4XxE95r-"
      },
      "source": [
        "### 创建列表"
      ]
    },
    {
      "cell_type": "code",
      "execution_count": null,
      "metadata": {
        "id": "BCh_ckzF95r-"
      },
      "outputs": [],
      "source": [
        "list1 = [1, 2, 3, 3, 4, 5]\n",
        "list2 = [\"Google\", \"Bing\", 1997, 2000, True]  # 列表数据类型可以不同\n",
        "list3 = [[1, 2], [3, 4]]  # 列表可以嵌套"
      ]
    },
    {
      "cell_type": "markdown",
      "metadata": {
        "id": "ZcidLrV895r-"
      },
      "source": [
        "### 更新列表"
      ]
    },
    {
      "cell_type": "code",
      "execution_count": null,
      "metadata": {
        "id": "KHlbmJAj95r-"
      },
      "outputs": [],
      "source": [
        "list1[0] = \"baidu\"  # 更新list1的索引0的值\n",
        "list1.append(999)  # 添加到list1\n",
        "print(list1)"
      ]
    },
    {
      "cell_type": "markdown",
      "metadata": {
        "id": "m9rrcvfM95r_"
      },
      "source": [
        "### 删除列表元素"
      ]
    },
    {
      "cell_type": "code",
      "execution_count": null,
      "metadata": {
        "id": "7GhsTq4l95r_"
      },
      "outputs": [],
      "source": [
        "del list1[2]  # 删除索引为2的元素\n",
        "list1.remove(3)  # 删除值为3的元素\n",
        "list1.pop(3)  # 删除索引为3的元素\n",
        "print(list1)"
      ]
    },
    {
      "cell_type": "markdown",
      "metadata": {
        "id": "XK1QY6dl95r_"
      },
      "source": [
        "### 把元素插入到指定的位置"
      ]
    },
    {
      "cell_type": "code",
      "execution_count": null,
      "metadata": {
        "id": "D_Q5yw-q95r_"
      },
      "outputs": [],
      "source": [
        "list1.insert(1, \"Jack\")\n",
        "print(list1, '\\n')"
      ]
    },
    {
      "cell_type": "markdown",
      "metadata": {
        "id": "Y3Li3Bum95r_"
      },
      "source": [
        "### 切片和拼接"
      ]
    },
    {
      "cell_type": "code",
      "execution_count": null,
      "metadata": {
        "id": "MNBA27_J95r_"
      },
      "outputs": [],
      "source": [
        "L = [\"Google\", \"Bing\", 1997, 2000]\n",
        "L2 = [1, 2, 3]\n",
        "print(\"L[0]: \", L[0])  # 索引为0的元素\n",
        "print(\"L[-1]: \", L[-1])  # 索引为-1，即最后一个\n",
        "print(\"L[1:]: \", L[1:])  # 取索引为1的及后面元素\n",
        "print(\"L[1:3]: \", L[1:3])  # 取索引为[1,3)的元素\n",
        "print(\"L + L2: \", L + L2)"
      ]
    },
    {
      "cell_type": "markdown",
      "metadata": {
        "id": "aZxACTI_95r_"
      },
      "source": [
        "### 嵌套列表"
      ]
    },
    {
      "cell_type": "code",
      "execution_count": null,
      "metadata": {
        "id": "CJ8hCqxv95r_"
      },
      "outputs": [],
      "source": [
        "a = ['a', 'b', 'c']\n",
        "n = [1, 2, 3]\n",
        "x = [a, n]\n",
        "print(\"x      :\", x)\n",
        "print(\"x[0]   :\", x[0])\n",
        "print(\"x[0][1]:\", x[0][1])"
      ]
    },
    {
      "cell_type": "markdown",
      "metadata": {
        "id": "6OzvllZt95r_"
      },
      "source": [
        "### Python列表常用函数&方法\n",
        "`len(list)`       列表元素个数\n",
        "\n",
        "`max(list)`     返回列表元素最大值\n",
        "\n",
        "`min(list)`    返回列表元素最小值\n",
        "\n",
        "`list(seq)`     将元组转换为列表\n",
        "\n",
        "`list.append(obj)`   在列表末尾添加新的对象\n",
        "\n",
        "`list.count(obj)`    统计某个元素在列表中出现的次数\n",
        "\n",
        "`list.index(obj)`  从列表中找出某个值第一个匹配项的索引位置\n",
        "\n",
        "`list.reverse()`        反向列表中元素\n"
      ]
    },
    {
      "cell_type": "code",
      "execution_count": null,
      "metadata": {
        "id": "ShMOrj0P95r_"
      },
      "outputs": [],
      "source": [
        "help(len)\n",
        "help(max)\n",
        "help(min)\n",
        "help(list)"
      ]
    },
    {
      "cell_type": "markdown",
      "metadata": {
        "id": "NIQnIKh_95r_"
      },
      "source": [
        "### 元组（tuple）\n",
        "Python 的元组与列表类似，不同之处在于元组的元素不能修改。元组使用小括号，列表使用方括号。"
      ]
    },
    {
      "cell_type": "markdown",
      "metadata": {
        "id": "Ujt_Ef2-95sA"
      },
      "source": [
        "### 集合（set）\n",
        "set跟数学上的集合是一致的，不允许有重复元素，而且可以进行交集、并集、差集等运算。"
      ]
    },
    {
      "cell_type": "code",
      "execution_count": null,
      "metadata": {
        "id": "PULh6xBT95sA"
      },
      "outputs": [],
      "source": [
        "# 创建集合\n",
        "# 使用大括号 { } 或者 set() 函数\n",
        "set1 = set(\"abracadabra\")\n",
        "set2 = {\"a\", \"b\", \"c\"}\n",
        "print(set1, set2)\n",
        "\n",
        "# 添加元素\n",
        "set1.add(\"f\")\n",
        "\n",
        "# 移除元素\n",
        "set1.remove(\"a\")\n",
        "\n",
        "# 数学操作\n",
        "print(set1 & set2) # 交集\n",
        "print(set1 | set2) # 并集\n",
        "print(set1 - set2) # 差集"
      ]
    },
    {
      "cell_type": "markdown",
      "metadata": {
        "id": "UjIWnWmC95sA"
      },
      "source": [
        "## 字典（dictionary）\n",
        "字典是另一种可变容器模型。与列表、集合不同的是，字典的每个元素都是由一个键和一个值组成的“键值对”，键和值通过冒号分开。\n",
        "\n",
        "键必须是唯一的，但值则不必，值可以取任何数据类型，但键必须是不可变的，如字符串，数字，元组。\n"
      ]
    },
    {
      "cell_type": "code",
      "execution_count": null,
      "metadata": {
        "id": "rhR01d7r95sA"
      },
      "outputs": [],
      "source": [
        "dict1 = {\"key1\": 0, \"key2\": 1, \"key3\": (2, 3)}\n",
        "print(dict1)\n",
        "\n",
        "# 访问字典里的值\n",
        "print(dict1[\"key1\"])\n",
        "\n",
        "# 更新字典中的元素\n",
        "dict1[\"key2\"] = 10\n",
        "print(dict1)\n",
        "\n",
        "# 删除字典中的元素\n",
        "del dict1[\"key3\"]\n",
        "print(dict1)"
      ]
    },
    {
      "cell_type": "markdown",
      "metadata": {
        "id": "rNxZqK4O95sA"
      },
      "source": [
        "# Python 基础 3：运算符"
      ]
    },
    {
      "cell_type": "markdown",
      "metadata": {
        "id": "06g378Vm95sB"
      },
      "source": [
        "## 基本运算符\n",
        "\n",
        "|算数运算符|比较运算符|赋值运算符|\n",
        "|:--:|:--:|:--:|\n",
        "|+加|==等于|+=加法赋值|\n",
        "|-减|!=不等于|-=减法赋值|\n",
        "|*乘|>大于|*=乘法赋值|\n",
        "|/除|<小于|/=除法赋值|\n",
        "|//整除|>=大于等于|//=整除赋值|\n",
        "|%取余|<=小于等于|%=取余赋值|\n",
        "|**幂| |**=幂赋值|"
      ]
    },
    {
      "cell_type": "markdown",
      "metadata": {
        "id": "q6XfEYN395sB"
      },
      "source": [
        "## 逻辑运算符\n",
        "\n",
        "|运算符|逻辑表达式|描述|\n",
        "|:--:|:--:|:--:|\n",
        "|and|x and y|如果两个操作数都为True，则返回True；否则返回False|\n",
        "|or|x or y|如果两个操作数中至少有一个为True，则返回True；如果两个操作数都为False，则返回False|\n",
        "|not|not x|用于取反操作，如果操作数为True，则返回False；如果操作数为False，则返回True|"
      ]
    },
    {
      "cell_type": "markdown",
      "metadata": {
        "id": "ANZWCz6L95sB"
      },
      "source": [
        "## 运算符实例\n",
        "\n",
        "### 判断输入数的奇偶"
      ]
    },
    {
      "cell_type": "code",
      "execution_count": null,
      "metadata": {
        "id": "rbUh_xlR95sB"
      },
      "outputs": [],
      "source": [
        "x = int(input(\"Enter an integer:\"))\n",
        "if x % 2 == 0:\n",
        "    print(\"Even\")\n",
        "else:\n",
        "    print(\"Odd\")"
      ]
    },
    {
      "cell_type": "markdown",
      "metadata": {
        "id": "eYlVrgnL95sB"
      },
      "source": [
        "### 判断是否为闰年"
      ]
    },
    {
      "cell_type": "code",
      "execution_count": null,
      "metadata": {
        "id": "Cx8TH0Vg95sB",
        "outputId": "3a0007a8-6437-4d24-b1f2-64f31e7cf924"
      },
      "outputs": [
        {
          "name": "stdout",
          "output_type": "stream",
          "text": [
            "2009 is not leap year\n"
          ]
        }
      ],
      "source": [
        "year = int(input(\"Enter the year:\"))\n",
        "if year % 4 == 0 and year % 100 != 0 or year % 400 == 0:\n",
        "    print(year, \" is leap year\")\n",
        "else:\n",
        "    print(year, \"is not leap year\")"
      ]
    },
    {
      "cell_type": "markdown",
      "metadata": {
        "id": "CRmk6p7b95sC"
      },
      "source": [
        "# Python 基础 4：流程控制"
      ]
    },
    {
      "cell_type": "markdown",
      "metadata": {
        "id": "KPO7ImCB95sC"
      },
      "source": [
        "## 什么是流程控制\n",
        "在进行程序设计的时候，我们会经常进行逻辑判断，根据不同的结果做不同的事，或者重复做某件事，我们对类似这样的工作称为流程控制。\n",
        "\n",
        "### 分类\n",
        "#### 顺序控制    \n",
        "从左到右,从上到下的顺序依次执行每条语句操作。\n",
        "\n",
        "#### 条件控制(选择控制)\n",
        "基于条件选择执行语句，比方说，如果条件成立，则执行操作A，或者如果条件成立，则\t执行操作A，反之则执行操作B。\n",
        "\n",
        "#### 循环控制\n",
        "循环控制，又称为回路控制，根据循环初始条件和终结要求，执行循环体内的操作。\n"
      ]
    },
    {
      "cell_type": "markdown",
      "metadata": {
        "id": "DTPRv_2W95sC"
      },
      "source": [
        "## if语句\n",
        "Python 中用 elif 代替了 else if，所以if语句的关键字为：if – elif – else\n",
        "\n",
        "### 语法\n",
        "```python\n",
        "if <条件1>：\n",
        "    <语句1>\n",
        "elif <条件2>：\n",
        "    <语句2>\n",
        "...\n",
        "else:\n",
        "    <语句n>\n",
        "```"
      ]
    },
    {
      "cell_type": "markdown",
      "metadata": {
        "id": "AKtnYY4e95sC"
      },
      "source": [
        "### 选择控制示例\n"
      ]
    },
    {
      "cell_type": "code",
      "execution_count": null,
      "metadata": {
        "id": "OA7b2Sfx95sC",
        "outputId": "810f2a4d-f14d-45c4-b990-28bc088ab8d2"
      },
      "outputs": [
        {
          "name": "stdout",
          "output_type": "stream",
          "text": [
            "f(7.0) = 16.0\n"
          ]
        }
      ],
      "source": [
        "x = float(input(\"x = \"))\n",
        "if x > 1:\n",
        "    y = 3 * x - 5\n",
        "elif x >= -1:\n",
        "    y = x + 2\n",
        "else:\n",
        "    y = 5 * x + 3\n",
        "print(f\"f({x}) = {y}\")"
      ]
    },
    {
      "cell_type": "markdown",
      "metadata": {
        "id": "9gwicyS895sC"
      },
      "source": [
        "## while循环\n",
        "while 中的 else 是可选的，如果提供了 else 语句，则 else 语句一定执行。除非通过 break 语句退出循环。\n",
        "\n",
        "### 语法\n",
        "```python\n",
        "while <条件>：  \n",
        "    #执行语句\n",
        " ...\n",
        "[else:\n",
        "    #执行语句\n",
        " ...]\n",
        " ```\n"
      ]
    },
    {
      "cell_type": "markdown",
      "metadata": {
        "id": "c3Yuh3Yu95sC"
      },
      "source": [
        "### 示例"
      ]
    },
    {
      "cell_type": "code",
      "execution_count": null,
      "metadata": {
        "id": "pnP9YApR95sC"
      },
      "outputs": [],
      "source": [
        "n = input(\"You are lost in a forest. Go left or right?\")\n",
        "while \"right\" == n:\n",
        "\tn = input(\"You are lost in a forest. Go left or right?\")\n",
        "print(\"You got out of the forest!\")"
      ]
    },
    {
      "cell_type": "markdown",
      "metadata": {
        "id": "omFK9jTN95sD"
      },
      "source": [
        "## for循环\n",
        "可遍历序列成员（字符串，列表，元组）。\n",
        "可遍历任何可迭代对象（字典，文件等）。\n",
        "\n",
        "### 语法\n",
        "```python\n",
        "for <元素> in <序列>:\n",
        "    #语句块\n",
        "```"
      ]
    },
    {
      "cell_type": "code",
      "execution_count": null,
      "metadata": {
        "id": "qtN0VSlx95sD",
        "outputId": "7fd9f63c-576c-4511-a0a1-138a1e39f3d1"
      },
      "outputs": [
        {
          "name": "stdout",
          "output_type": "stream",
          "text": [
            "The sum of odd numbers from 0 to 100: 2500\n"
          ]
        }
      ],
      "source": [
        "sum = 0\n",
        "for i in range(1, 100, 2):\n",
        "    sum += i\n",
        "print(\"The sum of odd numbers from 0 to 100:\", sum)"
      ]
    },
    {
      "cell_type": "code",
      "execution_count": null,
      "metadata": {
        "id": "mIEhW2-o95sD",
        "outputId": "8ee814e0-19ee-47d4-f17c-8590a5a96dda"
      },
      "outputs": [
        {
          "name": "stdout",
          "output_type": "stream",
          "text": [
            "There is an i or u\n",
            "There is an i or u\n"
          ]
        }
      ],
      "source": [
        "# Non Pythonic\n",
        "s = \"abcdefghiu\"\n",
        "for index in range(len(s)): # 通过索引获取元素\n",
        "\tif 'i' == s[index] or 'u' == s[index]:\n",
        "\t\tprint(\"There is an i or u\")"
      ]
    },
    {
      "cell_type": "code",
      "execution_count": null,
      "metadata": {
        "id": "OemZ8c8n95sD",
        "outputId": "b3ded539-9589-4dee-ef1a-e0ce6754e21a"
      },
      "outputs": [
        {
          "name": "stdout",
          "output_type": "stream",
          "text": [
            "There is an i or u\n",
            "There is an i or u\n"
          ]
        }
      ],
      "source": [
        "# Pythonic √\n",
        "for char in s: # 直接从字符串中取出元素\n",
        "\tif 'i' == char or 'u' == char:\n",
        "\t\tprint(\"There is an i or u\")"
      ]
    },
    {
      "cell_type": "markdown",
      "metadata": {
        "id": "-THB16uN95sD"
      },
      "source": [
        "### 关于range()\n",
        "range(start, stop[, step])\n",
        "返回的是一个可遍历序列对象, 计数区间为\n",
        "[start, stop), 两个数间隔（步长）为step\n"
      ]
    },
    {
      "cell_type": "code",
      "execution_count": null,
      "metadata": {
        "id": "VEdE9uE_95sD",
        "outputId": "d132bfb3-7e3b-4627-9e5f-ba21d5bd2402"
      },
      "outputs": [
        {
          "name": "stdout",
          "output_type": "stream",
          "text": [
            "Help on class range in module builtins:\n",
            "\n",
            "class range(object)\n",
            " |  range(stop) -> range object\n",
            " |  range(start, stop[, step]) -> range object\n",
            " |  \n",
            " |  Return an object that produces a sequence of integers from start (inclusive)\n",
            " |  to stop (exclusive) by step.  range(i, j) produces i, i+1, i+2, ..., j-1.\n",
            " |  start defaults to 0, and stop is omitted!  range(4) produces 0, 1, 2, 3.\n",
            " |  These are exactly the valid indices for a list of 4 elements.\n",
            " |  When step is given, it specifies the increment (or decrement).\n",
            " |  \n",
            " |  Methods defined here:\n",
            " |  \n",
            " |  __bool__(self, /)\n",
            " |      True if self else False\n",
            " |  \n",
            " |  __contains__(self, key, /)\n",
            " |      Return key in self.\n",
            " |  \n",
            " |  __eq__(self, value, /)\n",
            " |      Return self==value.\n",
            " |  \n",
            " |  __ge__(self, value, /)\n",
            " |      Return self>=value.\n",
            " |  \n",
            " |  __getattribute__(self, name, /)\n",
            " |      Return getattr(self, name).\n",
            " |  \n",
            " |  __getitem__(self, key, /)\n",
            " |      Return self[key].\n",
            " |  \n",
            " |  __gt__(self, value, /)\n",
            " |      Return self>value.\n",
            " |  \n",
            " |  __hash__(self, /)\n",
            " |      Return hash(self).\n",
            " |  \n",
            " |  __iter__(self, /)\n",
            " |      Implement iter(self).\n",
            " |  \n",
            " |  __le__(self, value, /)\n",
            " |      Return self<=value.\n",
            " |  \n",
            " |  __len__(self, /)\n",
            " |      Return len(self).\n",
            " |  \n",
            " |  __lt__(self, value, /)\n",
            " |      Return self<value.\n",
            " |  \n",
            " |  __ne__(self, value, /)\n",
            " |      Return self!=value.\n",
            " |  \n",
            " |  __reduce__(...)\n",
            " |      Helper for pickle.\n",
            " |  \n",
            " |  __repr__(self, /)\n",
            " |      Return repr(self).\n",
            " |  \n",
            " |  __reversed__(...)\n",
            " |      Return a reverse iterator.\n",
            " |  \n",
            " |  count(...)\n",
            " |      rangeobject.count(value) -> integer -- return number of occurrences of value\n",
            " |  \n",
            " |  index(...)\n",
            " |      rangeobject.index(value) -> integer -- return index of value.\n",
            " |      Raise ValueError if the value is not present.\n",
            " |  \n",
            " |  ----------------------------------------------------------------------\n",
            " |  Static methods defined here:\n",
            " |  \n",
            " |  __new__(*args, **kwargs) from builtins.type\n",
            " |      Create and return a new object.  See help(type) for accurate signature.\n",
            " |  \n",
            " |  ----------------------------------------------------------------------\n",
            " |  Data descriptors defined here:\n",
            " |  \n",
            " |  start\n",
            " |  \n",
            " |  step\n",
            " |  \n",
            " |  stop\n",
            "\n"
          ]
        }
      ],
      "source": [
        "help(range)"
      ]
    },
    {
      "cell_type": "markdown",
      "metadata": {
        "id": "70m7ALj-95sD"
      },
      "source": [
        "## 其他流程控制关键词\n",
        "### break\n",
        "用在for循环和while循环语句中。break语句是会立即退出循环，在其后边的循环代码不会被执行。\n",
        "\n",
        "### continue\n",
        "使循环跳过其主体的剩余部分，并立即进入下一次循环。\n",
        "\n",
        "### pass\n",
        "当语法需要但不需要执行任何命令或代码时，Python中就可以使用pass语句，此语句什么也不做，用于表示“占位”的代码。\n"
      ]
    },
    {
      "cell_type": "code",
      "execution_count": null,
      "metadata": {
        "id": "y85aOuYT95sE",
        "outputId": "edc67f58-5fbf-422b-ce18-d70627b78037"
      },
      "outputs": [
        {
          "name": "stdout",
          "output_type": "stream",
          "text": [
            "1\n",
            "3\n",
            "5\n",
            "---------\n",
            "1\n",
            "2\n",
            "---------\n",
            "1\n",
            "2\n",
            "3\n",
            "4\n",
            "5\n",
            "---------\n"
          ]
        }
      ],
      "source": [
        "numbers = [1, 2, 3, 4, 5]\n",
        "for num in numbers:\n",
        "    if num % 2 == 0:\n",
        "        continue\n",
        "    print(num)\n",
        "print(\"-\" * 9)\n",
        "for num in numbers:\n",
        "    if num == 3:\n",
        "        break\n",
        "    print(num)\n",
        "print(\"-\" * 9)\n",
        "for num in numbers:\n",
        "    if num == 3:\n",
        "        pass\n",
        "    print(num)\n",
        "print(\"-\" * 9)"
      ]
    },
    {
      "cell_type": "markdown",
      "metadata": {
        "id": "hR02Zv9U95sE"
      },
      "source": [
        "## 列表推导式\n",
        "利用列表推导式能更简单的创建列表的方法，语法如下：\n",
        "\n",
        "`[表达式 for 迭代变量 in 可迭代对象 [if 条件表达式] ]`"
      ]
    },
    {
      "cell_type": "code",
      "execution_count": null,
      "metadata": {
        "id": "Jj1klBpO95sE",
        "outputId": "26ac0b95-1469-46d1-ac79-38497d2a0bd8"
      },
      "outputs": [
        {
          "name": "stdout",
          "output_type": "stream",
          "text": [
            "[1, 4, 9, 16, 25, 36]\n",
            "[4, 16, 36]\n"
          ]
        }
      ],
      "source": [
        "x = [1, 2, 3, 4, 5, 6]\n",
        "out1 = [n ** 2 for n in x]\n",
        "print(out1) # [1, 4, 9, 16, 25, 36]\n",
        "out2 = [n ** 2 for n in x if n % 2 == 0]\n",
        "print(out2) # [4, 16, 36]"
      ]
    },
    {
      "cell_type": "markdown",
      "metadata": {
        "id": "jXTMaVXU95sE"
      },
      "source": [
        "# Python 基础 5：函数\n",
        "\n",
        "## 什么是函数（function）？\n",
        "如果我们再开发程序的时候，某一段代码，需要执行很多次，但是为了提高编写的效率以及代码的复用，所以我们把这一段代码封装成一个模块，这个就是函数。\n",
        "\n",
        "## 函数的作用\n",
        "\n",
        "函数能提高应用的模块性，和代码的重复利用率。\n",
        "\n",
        "注：Python提供了许多内置函数(built-in function)，比如`print()`。但你也可以自己创建函数，这被叫做用户自定义函数。\n",
        "\n",
        "[内置函数-Python官方文档](https://docs.python.org/zh-cn/3/library/functions.html)"
      ]
    },
    {
      "cell_type": "markdown",
      "metadata": {
        "id": "n2k1yA-E95sE"
      },
      "source": [
        "## 定义一个普通函数\n",
        "### 语法\n",
        "```python\n",
        "def 函数名(参数1，参数2，参数3....):\n",
        "​    <函数体>\n",
        "​    [<返回值>]\n",
        "```\n",
        "\n",
        "说明：\n",
        "1. 函数由两部分组成：声明部分和实现部分.\n",
        "2. 函数名：类似于变量名，尽量做到顾名思义.\n",
        "3. 参数1，参数2，参数3.... ：参数列表【形式参数，简称为形参】，其实本质上就是一个变量名.\n",
        "4. 函数体：封装的功能代码.\n",
        "5. 返回值：一般用于结束函数，可有可无，如果有返回值，则表示将相关的信息携带出去，携带给调用者，如果没有返回值，则相当于返回None​.\n"
      ]
    },
    {
      "cell_type": "markdown",
      "metadata": {
        "id": "euqzJSbp95sE"
      },
      "source": [
        "## lambda函数\n",
        "Lambda是一种不需要名字（即标识符）、由一个单独表达式成的匿名内联函数，表达式会在调用时被求值。\n",
        "\n",
        "在Python中，创建 lambda 函数的语法为：\n",
        "\n",
        "`lambda [parameters]: expression`\n",
        "\n",
        "也就是说lambda函数包含三个部分：\n",
        "\n",
        "关键字lamdbda；\n",
        "\n",
        "参数；\n",
        "\n",
        "函数体.\n",
        "\n",
        "lambda函数可以包含任意多的参数，但是函数体部分只能包含一个表达式。"
      ]
    },
    {
      "cell_type": "markdown",
      "metadata": {
        "id": "ghMeGutD95sE"
      },
      "source": [
        "## 函数调用\n",
        "要调用一个普通函数，需要知道函数的名称和参数。\n",
        "\n",
        "调用一个lambda函数则不需要知道函数的名称"
      ]
    },
    {
      "cell_type": "code",
      "execution_count": null,
      "metadata": {
        "id": "bawGe9xi95sF",
        "outputId": "829b701a-516a-4aa7-a2c0-c043245400e2"
      },
      "outputs": [
        {
          "name": "stdout",
          "output_type": "stream",
          "text": [
            " False\n"
          ]
        }
      ],
      "source": [
        "def is_even(i):  # 函数名和参数\n",
        "    \"\"\"\n",
        "    Input: i, a positive int\n",
        "    Returns True if i is even, otherwise False\n",
        "    \"\"\"\n",
        "    return 0 == i % 2  # 函数体\n",
        "\n",
        "\n",
        "print(\"\", is_even(3))  # 函数调用"
      ]
    },
    {
      "cell_type": "code",
      "execution_count": null,
      "metadata": {
        "id": "KzKBMGvj95sF",
        "outputId": "2ee47679-a198-4ce3-c85d-e036c3207d42"
      },
      "outputs": [
        {
          "data": {
            "text/plain": [
              "6"
            ]
          },
          "execution_count": 1,
          "metadata": {},
          "output_type": "execute_result"
        }
      ],
      "source": [
        "(lambda x: x*2)(3) # calculate 3*2"
      ]
    },
    {
      "cell_type": "markdown",
      "metadata": {
        "id": "b-YLbb5195sF"
      },
      "source": [
        "## 默认参数\n",
        "函数的参数可以有一个默认值，默认参数以赋值语句的形式提供。\n",
        "\n",
        "函数调用时如果没有提供这个参数， 它就取这个值做为默认值。\n"
      ]
    },
    {
      "cell_type": "code",
      "execution_count": null,
      "metadata": {
        "id": "7ItCY_jI95sF",
        "outputId": "5d92efaf-1d1a-49bb-efbf-3d508ce21ac2"
      },
      "outputs": [
        {
          "name": "stdout",
          "output_type": "stream",
          "text": [
            "3\n",
            "4\n"
          ]
        }
      ],
      "source": [
        "def my_abs(x=3):\n",
        "    if x >= 0:\n",
        "        return x\n",
        "    else:\n",
        "        return -x\n",
        "\n",
        "\n",
        "print(my_abs())\n",
        "print(my_abs(-4))"
      ]
    },
    {
      "cell_type": "markdown",
      "metadata": {
        "id": "F5u3k_Xa95sF"
      },
      "source": [
        "## 位置参数\n",
        "一个函数可以有多个参数，各个参数用逗号隔开。\n",
        "\n",
        "在定义函数时有N个参数，在调用时，也需要提供N个参数。\n"
      ]
    },
    {
      "cell_type": "code",
      "execution_count": null,
      "metadata": {
        "id": "S9iW89Gc95sF",
        "outputId": "caf221a2-0f86-47fb-e52b-6ba04455ea6e"
      },
      "outputs": [
        {
          "name": "stdout",
          "output_type": "stream",
          "text": [
            "10\n"
          ]
        }
      ],
      "source": [
        "def my_max(number1, number2):\n",
        "    if number1 > number2:\n",
        "        print(number1)\n",
        "    else:\n",
        "        print(number2)\n",
        "\n",
        "\n",
        "my_max(4, 10)"
      ]
    },
    {
      "cell_type": "markdown",
      "metadata": {
        "id": "zLhaFCMA95sF"
      },
      "source": [
        "## 关键字参数\n",
        "如果在函数里面，定义了10个参数，那每次必须都要按照位置写，容易造成混乱。这时候，我们可以用关键字参数。使用关键字参数允许函数调用时参数的顺序与声明时不一致。"
      ]
    },
    {
      "cell_type": "code",
      "execution_count": null,
      "metadata": {
        "id": "F9iXVQXu95sG",
        "outputId": "fb86dc41-a248-4d74-87df-e3bd77da6cad"
      },
      "outputs": [
        {
          "name": "stdout",
          "output_type": "stream",
          "text": [
            " DaChu喜欢Python\n",
            " Python喜欢DaChu\n",
            " DaChu喜欢Python\n"
          ]
        }
      ],
      "source": [
        "def my_hobby(name, hobby):\n",
        "    print(\"\", name + \"喜欢\" + hobby)\n",
        "\n",
        "\n",
        "my_hobby(\"DaChu\", \"Python\")\n",
        "my_hobby(\"Python\", \"DaChu\")\n",
        "my_hobby(hobby=\"Python\", name=\"DaChu\")"
      ]
    },
    {
      "cell_type": "markdown",
      "metadata": {
        "id": "lW0PBAKo95sG"
      },
      "source": [
        "## 函数进阶\n",
        "\n",
        "关于任意数量参数、解包、*args、**kwargs等等，参考：\n",
        "\n",
        "[任意实参列表-Python官方文档](https://docs.python.org/zh-cn/3/tutorial/controlflow.html#arbitrary-argument-lists)"
      ]
    }
  ],
  "metadata": {
    "colab": {
      "provenance": []
    },
    "kernelspec": {
      "display_name": "Python 3.10.4 ('.venv': venv)",
      "language": "python",
      "name": "python3"
    },
    "language_info": {
      "codemirror_mode": {
        "name": "ipython",
        "version": 3
      },
      "file_extension": ".py",
      "mimetype": "text/x-python",
      "name": "python",
      "nbconvert_exporter": "python",
      "pygments_lexer": "ipython3",
      "version": "3.11.5"
    },
    "vscode": {
      "interpreter": {
        "hash": "2b6321f114262a668a025fb0ceb1e7d0ad7c489914a09795a0a6a6365b862676"
      }
    }
  },
  "nbformat": 4,
  "nbformat_minor": 0
}