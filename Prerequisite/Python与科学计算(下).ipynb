{
  "cells": [
    {
      "cell_type": "markdown",
      "source": [
        "<div style=\"color:black; background-color:#FFF3E9; border: 1px solid #FFE0C3; border-radius: 10px; margin-bottom:1rem\">\n",
        "    <p style=\"margin:1rem; padding-left: 1rem; line-height: 2.5;\">\n",
        "        ©️ <b><i>Copyright 2023 @ Authors</i></b><br/>\n",
        "        作者：<a style=\"font-weight:bold\" href=\"mailto:bshan@mail.hust.edu.cn\">斯坦福大厨 📨 </a>，<a style=\"font-weight:bold\" href=\"2514130878@qq.com\">俞毅 📨 </a><br>\n",
        "        日期：2023-09-03<br/>\n",
        "        <img src=\"https://github.com/stanfordbshan/CompMatBook/blob/main/author.png?raw=true\" width=\"100\"/>\n",
        "        共享协议：本作品采用<a rel=\"license\" href=\"http://creativecommons.org/licenses/by-nc-sa/4.0/\">知识共享署名-非商业性使用-相同方式共享 4.0 国际许可协议</a>进行许可。</i><br/>\n",
        "    </p>\n",
        "</div>\n",
        "\n",
        "恭喜您已经发现了这份神奇的计算材料学课件！这份课件是我在熬夜吃掉不计其数的披萨和咖啡后创作出来的，配套的教材是由单斌、陈征征、陈蓉合著的《计算材料学--从算法原理到代码实现》。学习资料合集您可以在这个网址找到：[www.materialssimulation.com/book](www.materialssimulation.com/book)，您也可以跟着up主[无人问津晦涩难懂的B站视频](https://space.bilibili.com/1111135013/channel/collectiondetail?sid=1458375)一起进行学习。希望它能帮您在计算材料学的道路上摔得不那么痛。\n",
        "\n",
        "就像您尊重那些一边烘焙披萨一边写代码的大厨一样，当您使用这份课件时，请：\n",
        "\n",
        "- 记得告诉大家这份课件是斯坦福大厨写的，并且他在华中科技大学微纳中心工作\n",
        "- 别用它去赚大钱，这个课件是用来学习的，不是用来买披萨的\n",
        "- 保持开放共享的精神\n",
        "\n",
        "\n",
        "\n",
        "\n",
        "如果你有关于计算材料学的想法，或者你只是想和我讨论最好吃的披萨口味，欢迎通过邮件 bshan@mail.hust.edu.cn 联系我。"
      ],
      "metadata": {
        "id": "Na9bA-0IGCur"
      }
    },
    {
      "cell_type": "markdown",
      "metadata": {
        "id": "rpmQyAf7GB6-"
      },
      "source": [
        "# Numpy简介"
      ]
    },
    {
      "cell_type": "markdown",
      "metadata": {
        "id": "xj5CgOguGB7A"
      },
      "source": [
        "\n",
        "### 一、基本概念\n",
        "Numpy 的核心是连续的多维数组。  \n",
        "Numpy中的数组叫做```np.ndarray```，也可以使用别名```np.array```。  \n",
        "但这里的np.array与Python标准库中的array.array是不同的。\n",
        "下列是几个```ndarray```中的重要属性：  \n",
        "\n",
        "**ndarray.ndim**  \n",
        "　　数组的维数。  \n",
        "**ndarray.shape**  \n",
        "　　数组的形状。  \n",
        "**ndarray.size**  \n",
        "　　数组的元素个数。  \n",
        "**ndarray.dtype**  \n",
        "　　数组的元素类型。  \n",
        "  \n",
        "例子：  "
      ]
    },
    {
      "cell_type": "code",
      "execution_count": null,
      "metadata": {
        "ExecuteTime": {
          "end_time": "2018-01-06T10:13:15.508912Z",
          "start_time": "2018-01-06T10:13:15.410282Z"
        },
        "id": "nZwpCiPHGB7A",
        "outputId": "ef8b2136-e183-43f2-b185-bf638967576f"
      },
      "outputs": [
        {
          "name": "stdout",
          "output_type": "stream",
          "text": [
            "[[ 0  1  2  3  4]\n",
            " [ 5  6  7  8  9]\n",
            " [10 11 12 13 14]]\n",
            "(3, 5)\n",
            "2\n",
            "15\n",
            "int32\n"
          ]
        }
      ],
      "source": [
        "import numpy as np\n",
        "data=np.arange(15).reshape(3,5)\n",
        "print(data)\n",
        "print(data.shape)\n",
        "print(data.ndim)\n",
        "print(data.size)\n",
        "print(data.dtype.name)"
      ]
    },
    {
      "cell_type": "markdown",
      "metadata": {
        "id": "EyIIh682GB7B"
      },
      "source": [
        "###  二、数组的创建\n",
        "创建数组有多种方式。你可以使用```np.array```直接用Python的元组和列表来创建。"
      ]
    },
    {
      "cell_type": "code",
      "execution_count": null,
      "metadata": {
        "ExecuteTime": {
          "end_time": "2018-01-06T10:13:17.093467Z",
          "start_time": "2018-01-06T10:13:17.076436Z"
        },
        "id": "MYze0QVxGB7B",
        "outputId": "54556588-01e3-48b5-9a4f-d4ffdf7b27ae"
      },
      "outputs": [
        {
          "name": "stdout",
          "output_type": "stream",
          "text": [
            "int32\n",
            "float64\n",
            "[[1.  2.  3. ]\n",
            " [4.5 5.  6. ]]\n",
            "[[1.+0.j 2.+0.j]\n",
            " [3.+0.j 4.+0.j]]\n"
          ]
        }
      ],
      "source": [
        "import numpy as np\n",
        "a=np.array([1,2,3])\n",
        "print(a.dtype)\n",
        "b=np.array([1.1,2.2,3.3])\n",
        "print(b.dtype)\n",
        "c=np.array([(1,2,3),(4.5,5,6)]) #创建二维数组\n",
        "print(c)\n",
        "d=np.array([(1,2),(3,4)],dtype=complex) #数组的类型可以在创建时显式声明\n",
        "print(d)"
      ]
    },
    {
      "cell_type": "markdown",
      "metadata": {
        "id": "HHuo9sIGGB7B"
      },
      "source": [
        "通常，数组的元素的未知的，但是形状确实已知的。所以NumPy提供了多种创建空数组的方法。  \n",
        "```np.zeros``` 创建全是0的数组。  \n",
        "```np.ones``` 创建全是1的数组。  \n",
        "```np.empty``` 创建初始值是随机数的数组。  \n",
        "需要注意的是上述方法创建的数组元素的类型是 ```float64```"
      ]
    },
    {
      "cell_type": "code",
      "execution_count": null,
      "metadata": {
        "ExecuteTime": {
          "end_time": "2018-01-06T10:13:18.701291Z",
          "start_time": "2018-01-06T10:13:18.690262Z"
        },
        "id": "XgNg7a4dGB7B",
        "outputId": "9eb7cd8b-2c0e-4fea-9fff-3343359a784a"
      },
      "outputs": [
        {
          "name": "stdout",
          "output_type": "stream",
          "text": [
            "[[0. 0. 0. 0.]\n",
            " [0. 0. 0. 0.]\n",
            " [0. 0. 0. 0.]]\n",
            "[[[1 1 1 1]\n",
            "  [1 1 1 1]\n",
            "  [1 1 1 1]]\n",
            "\n",
            " [[1 1 1 1]\n",
            "  [1 1 1 1]\n",
            "  [1 1 1 1]]]\n",
            "[[1.  2.  3. ]\n",
            " [4.5 5.  6. ]]\n"
          ]
        }
      ],
      "source": [
        "e=np.zeros((3,4))\n",
        "print(e)\n",
        "f=np.ones((2,3,4),dtype=np.int16)#可以更改数据类型\n",
        "print(f)\n",
        "g=np.empty((2,3))\n",
        "print(g)"
      ]
    },
    {
      "cell_type": "markdown",
      "metadata": {
        "id": "okc9LPnDGB7B"
      },
      "source": [
        "为了创建列表，NumPy提供了和 ```range``` 类似的函数。  \n",
        "```np.arange(start,end,step)```"
      ]
    },
    {
      "cell_type": "code",
      "execution_count": null,
      "metadata": {
        "ExecuteTime": {
          "end_time": "2018-01-06T10:13:20.256614Z",
          "start_time": "2018-01-06T10:13:20.249595Z"
        },
        "id": "cPs_cQe9GB7C",
        "outputId": "9219cd1c-ea8d-43fb-81cc-8ab4f7ec4957"
      },
      "outputs": [
        {
          "name": "stdout",
          "output_type": "stream",
          "text": [
            "[10 15 20 25]\n",
            "[0.  0.3 0.6 0.9 1.2 1.5 1.8]\n"
          ]
        }
      ],
      "source": [
        "a=np.arange(10,30,5)\n",
        "print(a)\n",
        "b=np.arange(0,2,0.3)#同样可以接收浮点数\n",
        "print(b)"
      ]
    },
    {
      "cell_type": "markdown",
      "metadata": {
        "id": "-ObgRgMJGB7C"
      },
      "source": [
        "在生成浮点数列表时，最好不要使用```np.arange```，而是使用```np.linspace```。  \n",
        "```np.linspace(start,stop,num)```"
      ]
    },
    {
      "cell_type": "code",
      "execution_count": null,
      "metadata": {
        "ExecuteTime": {
          "end_time": "2018-01-06T10:13:22.146904Z",
          "start_time": "2018-01-06T10:13:22.132868Z"
        },
        "id": "0PJ0NepiGB7C",
        "outputId": "7f721363-e293-427a-92d9-5607a5e278a5"
      },
      "outputs": [
        {
          "data": {
            "text/plain": [
              "array([0.  , 0.25, 0.5 , 0.75, 1.  , 1.25, 1.5 , 1.75, 2.  ])"
            ]
          },
          "execution_count": 5,
          "metadata": {},
          "output_type": "execute_result"
        }
      ],
      "source": [
        "np.linspace(0,2,9)"
      ]
    },
    {
      "cell_type": "markdown",
      "metadata": {
        "ExecuteTime": {
          "end_time": "2018-01-06T08:16:41.728753Z",
          "start_time": "2018-01-06T08:16:41.719703Z"
        },
        "id": "bNBE7iQnGB7C"
      },
      "source": [
        "### 三、打印数组\n",
        "当你打印一个数组时，NumPy显示数组的方式和嵌套的列表类似，但是会遵循以下布局：\n",
        " - 最后一维从左到右显示\n",
        " - 第二维到最后一维从上到下显示\n",
        " - 剩下的同样从上到下显示，以空行分隔\n",
        "\n",
        "一维数组显示成一行，二维数组显示成矩阵，三维数组显示成矩阵的列表。\n",
        "    "
      ]
    },
    {
      "cell_type": "code",
      "execution_count": null,
      "metadata": {
        "ExecuteTime": {
          "end_time": "2018-01-06T10:13:23.582619Z",
          "start_time": "2018-01-06T10:13:23.574596Z"
        },
        "id": "o_FpwDyCGB7C",
        "outputId": "af692f24-a1f9-4bcc-e87e-8b08e03e26f5"
      },
      "outputs": [
        {
          "name": "stdout",
          "output_type": "stream",
          "text": [
            "[0 1 2 3 4 5]\n",
            "[[ 0  1  2]\n",
            " [ 3  4  5]\n",
            " [ 6  7  8]\n",
            " [ 9 10 11]]\n",
            "[[[ 0  1  2  3]\n",
            "  [ 4  5  6  7]\n",
            "  [ 8  9 10 11]]\n",
            "\n",
            " [[12 13 14 15]\n",
            "  [16 17 18 19]\n",
            "  [20 21 22 23]]]\n"
          ]
        }
      ],
      "source": [
        "a=np.arange(6)\n",
        "print(a)\n",
        "b=np.arange(12).reshape(4,3)\n",
        "print(b)\n",
        "c=np.arange(24).reshape(2,3,4)\n",
        "print(c)"
      ]
    },
    {
      "cell_type": "markdown",
      "metadata": {
        "ExecuteTime": {
          "end_time": "2018-01-06T08:20:26.779079Z",
          "start_time": "2018-01-06T08:20:26.773063Z"
        },
        "id": "t_yjLDaUGB7C"
      },
      "source": [
        "当一个数组元素太多，不方便显示时，NumPy会自动数组的中间部分，只显示边角的数据。"
      ]
    },
    {
      "cell_type": "code",
      "execution_count": null,
      "metadata": {
        "ExecuteTime": {
          "end_time": "2018-01-06T10:13:24.971984Z",
          "start_time": "2018-01-06T10:13:24.966998Z"
        },
        "id": "b6xIv8YOGB7D",
        "outputId": "e1ab5c8e-1042-4ffe-8276-088ab4c32da8"
      },
      "outputs": [
        {
          "name": "stdout",
          "output_type": "stream",
          "text": [
            "[   0    1    2 ... 9997 9998 9999]\n"
          ]
        }
      ],
      "source": [
        "print(np.arange(10000))"
      ]
    },
    {
      "cell_type": "markdown",
      "metadata": {
        "id": "r9ueePvyGB7D"
      },
      "source": [
        "### 四、基本操作\n",
        "数组的算数计算是在元素层级运算的。计算结果会存在一个新创建的数组中。"
      ]
    },
    {
      "cell_type": "code",
      "execution_count": null,
      "metadata": {
        "ExecuteTime": {
          "end_time": "2018-01-06T10:13:26.373878Z",
          "start_time": "2018-01-06T10:13:26.363841Z"
        },
        "id": "QU31JmVCGB7D",
        "outputId": "6b01ebeb-0a24-444c-fe3f-4cd59bca088a"
      },
      "outputs": [
        {
          "name": "stdout",
          "output_type": "stream",
          "text": [
            "[0 1 2 3]\n",
            "[20 29 38 47]\n",
            "[0 1 4 9]\n",
            "[ 9.12945251 -9.88031624  7.4511316  -2.62374854]\n",
            "[ True  True False False]\n"
          ]
        }
      ],
      "source": [
        "import numpy as np\n",
        "a=np.array([20,30,40,50])\n",
        "b=np.arange(4)\n",
        "print(b)\n",
        "c=a-b\n",
        "print(c)\n",
        "print(b**2)\n",
        "print(10*np.sin(a))\n",
        "print(a<35)"
      ]
    },
    {
      "cell_type": "markdown",
      "metadata": {
        "id": "EcZJoLfBGB7D"
      },
      "source": [
        "在NumPy中```*```号仍然表示乘法，矩阵乘积用```np.dot```来计算。"
      ]
    },
    {
      "cell_type": "code",
      "execution_count": null,
      "metadata": {
        "ExecuteTime": {
          "end_time": "2018-01-06T10:13:27.856146Z",
          "start_time": "2018-01-06T10:13:27.846118Z"
        },
        "id": "6WPVTG2pGB7D",
        "outputId": "7197082a-7765-4ff7-baed-63680f26cf49"
      },
      "outputs": [
        {
          "name": "stdout",
          "output_type": "stream",
          "text": [
            "[[2 0]\n",
            " [0 4]]\n",
            "[[5 4]\n",
            " [3 4]]\n",
            "[[5 4]\n",
            " [3 4]]\n"
          ]
        }
      ],
      "source": [
        "A=np.array([(1,1),(0,1)])\n",
        "B=np.array([(2,0),(3,4)])\n",
        "print(A*B)  #对应数字相乘\n",
        "print(A.dot(B))\n",
        "print(np.dot(A,B))   #矩阵相乘"
      ]
    },
    {
      "cell_type": "markdown",
      "metadata": {
        "id": "7LzPRxgYGB7D"
      },
      "source": [
        "类似于```+=```和```*=```的运算是直接在现有数组上计算的，没有创建新的数组。Numpy中的计算同样也是向上转型的，可以简单理解成浮点数和整数运算的结果是浮点数。"
      ]
    },
    {
      "cell_type": "code",
      "execution_count": null,
      "metadata": {
        "ExecuteTime": {
          "end_time": "2018-01-06T10:13:29.189724Z",
          "start_time": "2018-01-06T10:13:29.178692Z"
        },
        "id": "MxYi874jGB7D",
        "outputId": "3a2d73a3-0d0e-4215-865f-c267fc492e5d"
      },
      "outputs": [
        {
          "name": "stdout",
          "output_type": "stream",
          "text": [
            "[[3 3 3]\n",
            " [3 3 3]]\n",
            "[[3.44984481 3.80120497 3.03994149]\n",
            " [3.06733613 3.61876504 3.7466592 ]]\n"
          ]
        }
      ],
      "source": [
        "a = np.ones((2,3), dtype=int)\n",
        "b = np.random.random((2,3))\n",
        "a*=3\n",
        "print(a)\n",
        "b += a\n",
        "print(b)\n",
        "# a += b                  # 浮点数不会自动转换成整数"
      ]
    },
    {
      "cell_type": "markdown",
      "metadata": {
        "id": "-dDUBNpVGB7D"
      },
      "source": [
        "```np.ndarray```提供了许多一元操作。比如数组求和、求最大最小值等。"
      ]
    },
    {
      "cell_type": "code",
      "execution_count": null,
      "metadata": {
        "ExecuteTime": {
          "end_time": "2018-01-06T10:13:30.434374Z",
          "start_time": "2018-01-06T10:13:30.425346Z"
        },
        "id": "C3QkLmjjGB7E",
        "outputId": "08f931c3-476d-4220-a289-28cbc1fecfa8"
      },
      "outputs": [
        {
          "name": "stdout",
          "output_type": "stream",
          "text": [
            "[[0.15956583 0.98462888 0.34530289]\n",
            " [0.57350692 0.73811474 0.45796919]]\n",
            "3.2590884495453816\n",
            "0.5431814082575636\n",
            "0.984628875429701\n",
            "0.15956583421471682\n"
          ]
        }
      ],
      "source": [
        "a=np.random.random((2,3))\n",
        "print(a)\n",
        "print(a.sum())\n",
        "print(a.mean())\n",
        "print(a.max())\n",
        "print(a.min())"
      ]
    },
    {
      "cell_type": "markdown",
      "metadata": {
        "id": "gyPW3FsjGB7E"
      },
      "source": [
        "默认的，这些一元操作是对整个数组进行计算，没有考虑到数组的形状。你可以设置```axis```参数来指定运算方向。```axis```表示第n维（从0开始）。"
      ]
    },
    {
      "cell_type": "code",
      "execution_count": null,
      "metadata": {
        "ExecuteTime": {
          "end_time": "2018-01-06T10:13:32.155868Z",
          "start_time": "2018-01-06T10:13:32.145852Z"
        },
        "id": "7aVzqhv-GB7E",
        "outputId": "0913ecc5-1621-4958-c1d2-b18884e2d43b"
      },
      "outputs": [
        {
          "name": "stdout",
          "output_type": "stream",
          "text": [
            "[[ 0  1  2  3]\n",
            " [ 4  5  6  7]\n",
            " [ 8  9 10 11]]\n",
            "[12 15 18 21]\n",
            "[ 6 22 38]\n",
            "[0 4 8]\n",
            "[[ 0  1  3  6]\n",
            " [ 4  9 15 22]\n",
            " [ 8 17 27 38]]\n"
          ]
        }
      ],
      "source": [
        "b=np.arange(12).reshape(3,4)\n",
        "print(b)\n",
        "print(b.sum(axis=0)) #对第0维的元素求和\n",
        "print(b.sum(axis=1)) #对第1维的元素求和\n",
        "print(b.min(axis=1))\n",
        "print(b.cumsum(axis=1)) #对第1维的元素依次累加求和"
      ]
    },
    {
      "cell_type": "markdown",
      "metadata": {
        "ExecuteTime": {
          "end_time": "2018-01-06T08:36:59.436308Z",
          "start_time": "2018-01-06T08:36:59.431294Z"
        },
        "id": "mmpSPwrSGB7E"
      },
      "source": [
        "### 五、广播函数\n",
        "NumPy提供了熟知的数学方法，如：sin、cos、exp等。在NumPy中，这些方法被称作广播函数。这些函数会对数组中的每个元素进行计算，返回计算后的数组。"
      ]
    },
    {
      "cell_type": "code",
      "execution_count": null,
      "metadata": {
        "ExecuteTime": {
          "end_time": "2018-01-06T10:13:33.755312Z",
          "start_time": "2018-01-06T10:13:33.744772Z"
        },
        "id": "LBlNubwgGB7E",
        "outputId": "cc570a3d-e87c-4296-a26c-e1bbcb65121c"
      },
      "outputs": [
        {
          "name": "stdout",
          "output_type": "stream",
          "text": [
            "[0 1 2]\n",
            "[1.         2.71828183 7.3890561 ]\n",
            "[0.         1.         1.41421356]\n",
            "[2 0 6]\n",
            "[2 0 6]\n"
          ]
        }
      ],
      "source": [
        "B=np.arange(3)\n",
        "print(B)\n",
        "print(np.exp(B))\n",
        "print(np.sqrt(B))\n",
        "C=np.array([2,-1,4])\n",
        "print(np.add(B,C))\n",
        "print(B+C)\n"
      ]
    },
    {
      "cell_type": "markdown",
      "metadata": {
        "ExecuteTime": {
          "end_time": "2018-01-06T08:38:28.434285Z",
          "start_time": "2018-01-06T08:38:28.428279Z"
        },
        "id": "xmulIugwGB7E"
      },
      "source": [
        "### 六、索引、切片和迭代\n",
        "一维数组可以被索引、切片和迭代，就和Python中的列表一样。"
      ]
    },
    {
      "cell_type": "code",
      "execution_count": null,
      "metadata": {
        "ExecuteTime": {
          "end_time": "2018-01-06T10:13:35.042210Z",
          "start_time": "2018-01-06T10:13:35.027669Z"
        },
        "scrolled": true,
        "id": "w-awHCiuGB7E",
        "outputId": "b458526c-6c0b-4e7f-e4df-19aba1f15163"
      },
      "outputs": [
        {
          "name": "stdout",
          "output_type": "stream",
          "text": [
            "[  0   1   8  27  64 125 216 343 512 729]\n",
            "8\n",
            "[ 8 27 64]\n",
            "[-1000     1 -1000    27 -1000   125   216   343   512   729]\n",
            "[  729   512   343   216   125 -1000    27 -1000     1 -1000]\n",
            "-1000\n",
            "1\n",
            "-1000\n",
            "27\n",
            "-1000\n",
            "125\n",
            "216\n",
            "343\n",
            "512\n",
            "729\n"
          ]
        }
      ],
      "source": [
        "a=np.arange(10)**3\n",
        "print(a)\n",
        "print(a[2])\n",
        "print(a[2:5])\n",
        "a[:6:2]=-1000\n",
        "print(a)\n",
        "print(a[::-1]) #-1倒序\n",
        "for i in a:\n",
        "    print(i)"
      ]
    },
    {
      "cell_type": "markdown",
      "metadata": {
        "ExecuteTime": {
          "end_time": "2018-01-06T08:41:33.786671Z",
          "start_time": "2018-01-06T08:41:33.782690Z"
        },
        "id": "XmP-lCgHGB7E"
      },
      "source": [
        "多维数组可以在每一个维度有一个索引，这些索引构成元组来进行访问。"
      ]
    },
    {
      "cell_type": "code",
      "execution_count": null,
      "metadata": {
        "ExecuteTime": {
          "end_time": "2018-01-06T10:13:36.210243Z",
          "start_time": "2018-01-06T10:13:36.198705Z"
        },
        "id": "faqmOq3_GB7E",
        "outputId": "f259a869-1e2b-46f6-8223-ae034938dd8e"
      },
      "outputs": [
        {
          "name": "stdout",
          "output_type": "stream",
          "text": [
            "[[ 0  1  2  3]\n",
            " [10 11 12 13]\n",
            " [20 21 22 23]\n",
            " [30 31 32 33]\n",
            " [40 41 42 43]]\n",
            "23\n",
            "[ 1 11 21 31 41]\n",
            "[ 1 11 21 31 41]\n",
            "[[10 11 12 13]\n",
            " [20 21 22 23]]\n"
          ]
        }
      ],
      "source": [
        "def f(x,y):return 10*x+y\n",
        "b=np.fromfunction(f,(5,4),dtype=int)\n",
        "print(b)\n",
        "print(b[2,3])\n",
        "print(b[0:5,1])\n",
        "print(b[:,1])\n",
        "print(b[1:3,:])\n"
      ]
    },
    {
      "cell_type": "markdown",
      "metadata": {
        "id": "ctYEyospGB7E"
      },
      "source": [
        "```...```表示对索引的省略。如下所示："
      ]
    },
    {
      "cell_type": "code",
      "execution_count": null,
      "metadata": {
        "ExecuteTime": {
          "end_time": "2018-01-06T10:13:37.279065Z",
          "start_time": "2018-01-06T10:13:37.270040Z"
        },
        "id": "334-iKt1GB7F",
        "outputId": "91b6067a-6735-4c3b-e4fd-62b18161bc4d"
      },
      "outputs": [
        {
          "name": "stdout",
          "output_type": "stream",
          "text": [
            "(2, 2, 3)\n",
            "[[100 101 102]\n",
            " [110 112 113]]\n",
            "[[  2  13]\n",
            " [102 113]]\n"
          ]
        }
      ],
      "source": [
        "c = np.array( [[[  0,  1,  2],               # 三维数组\n",
        "                [ 10, 12, 13]],\n",
        "               [[100,101,102],\n",
        "                [110,112,113]]])\n",
        "print(c.shape)\n",
        "print(c[1,...])                                   # 和 c[1,:,:] 、 c[1]效果相同\n",
        "print(c[...,2])                                   # 和c[:,:,2]效果相同\n"
      ]
    },
    {
      "cell_type": "markdown",
      "metadata": {
        "id": "qb09RBI3GB7F"
      },
      "source": [
        "对多维数组的迭代是在第一维进行迭代的。"
      ]
    },
    {
      "cell_type": "code",
      "execution_count": null,
      "metadata": {
        "ExecuteTime": {
          "end_time": "2018-01-06T10:13:38.226489Z",
          "start_time": "2018-01-06T10:13:38.220471Z"
        },
        "id": "oTL-iTakGB7F",
        "outputId": "44e79552-387c-4d29-f390-31ed92758207"
      },
      "outputs": [
        {
          "name": "stdout",
          "output_type": "stream",
          "text": [
            "[0 1 2 3]\n",
            "[10 11 12 13]\n",
            "[20 21 22 23]\n",
            "[30 31 32 33]\n",
            "[40 41 42 43]\n"
          ]
        }
      ],
      "source": [
        "for row in b:\n",
        "    print(row)"
      ]
    },
    {
      "cell_type": "markdown",
      "metadata": {
        "id": "F-2_UFb1GB7F"
      },
      "source": [
        "如果需要遍历多维数组的所有元素，可以使用```flat```这个属性。"
      ]
    },
    {
      "cell_type": "code",
      "execution_count": null,
      "metadata": {
        "ExecuteTime": {
          "end_time": "2018-01-06T10:13:39.171487Z",
          "start_time": "2018-01-06T10:13:39.164465Z"
        },
        "scrolled": true,
        "id": "B3RIbhryGB7F",
        "outputId": "6be9faca-793f-41c7-f5c6-f63e3e04380d"
      },
      "outputs": [
        {
          "name": "stdout",
          "output_type": "stream",
          "text": [
            "0\n",
            "1\n",
            "2\n",
            "3\n",
            "10\n",
            "11\n",
            "12\n",
            "13\n",
            "20\n",
            "21\n",
            "22\n",
            "23\n",
            "30\n",
            "31\n",
            "32\n",
            "33\n",
            "40\n",
            "41\n",
            "42\n",
            "43\n"
          ]
        }
      ],
      "source": [
        "for element in b.flat:\n",
        "    print(element)"
      ]
    },
    {
      "cell_type": "markdown",
      "metadata": {
        "id": "kOEjWTepGB7F"
      },
      "source": [
        "### 多种多样的索引和索引的小技巧\n",
        "相比Python的列表，NumPy提供了更多的索引功能。除了可以用整数和列表来访问数组之外，数组还可以被整型数组和布尔数组访问。\n",
        "#### 用数组访问数组"
      ]
    },
    {
      "cell_type": "code",
      "execution_count": null,
      "metadata": {
        "ExecuteTime": {
          "end_time": "2018-01-06T10:13:52.539431Z",
          "start_time": "2018-01-06T10:13:52.531402Z"
        },
        "id": "XmoTn4YoGB7F",
        "outputId": "4aaa9cd7-20cb-47e8-a806-33a7ab3759f4"
      },
      "outputs": [
        {
          "name": "stdout",
          "output_type": "stream",
          "text": [
            "[ 1  1  9 64 25]\n",
            "[[ 9 16]\n",
            " [64 25]]\n"
          ]
        }
      ],
      "source": [
        "a=np.arange(12)**2\n",
        "i=np.array([1,1,3,8,5])\n",
        "print(a[i])\n",
        "j=np.array([[3,4],[8,5]]) #用二维数组来访问数组\n",
        "print(a[j]) #产生和访问的数组相同形状的结果"
      ]
    },
    {
      "cell_type": "markdown",
      "metadata": {
        "id": "FvBcffFqGB7F"
      },
      "source": [
        "在时间序列的数据上寻找最大值通常会用到数组索引"
      ]
    },
    {
      "cell_type": "code",
      "execution_count": null,
      "metadata": {
        "ExecuteTime": {
          "end_time": "2018-01-06T10:13:53.692386Z",
          "start_time": "2018-01-06T10:13:53.679352Z"
        },
        "id": "M3fhQ_7LGB7G",
        "outputId": "d8119513-6d98-4f78-d726-60d5d85fafb1"
      },
      "outputs": [
        {
          "name": "stdout",
          "output_type": "stream",
          "text": [
            "[ 20.    51.25  82.5  113.75 145.  ]\n",
            "[[ 0.          0.84147098  0.90929743  0.14112001]\n",
            " [-0.7568025  -0.95892427 -0.2794155   0.6569866 ]\n",
            " [ 0.98935825  0.41211849 -0.54402111 -0.99999021]\n",
            " [-0.53657292  0.42016704  0.99060736  0.65028784]\n",
            " [-0.28790332 -0.96139749 -0.75098725  0.14987721]]\n",
            "[2 0 3 1]\n",
            "[ 82.5   20.   113.75  51.25]\n",
            "[0.98935825 0.84147098 0.99060736 0.6569866 ]\n"
          ]
        }
      ],
      "source": [
        "time=np.linspace(20,145,5)\n",
        "data=np.sin(np.arange(20)).reshape(5,4)\n",
        "print(time)\n",
        "print(data)\n",
        "ind=data.argmax(axis=0)#返回按照指定轴的方向的最大值的索引\n",
        "time_max=time[ind]\n",
        "print(ind)\n",
        "print(time_max)\n",
        "data_max=data[ind,range(data.shape[1])]\n",
        "print(data_max)"
      ]
    },
    {
      "cell_type": "markdown",
      "metadata": {
        "id": "eQ5L4HbiGB7G"
      },
      "source": [
        "你也可以使用数组索引来赋值"
      ]
    },
    {
      "cell_type": "code",
      "execution_count": null,
      "metadata": {
        "ExecuteTime": {
          "end_time": "2018-01-06T10:13:54.692395Z",
          "start_time": "2018-01-06T10:13:54.686390Z"
        },
        "id": "TC68BjMdGB7G",
        "outputId": "2d54a2dc-8858-4717-a11f-8bceafec591a"
      },
      "outputs": [
        {
          "name": "stdout",
          "output_type": "stream",
          "text": [
            "[0 0 2 0 0]\n"
          ]
        }
      ],
      "source": [
        "a=np.arange(5)\n",
        "a[[1,3,4]]=0\n",
        "print(a)"
      ]
    },
    {
      "cell_type": "markdown",
      "metadata": {
        "id": "6QxSlOmQGB7G"
      },
      "source": [
        "如果赋值时有重复的索引，则赋值会执行多次，留下最后一次执行的结果"
      ]
    },
    {
      "cell_type": "code",
      "execution_count": null,
      "metadata": {
        "ExecuteTime": {
          "end_time": "2018-01-06T10:13:55.584598Z",
          "start_time": "2018-01-06T10:13:55.577579Z"
        },
        "id": "0M8kXalbGB7G",
        "outputId": "cab311c8-a3ae-410a-fdf5-5ebba2971e95"
      },
      "outputs": [
        {
          "name": "stdout",
          "output_type": "stream",
          "text": [
            "[3 1 2 3 4]\n"
          ]
        }
      ],
      "source": [
        "a=np.arange(5)\n",
        "a[[0,0,0]]=[1,2,3]  #为0元素索引赋值3次\n",
        "print(a)"
      ]
    },
    {
      "cell_type": "markdown",
      "metadata": {
        "id": "O3Dclb--GB7G"
      },
      "source": [
        "但是赋值时使用```+=```时，并不会重复计算"
      ]
    },
    {
      "cell_type": "code",
      "execution_count": null,
      "metadata": {
        "ExecuteTime": {
          "end_time": "2018-01-06T10:13:56.561040Z",
          "start_time": "2018-01-06T10:13:56.554021Z"
        },
        "scrolled": true,
        "id": "7lcTMwlYGB7G",
        "outputId": "42e9f723-ac13-4142-b4cf-da7e6cd32078"
      },
      "outputs": [
        {
          "name": "stdout",
          "output_type": "stream",
          "text": [
            "[1 1 2 3 4]\n"
          ]
        }
      ],
      "source": [
        "a=np.arange(5)\n",
        "a[[0,0,0]]+=1\n",
        "print(a)"
      ]
    },
    {
      "cell_type": "markdown",
      "metadata": {
        "id": "IYakie_FGB7G"
      },
      "source": [
        "这是因为\"a+=1\"最终是解释成了\"a=a+1\""
      ]
    },
    {
      "cell_type": "markdown",
      "metadata": {
        "id": "ThpL-X-qGB7H"
      },
      "source": [
        "#### 用布尔数组来访问数组\n",
        "通过使用布尔数组索引，我们可以选择哪些数据是需要的，哪些是不需要的。  \n",
        "在赋值中也非常有用。"
      ]
    },
    {
      "cell_type": "code",
      "execution_count": null,
      "metadata": {
        "ExecuteTime": {
          "end_time": "2018-01-06T10:14:01.181551Z",
          "start_time": "2018-01-06T10:14:01.174550Z"
        },
        "scrolled": true,
        "id": "rPjZvTE6GB7H",
        "outputId": "bdbad45a-6a9e-4ad7-a182-03c26769186c"
      },
      "outputs": [
        {
          "name": "stdout",
          "output_type": "stream",
          "text": [
            "[[False False False False]\n",
            " [False  True  True  True]\n",
            " [ True  True  True  True]]\n",
            "[ 5  6  7  8  9 10 11]\n",
            "[[ 0  1  2  3]\n",
            " [ 4 10 10 10]\n",
            " [10 10 10 10]]\n"
          ]
        }
      ],
      "source": [
        "a = np.arange(12).reshape(3,4)\n",
        "b = a > 4\n",
        "print(b)\n",
        "print(a[b])\n",
        "a[b]=10\n",
        "print(a)"
      ]
    },
    {
      "cell_type": "markdown",
      "metadata": {
        "ExecuteTime": {
          "end_time": "2018-01-06T08:47:20.987748Z",
          "start_time": "2018-01-06T08:47:20.984739Z"
        },
        "id": "2aNUuJowGB7H"
      },
      "source": [
        "### 七、数组形状操作\n",
        "#### 1.更改数组的形状\n",
        "有很多种方式可以更改数组的形状。下列的函数都没有对原数组进行更改，而是返回了一个更改后的新数组。"
      ]
    },
    {
      "cell_type": "code",
      "execution_count": null,
      "metadata": {
        "ExecuteTime": {
          "end_time": "2018-01-06T10:13:40.325824Z",
          "start_time": "2018-01-06T10:13:40.316768Z"
        },
        "id": "9pZu-fLqGB7H",
        "outputId": "abfb0078-8730-4f17-bde9-022a6f07ebac"
      },
      "outputs": [
        {
          "name": "stdout",
          "output_type": "stream",
          "text": [
            "[8. 4. 1. 6. 6. 4. 6. 9. 3. 3. 7. 8.]\n",
            "[[8. 4.]\n",
            " [1. 6.]\n",
            " [6. 4.]\n",
            " [6. 9.]\n",
            " [3. 3.]\n",
            " [7. 8.]]\n",
            "[[8. 6. 3.]\n",
            " [4. 4. 3.]\n",
            " [1. 6. 7.]\n",
            " [6. 9. 8.]]\n"
          ]
        }
      ],
      "source": [
        "a = np.floor(10*np.random.random((3,4)))\n",
        "print(a.ravel()) #返回铺平后的数组\n",
        "print(a.reshape(6,2)) #按照指定的形状更改\n",
        "print(a.T)#返回转置矩阵"
      ]
    },
    {
      "cell_type": "markdown",
      "metadata": {
        "id": "XOhmicixGB7H"
      },
      "source": [
        "如果一个维度填的是-1，则该维度的形状会自动进行计算"
      ]
    },
    {
      "cell_type": "code",
      "execution_count": null,
      "metadata": {
        "ExecuteTime": {
          "end_time": "2018-01-06T10:13:41.276676Z",
          "start_time": "2018-01-06T10:13:41.272133Z"
        },
        "id": "4QM3NcvyGB7H",
        "outputId": "8d47d74f-15bb-47bb-ee09-d51da3d0bae7"
      },
      "outputs": [
        {
          "name": "stdout",
          "output_type": "stream",
          "text": [
            "[[8. 4. 1. 6.]\n",
            " [6. 4. 6. 9.]\n",
            " [3. 3. 7. 8.]]\n"
          ]
        }
      ],
      "source": [
        "print(a.reshape(3,-1))"
      ]
    },
    {
      "cell_type": "markdown",
      "metadata": {
        "id": "RCrYMLHHGB7H"
      },
      "source": [
        "#### 2.堆砌不同的数组\n",
        "多个数组可以按照不同的轴合在一起"
      ]
    },
    {
      "cell_type": "code",
      "execution_count": null,
      "metadata": {
        "ExecuteTime": {
          "end_time": "2018-01-06T10:13:42.426568Z",
          "start_time": "2018-01-06T10:13:42.410526Z"
        },
        "id": "RbCfg61mGB7H",
        "outputId": "a14110cd-765a-4bdf-b3dd-a127fcdf152b"
      },
      "outputs": [
        {
          "name": "stdout",
          "output_type": "stream",
          "text": [
            "[[5. 1.]\n",
            " [1. 9.]]\n",
            "[[2. 6.]\n",
            " [9. 9.]]\n",
            "[[5. 1.]\n",
            " [1. 9.]\n",
            " [2. 6.]\n",
            " [9. 9.]]\n",
            "[[5. 1. 2. 6.]\n",
            " [1. 9. 9. 9.]]\n",
            "[[[5. 1.]]\n",
            "\n",
            " [[1. 9.]]]\n"
          ]
        }
      ],
      "source": [
        "a=np.floor(10*np.random.random((2,2)))\n",
        "print(a)\n",
        "b=np.floor(10*np.random.random((2,2)))\n",
        "print(b)\n",
        "print(np.vstack((a,b)))#垂直方向堆砌\n",
        "print(np.hstack((a,b)))#水平方向堆砌\n",
        "from numpy import newaxis #插入一个维度\n",
        "print(a[:,newaxis])"
      ]
    },
    {
      "cell_type": "markdown",
      "metadata": {
        "id": "Q3-ViPyEGB7I"
      },
      "source": [
        "#### 3.将一个数组划分为多个更小的数组\n",
        "使用```hsplit```，```vsplit```可以对数组按照水平方向和垂直方向进行划分。"
      ]
    },
    {
      "cell_type": "code",
      "execution_count": null,
      "metadata": {
        "ExecuteTime": {
          "end_time": "2018-01-06T10:13:43.857295Z",
          "start_time": "2018-01-06T10:13:43.845263Z"
        },
        "id": "yrTkHXElGB7I",
        "outputId": "edbe7fc1-7394-4d27-b4d3-da05b7607f53"
      },
      "outputs": [
        {
          "name": "stdout",
          "output_type": "stream",
          "text": [
            "[[0. 1. 1. 4. 3. 0. 4. 6. 8. 2. 8. 0.]\n",
            " [5. 3. 9. 7. 4. 7. 0. 1. 7. 3. 9. 5.]]\n",
            "[array([[0., 1., 1., 4.],\n",
            "       [5., 3., 9., 7.]]), array([[3., 0., 4., 6.],\n",
            "       [4., 7., 0., 1.]]), array([[8., 2., 8., 0.],\n",
            "       [7., 3., 9., 5.]])]\n",
            "[array([[0.],\n",
            "       [5.]]), array([[1.],\n",
            "       [3.]]), array([[1.],\n",
            "       [9.]]), array([[4., 3., 0., 4., 6., 8., 2., 8., 0.],\n",
            "       [7., 4., 7., 0., 1., 7., 3., 9., 5.]])]\n"
          ]
        }
      ],
      "source": [
        "a=np.floor(10*np.random.random((2,12)))\n",
        "print(a)\n",
        "print(np.hsplit(a,3))\n",
        "print(np.hsplit(a,(1,2,3)))#在第一列，第二列，第三列进行划分"
      ]
    },
    {
      "cell_type": "markdown",
      "metadata": {
        "id": "hZQM7spVGB7I"
      },
      "source": [
        "### 八、复制和视图\n",
        "当操作数组时，数组的数据有时会复制到新数组中，有时又不会。这通常令初学者感到困难。总的来说有下面三种情况："
      ]
    },
    {
      "cell_type": "markdown",
      "metadata": {
        "id": "8ptDRUF2GB7I"
      },
      "source": [
        "#### 1.不复制\n",
        "简单的赋值不会复制数组的数据。"
      ]
    },
    {
      "cell_type": "code",
      "execution_count": null,
      "metadata": {
        "ExecuteTime": {
          "end_time": "2018-01-06T10:13:46.265174Z",
          "start_time": "2018-01-06T10:13:46.258101Z"
        },
        "id": "EJXylWj_GB7I",
        "outputId": "daeeb35c-3ad9-4eb8-e557-9fb3211468b8"
      },
      "outputs": [
        {
          "name": "stdout",
          "output_type": "stream",
          "text": [
            "True\n",
            "(3, 4)\n"
          ]
        }
      ],
      "source": [
        "a=np.arange(12)\n",
        "b=a\n",
        "print(b is a)\n",
        "b.shape=3,4\n",
        "print(a.shape)"
      ]
    },
    {
      "cell_type": "markdown",
      "metadata": {
        "id": "wIMryAA1GB7I"
      },
      "source": [
        "#### 2.视图和浅复制\n",
        "不同的数组可以使用同一份数据，```view```函数在同一份数据上创建了新的数组对象。"
      ]
    },
    {
      "cell_type": "code",
      "execution_count": null,
      "metadata": {
        "ExecuteTime": {
          "end_time": "2018-01-06T10:13:47.551565Z",
          "start_time": "2018-01-06T10:13:47.539557Z"
        },
        "id": "YjyNB2F9GB7I",
        "outputId": "6c0a5d0b-e9cb-4edb-d42f-cbaf3ffff11c"
      },
      "outputs": [
        {
          "name": "stdout",
          "output_type": "stream",
          "text": [
            "False\n",
            "True\n",
            "False\n",
            "(3, 4)\n",
            "[[   0    1    2    3]\n",
            " [   4    5    6    7]\n",
            " [   8 1234   10   11]]\n"
          ]
        }
      ],
      "source": [
        "c=a.view()\n",
        "print(c is a)\n",
        "print(c.base is a) #c是a的数据的视图\n",
        "print(c.flags.owndata)\n",
        "c.shape=6,2\n",
        "print(a.shape) #a的形状没有改变\n",
        "c[4,1]=1234 #a的数据改变了\n",
        "print(a)"
      ]
    },
    {
      "cell_type": "markdown",
      "metadata": {
        "id": "pRct4UBYGB7I"
      },
      "source": [
        "对数组切片会返回数组的视图"
      ]
    },
    {
      "cell_type": "code",
      "execution_count": null,
      "metadata": {
        "ExecuteTime": {
          "end_time": "2018-01-06T10:13:50.279056Z",
          "start_time": "2018-01-06T10:13:50.274041Z"
        },
        "id": "Fqf8-uzoGB7I",
        "outputId": "6db510e1-ed82-438f-e9be-b8d3c0a8ab85"
      },
      "outputs": [
        {
          "name": "stdout",
          "output_type": "stream",
          "text": [
            "[[ 0 10 10  3]\n",
            " [ 4 10 10  7]\n",
            " [ 8 10 10 11]]\n"
          ]
        }
      ],
      "source": [
        "s=a[:,1:3]\n",
        "s[:]=10\n",
        "print(a)"
      ]
    },
    {
      "cell_type": "markdown",
      "metadata": {
        "id": "8ka8kZNuGB7J"
      },
      "source": [
        "#### 3.深复制\n",
        "```copy```函数实现了对数据和数组的完全复制。"
      ]
    },
    {
      "cell_type": "code",
      "execution_count": null,
      "metadata": {
        "ExecuteTime": {
          "end_time": "2018-01-06T10:13:51.476104Z",
          "start_time": "2018-01-06T10:13:51.469336Z"
        },
        "id": "Yrmmjb0iGB7J",
        "outputId": "8d6172db-1d1b-4fad-d481-412294d747fa"
      },
      "outputs": [
        {
          "name": "stdout",
          "output_type": "stream",
          "text": [
            "False\n",
            "False\n",
            "[[ 0 10 10  3]\n",
            " [ 4 10 10  7]\n",
            " [ 8 10 10 11]]\n"
          ]
        }
      ],
      "source": [
        "d=a.copy()\n",
        "print(d is a)\n",
        "print(d.base is a)\n",
        "d[0,0]=9999\n",
        "print(a)"
      ]
    },
    {
      "cell_type": "markdown",
      "metadata": {
        "id": "HG_-WIGmGB7J"
      },
      "source": [
        "### 九、线性代数\n",
        "提供基本的线性代数操作\n",
        "#### 简单的数组操作\n"
      ]
    },
    {
      "cell_type": "code",
      "execution_count": null,
      "metadata": {
        "ExecuteTime": {
          "end_time": "2018-01-06T10:14:08.238699Z",
          "start_time": "2018-01-06T10:14:08.221678Z"
        },
        "id": "NCPAdV6TGB7J",
        "outputId": "38109e68-f7c0-4c96-e0e6-7311cbe6bfc0"
      },
      "outputs": [
        {
          "name": "stdout",
          "output_type": "stream",
          "text": [
            "[[1. 2.]\n",
            " [3. 4.]]\n",
            "[[-3.]\n",
            " [ 4.]]\n",
            "(array([0.+1.j, 0.-1.j]), array([[0.70710678+0.j        , 0.70710678-0.j        ],\n",
            "       [0.        -0.70710678j, 0.        +0.70710678j]]))\n"
          ]
        }
      ],
      "source": [
        "import numpy as np\n",
        "a = np.array([[1.0, 2.0], [3.0, 4.0]])\n",
        "print(a)\n",
        "a.transpose() #转置\n",
        "np.linalg.inv(a)  #矩阵的逆矩阵\n",
        "u = np.eye(2) # unit 2x2 matrix; \"eye\" represents \"I\"  单位矩阵\n",
        "j = np.array([[0.0, -1.0], [1.0, 0.0]])\n",
        "np.dot (j, j) # 点积\n",
        "np.trace(u)  # 矩阵的迹\n",
        "y = np.array([[5.], [7.]])\n",
        "print(np.linalg.solve(a, y))#解线性方程组\n",
        "print(np.linalg.eig(j))#计算特征值\n"
      ]
    },
    {
      "cell_type": "markdown",
      "metadata": {
        "ExecuteTime": {
          "end_time": "2018-01-06T09:58:07.634662Z",
          "start_time": "2018-01-06T09:58:07.629671Z"
        },
        "id": "7amNKaDlGB7J"
      },
      "source": [
        "### 小技巧和小贴士\n",
        "#### 自动更改数组大小\n",
        "在更改数组大小时，你可以省略一个维度的大小，这个维度的大小会自动计算出来</b>\n"
      ]
    },
    {
      "cell_type": "code",
      "execution_count": null,
      "metadata": {
        "ExecuteTime": {
          "end_time": "2018-01-06T10:14:09.901009Z",
          "start_time": "2018-01-06T10:14:09.894993Z"
        },
        "id": "HcTIysIOGB7J",
        "outputId": "15960a49-347b-4d6c-b360-bef45d669867"
      },
      "outputs": [
        {
          "name": "stdout",
          "output_type": "stream",
          "text": [
            "(2, 5, 3)\n"
          ]
        }
      ],
      "source": [
        "a = np.arange(30)\n",
        "a.shape = 2,-1,3  # -1 表示自动计算大小\n",
        "print(a.shape)\n"
      ]
    },
    {
      "cell_type": "code",
      "execution_count": null,
      "metadata": {
        "id": "bBiSbSFGGB7J"
      },
      "outputs": [],
      "source": []
    },
    {
      "cell_type": "markdown",
      "metadata": {
        "id": "4IY7FLznGB7J"
      },
      "source": [
        "# Matplotlib基础"
      ]
    },
    {
      "cell_type": "markdown",
      "metadata": {
        "id": "XS3y4yMBGB7K"
      },
      "source": [
        "## 一、知识点1\n",
        "1、x 轴刻度线标签\n",
        "\n",
        "2、设置标题、x 轴和 y 轴的标签"
      ]
    },
    {
      "cell_type": "markdown",
      "metadata": {
        "id": "L-jRDkxXGB7K"
      },
      "source": [
        "### 1、准备数据"
      ]
    },
    {
      "cell_type": "code",
      "execution_count": null,
      "metadata": {
        "id": "0hZZB8MAGB7K",
        "outputId": "c841819b-22ae-4298-d34b-e11354380f3f"
      },
      "outputs": [
        {
          "data": {
            "text/html": [
              "<div>\n",
              "<style scoped>\n",
              "    .dataframe tbody tr th:only-of-type {\n",
              "        vertical-align: middle;\n",
              "    }\n",
              "\n",
              "    .dataframe tbody tr th {\n",
              "        vertical-align: top;\n",
              "    }\n",
              "\n",
              "    .dataframe thead th {\n",
              "        text-align: right;\n",
              "    }\n",
              "</style>\n",
              "<table border=\"1\" class=\"dataframe\">\n",
              "  <thead>\n",
              "    <tr style=\"text-align: right;\">\n",
              "      <th></th>\n",
              "      <th>DATE</th>\n",
              "      <th>VALUE</th>\n",
              "    </tr>\n",
              "  </thead>\n",
              "  <tbody>\n",
              "    <tr>\n",
              "      <th>0</th>\n",
              "      <td>1948-01-01</td>\n",
              "      <td>3.4</td>\n",
              "    </tr>\n",
              "    <tr>\n",
              "      <th>1</th>\n",
              "      <td>1948-02-01</td>\n",
              "      <td>3.8</td>\n",
              "    </tr>\n",
              "    <tr>\n",
              "      <th>2</th>\n",
              "      <td>1948-03-01</td>\n",
              "      <td>4.0</td>\n",
              "    </tr>\n",
              "    <tr>\n",
              "      <th>3</th>\n",
              "      <td>1948-04-01</td>\n",
              "      <td>3.9</td>\n",
              "    </tr>\n",
              "    <tr>\n",
              "      <th>4</th>\n",
              "      <td>1948-05-01</td>\n",
              "      <td>3.5</td>\n",
              "    </tr>\n",
              "  </tbody>\n",
              "</table>\n",
              "</div>"
            ],
            "text/plain": [
              "         DATE  VALUE\n",
              "0  1948-01-01    3.4\n",
              "1  1948-02-01    3.8\n",
              "2  1948-03-01    4.0\n",
              "3  1948-04-01    3.9\n",
              "4  1948-05-01    3.5"
            ]
          },
          "execution_count": 35,
          "metadata": {},
          "output_type": "execute_result"
        }
      ],
      "source": [
        "import pandas as pd\n",
        "data = pd.read_csv('unrate.csv')\n",
        "data.head()"
      ]
    },
    {
      "cell_type": "code",
      "execution_count": null,
      "metadata": {
        "id": "duSP-EvXGB7K",
        "outputId": "21abe00b-fc32-45ed-bd2c-dea4a5c006c5"
      },
      "outputs": [
        {
          "data": {
            "text/plain": [
              "DATE     0\n",
              "VALUE    0\n",
              "dtype: int64"
            ]
          },
          "execution_count": 36,
          "metadata": {},
          "output_type": "execute_result"
        }
      ],
      "source": [
        "# 判断是否有空值\n",
        "nan = data.isnull()\n",
        "nanNum = nan.sum()\n",
        "nanNum"
      ]
    },
    {
      "cell_type": "markdown",
      "metadata": {
        "id": "OsVTK0f6GB7K"
      },
      "source": [
        "### 2、创建空图形"
      ]
    },
    {
      "cell_type": "code",
      "execution_count": null,
      "metadata": {
        "id": "YdkGlJMKGB7K",
        "outputId": "4697d77c-6499-49ce-f131-7b9e4f367b86"
      },
      "outputs": [
        {
          "data": {
            "image/png": "[encoded data removed]",
            "text/plain": [
              "<Figure size 640x480 with 1 Axes>"
            ]
          },
          "metadata": {},
          "output_type": "display_data"
        }
      ],
      "source": [
        "import matplotlib.pyplot as plt\n",
        "plt.plot()\n",
        "plt.show()"
      ]
    },
    {
      "cell_type": "markdown",
      "metadata": {
        "id": "1otltlz8GB7K"
      },
      "source": [
        "### 3、自定义绘图"
      ]
    },
    {
      "cell_type": "code",
      "execution_count": null,
      "metadata": {
        "id": "5gsSD5czGB7L",
        "outputId": "710ca48f-7e6c-447b-feda-e54ceec6e4ab"
      },
      "outputs": [
        {
          "data": {
            "image/png": "[encoded data removed]",
            "text/plain": [
              "<Figure size 640x480 with 1 Axes>"
            ]
          },
          "metadata": {},
          "output_type": "display_data"
        }
      ],
      "source": [
        "# 选取 [0: 12] 区间的数据画图\n",
        "plotData = data[0: 12]\n",
        "plt.plot(plotData.DATE, plotData['VALUE'])\n",
        "plt.show()"
      ]
    },
    {
      "cell_type": "markdown",
      "metadata": {
        "id": "_DTNx2jKGB7L"
      },
      "source": [
        "知识点1：X 轴刻度线标签处理"
      ]
    },
    {
      "cell_type": "code",
      "execution_count": null,
      "metadata": {
        "id": "zHqB_kQ8GB7L",
        "outputId": "803ef7cf-7a73-4241-fb63-d8ce26dbe9ec"
      },
      "outputs": [
        {
          "data": {
            "image/png": "[encoded data removed]",
            "text/plain": [
              "<Figure size 640x480 with 1 Axes>"
            ]
          },
          "metadata": {},
          "output_type": "display_data"
        }
      ],
      "source": [
        "# 针对上面的横坐标重叠问题进行优化\n",
        "plt.plot(plotData.DATE, plotData['VALUE'])\n",
        "'''\n",
        "将 X 轴刻度线标签旋转 45(60,90等) 度，这样它们就\n",
        "不会重叠,可以使用浮点或整数值指定旋转度。\n",
        "'''\n",
        "plt.xticks(rotation=45)\n",
        "plt.show()"
      ]
    },
    {
      "cell_type": "markdown",
      "metadata": {
        "id": "F01sLfAwGB7L"
      },
      "source": [
        "知识点2：设置图像标题、x 轴和 y 轴标签值"
      ]
    },
    {
      "cell_type": "code",
      "execution_count": null,
      "metadata": {
        "id": "O1QK-0c7GB7L",
        "outputId": "0678e58d-a5b5-4460-e651-490ed3478bc3"
      },
      "outputs": [
        {
          "data": {
            "image/png": "[encoded data removed]",
            "text/plain": [
              "<Figure size 640x480 with 1 Axes>"
            ]
          },
          "metadata": {},
          "output_type": "display_data"
        }
      ],
      "source": [
        "plt.plot(plotData.DATE, plotData['VALUE'])\n",
        "plt.xticks(rotation=90)\n",
        "plt.title('Monthly Unemployment Trends, 1948')\n",
        "plt.xlabel('Date')\n",
        "plt.ylabel('Unemployment Rate')\n",
        "plt.show()"
      ]
    },
    {
      "cell_type": "markdown",
      "metadata": {
        "id": "xDmPJb1yGB7L"
      },
      "source": [
        "### 4、显示图形"
      ]
    },
    {
      "cell_type": "code",
      "execution_count": null,
      "metadata": {
        "id": "xqVKRn8XGB7L"
      },
      "outputs": [],
      "source": [
        "plt.show()"
      ]
    },
    {
      "cell_type": "markdown",
      "metadata": {
        "collapsed": true,
        "id": "TN_56omDGB7L"
      },
      "source": [
        "##  二、知识点2\n",
        "1、设置画布大小\n",
        "\n",
        "2、设置图形颜色\n",
        "\n",
        "3、设置图例"
      ]
    },
    {
      "cell_type": "markdown",
      "metadata": {
        "id": "kI5fUt2GGB7L"
      },
      "source": [
        "### 1、准备数据"
      ]
    },
    {
      "cell_type": "code",
      "execution_count": null,
      "metadata": {
        "id": "AZSXdNzaGB7M",
        "outputId": "f6c40b70-c5eb-48c7-d3ae-85dd21f538d2"
      },
      "outputs": [
        {
          "data": {
            "text/html": [
              "<div>\n",
              "<style scoped>\n",
              "    .dataframe tbody tr th:only-of-type {\n",
              "        vertical-align: middle;\n",
              "    }\n",
              "\n",
              "    .dataframe tbody tr th {\n",
              "        vertical-align: top;\n",
              "    }\n",
              "\n",
              "    .dataframe thead th {\n",
              "        text-align: right;\n",
              "    }\n",
              "</style>\n",
              "<table border=\"1\" class=\"dataframe\">\n",
              "  <thead>\n",
              "    <tr style=\"text-align: right;\">\n",
              "      <th></th>\n",
              "      <th>DATE</th>\n",
              "      <th>VALUE</th>\n",
              "    </tr>\n",
              "  </thead>\n",
              "  <tbody>\n",
              "    <tr>\n",
              "      <th>0</th>\n",
              "      <td>1948-01-01</td>\n",
              "      <td>3.4</td>\n",
              "    </tr>\n",
              "    <tr>\n",
              "      <th>1</th>\n",
              "      <td>1948-02-01</td>\n",
              "      <td>3.8</td>\n",
              "    </tr>\n",
              "    <tr>\n",
              "      <th>2</th>\n",
              "      <td>1948-03-01</td>\n",
              "      <td>4.0</td>\n",
              "    </tr>\n",
              "    <tr>\n",
              "      <th>3</th>\n",
              "      <td>1948-04-01</td>\n",
              "      <td>3.9</td>\n",
              "    </tr>\n",
              "    <tr>\n",
              "      <th>4</th>\n",
              "      <td>1948-05-01</td>\n",
              "      <td>3.5</td>\n",
              "    </tr>\n",
              "  </tbody>\n",
              "</table>\n",
              "</div>"
            ],
            "text/plain": [
              "         DATE  VALUE\n",
              "0  1948-01-01    3.4\n",
              "1  1948-02-01    3.8\n",
              "2  1948-03-01    4.0\n",
              "3  1948-04-01    3.9\n",
              "4  1948-05-01    3.5"
            ]
          },
          "execution_count": 42,
          "metadata": {},
          "output_type": "execute_result"
        }
      ],
      "source": [
        "import pandas as pd\n",
        "import matplotlib.pyplot as plt\n",
        "data = pd.read_csv('unrate.csv')\n",
        "data.head()"
      ]
    },
    {
      "cell_type": "code",
      "execution_count": null,
      "metadata": {
        "id": "MQGT91Z6GB7M",
        "outputId": "ded07271-0330-4eb5-ff88-0d82f24bef01"
      },
      "outputs": [
        {
          "data": {
            "text/html": [
              "<div>\n",
              "<style scoped>\n",
              "    .dataframe tbody tr th:only-of-type {\n",
              "        vertical-align: middle;\n",
              "    }\n",
              "\n",
              "    .dataframe tbody tr th {\n",
              "        vertical-align: top;\n",
              "    }\n",
              "\n",
              "    .dataframe thead th {\n",
              "        text-align: right;\n",
              "    }\n",
              "</style>\n",
              "<table border=\"1\" class=\"dataframe\">\n",
              "  <thead>\n",
              "    <tr style=\"text-align: right;\">\n",
              "      <th></th>\n",
              "      <th>DATE</th>\n",
              "      <th>VALUE</th>\n",
              "      <th>MONTH</th>\n",
              "    </tr>\n",
              "  </thead>\n",
              "  <tbody>\n",
              "    <tr>\n",
              "      <th>0</th>\n",
              "      <td>1948-01-01</td>\n",
              "      <td>3.4</td>\n",
              "      <td>1</td>\n",
              "    </tr>\n",
              "    <tr>\n",
              "      <th>1</th>\n",
              "      <td>1948-02-01</td>\n",
              "      <td>3.8</td>\n",
              "      <td>2</td>\n",
              "    </tr>\n",
              "    <tr>\n",
              "      <th>2</th>\n",
              "      <td>1948-03-01</td>\n",
              "      <td>4.0</td>\n",
              "      <td>3</td>\n",
              "    </tr>\n",
              "    <tr>\n",
              "      <th>3</th>\n",
              "      <td>1948-04-01</td>\n",
              "      <td>3.9</td>\n",
              "      <td>4</td>\n",
              "    </tr>\n",
              "    <tr>\n",
              "      <th>4</th>\n",
              "      <td>1948-05-01</td>\n",
              "      <td>3.5</td>\n",
              "      <td>5</td>\n",
              "    </tr>\n",
              "  </tbody>\n",
              "</table>\n",
              "</div>"
            ],
            "text/plain": [
              "        DATE  VALUE  MONTH\n",
              "0 1948-01-01    3.4      1\n",
              "1 1948-02-01    3.8      2\n",
              "2 1948-03-01    4.0      3\n",
              "3 1948-04-01    3.9      4\n",
              "4 1948-05-01    3.5      5"
            ]
          },
          "execution_count": 43,
          "metadata": {},
          "output_type": "execute_result"
        }
      ],
      "source": [
        "# 将 DATE 列设置为 datetime 时间索引列\n",
        "data['DATE'] = pd.to_datetime(data['DATE'])\n",
        "data['MONTH'] = data['DATE'].dt.month\n",
        "data.head()"
      ]
    },
    {
      "cell_type": "markdown",
      "metadata": {
        "id": "wo9zdF5qGB7M"
      },
      "source": [
        "### 2、创建空图形"
      ]
    },
    {
      "cell_type": "markdown",
      "metadata": {
        "id": "o2aN8ibAGB7M"
      },
      "source": [
        "知识点1：设置画布大小\n",
        "\n",
        "plt.figure(figsize=(6, 3))"
      ]
    },
    {
      "cell_type": "code",
      "execution_count": null,
      "metadata": {
        "id": "y6Seq8dVGB7M",
        "outputId": "1c9316a5-e14b-40c8-b3b5-8290589d6c0f"
      },
      "outputs": [
        {
          "data": {
            "image/png": "[encoded data removed]",
            "text/plain": [
              "<Figure size 600x300 with 1 Axes>"
            ]
          },
          "metadata": {},
          "output_type": "display_data"
        }
      ],
      "source": [
        "''' 设置画布大小 '''\n",
        "plt.figure(figsize=(6, 3))\n",
        "plt.plot()\n",
        "plt.show()"
      ]
    },
    {
      "cell_type": "markdown",
      "metadata": {
        "id": "CN_7ciULGB7M"
      },
      "source": [
        "### 3、自定义绘图"
      ]
    },
    {
      "cell_type": "markdown",
      "metadata": {
        "id": "fAKIpB5-GB7M"
      },
      "source": [
        "知识点2：设置颜色\n",
        "\n",
        "plt.plot(x, y, color='b')\n",
        "\n",
        "plt.plot(x, y, c='b')\n",
        "\n",
        "color='b' 等效于 c='b'"
      ]
    },
    {
      "cell_type": "code",
      "execution_count": null,
      "metadata": {
        "id": "vFYt8Cb0GB7M",
        "outputId": "99b764b8-7d9b-4ac7-ee17-049010641450"
      },
      "outputs": [
        {
          "data": {
            "image/png": "[encoded data removed]",
            "text/plain": [
              "<Figure size 640x480 with 1 Axes>"
            ]
          },
          "metadata": {},
          "output_type": "display_data"
        }
      ],
      "source": [
        "plt.plot(data[: 12]['MONTH'], data[: 12]['VALUE'], color='b')\n",
        "plt.plot(data[12: 24].MONTH, data[12: 24].VALUE, c='r')\n",
        "plt.show()"
      ]
    },
    {
      "cell_type": "markdown",
      "metadata": {
        "collapsed": true,
        "id": "5sD-PRcoGB7N"
      },
      "source": [
        "知识点3：图例设置\n",
        "\n",
        "第一：设置图例标签名，plt.plot(label='图例标签名')\n",
        "\n",
        "第二：设置图例放置的位置，plt.legend(loc='放置的位置')\n",
        "\n",
        "loc 的参数有：\n",
        "\n",
        "        ===============   =============\n",
        "        Location String   Location Code\n",
        "        ===============   =============\n",
        "        'best'            0\n",
        "        'upper right'     1\n",
        "        'upper left'      2\n",
        "        'lower left'      3\n",
        "        'lower right'     4\n",
        "        'right'           5\n",
        "        'center left'     6\n",
        "        'center right'    7\n",
        "        'lower center'    8\n",
        "        'upper center'    9\n",
        "        'center'          10\n",
        "        ===============   ============="
      ]
    },
    {
      "cell_type": "code",
      "execution_count": null,
      "metadata": {
        "id": "paOGbxt1GB7N",
        "outputId": "75eda2f5-97af-42cc-add0-e445f9ffd544"
      },
      "outputs": [
        {
          "data": {
            "image/png": "[encoded data removed]",
            "text/plain": [
              "<Figure size 1000x700 with 1 Axes>"
            ]
          },
          "metadata": {},
          "output_type": "display_data"
        }
      ],
      "source": [
        "# 批量设置图形颜色\n",
        "plt.figure(figsize=(10, 7))\n",
        "color = ['red', 'blue', 'green', 'orange', 'black']\n",
        "for i in range(5):\n",
        "    start_index = i * 12\n",
        "    end_index = (i + 1) * 12  #每一年的数据\n",
        "    ''' 设置图例标签名 '''\n",
        "    label = str(1948 + i)\n",
        "    x_plot = data[start_index: end_index]\n",
        "    plt.plot(x_plot['MONTH'], x_plot['VALUE'], color=color[i], label=label)\n",
        "plt.legend(loc='best')\n",
        "plt.xlabel('Month--')\n",
        "plt.ylabel('Nurate--')\n",
        "plt.title('Monthly Unemployment Trends, 1948-1952')\n",
        "plt.show()"
      ]
    },
    {
      "cell_type": "code",
      "execution_count": null,
      "metadata": {
        "id": "6D-HiaS9GB7N"
      },
      "outputs": [],
      "source": []
    },
    {
      "cell_type": "markdown",
      "metadata": {
        "id": "zHD5l_JJGB7N"
      },
      "source": [
        "## 三、具体举例"
      ]
    },
    {
      "cell_type": "markdown",
      "metadata": {
        "id": "fYiGY36aGB7N"
      },
      "source": [
        "### 1. 点线图"
      ]
    },
    {
      "cell_type": "code",
      "execution_count": null,
      "metadata": {
        "id": "s9NCQuEHGB7N"
      },
      "outputs": [],
      "source": [
        "import matplotlib.pyplot as plt"
      ]
    },
    {
      "cell_type": "code",
      "execution_count": null,
      "metadata": {
        "scrolled": true,
        "id": "Tls9039oGB7N",
        "outputId": "dae2bcad-0079-4260-87fc-ce2b5c5eb1cc"
      },
      "outputs": [
        {
          "data": {
            "image/png": "[encoded data removed]",
            "text/plain": [
              "<Figure size 640x480 with 1 Axes>"
            ]
          },
          "metadata": {},
          "output_type": "display_data"
        }
      ],
      "source": [
        "#三点连线\n",
        "plt.plot([1,3,5],[2,3,9])\n",
        "plt.show()"
      ]
    },
    {
      "cell_type": "markdown",
      "metadata": {
        "id": "KzVu4HMJGB7N"
      },
      "source": [
        "###  2. 条形图和直方图"
      ]
    },
    {
      "cell_type": "code",
      "execution_count": null,
      "metadata": {
        "id": "nBb-Fm3RGB7N",
        "outputId": "aaae628a-9560-4d3c-b351-38c843764a01"
      },
      "outputs": [
        {
          "data": {
            "image/png": "[encoded data removed]",
            "text/plain": [
              "<Figure size 640x480 with 1 Axes>"
            ]
          },
          "metadata": {},
          "output_type": "display_data"
        }
      ],
      "source": [
        "import matplotlib.pyplot as plt\n",
        "\n",
        "plt.bar([1,3,5,7,9],[5,2,7,8,2], label=\"Example one\")\n",
        "#你可以在任何类型的绘图中使用颜色，例如g为绿色，b为蓝色，r为红色，等等。 你还可以使用十六进制颜色代码，如#191970\n",
        "plt.bar([2,4,6,8,10],[8,6,2,5,6], label=\"Example two\", color='g')\n",
        "\n",
        "plt.legend()    #plt.legend()生成默认图例\n",
        "plt.xlabel('bar number')\n",
        "plt.ylabel('bar height')\n",
        "\n",
        "plt.title('Epic Graph\\nAnother Line! Whoa')\n",
        "\n",
        "plt.show()"
      ]
    },
    {
      "cell_type": "code",
      "execution_count": null,
      "metadata": {
        "id": "IM_uffPBGB7O",
        "outputId": "36db6534-4b44-4c83-8bd6-fe2a95e9d825"
      },
      "outputs": [
        {
          "data": {
            "image/png": "[encoded data removed]",
            "text/plain": [
              "<Figure size 640x480 with 1 Axes>"
            ]
          },
          "metadata": {},
          "output_type": "display_data"
        }
      ],
      "source": [
        "population_ages = [22,55,62,45,21,22,34,42,42,4,99,102,110,120,121,122,130,111,115,112,80,75,65,54,44,43,42,48]\n",
        "\n",
        "bins = [0,10,20,30,40,50,60,70,80,90,100,110,120,130]\n",
        "\n",
        "#直方图，rwidth为条的宽度\n",
        "plt.hist(population_ages, bins,  histtype='bar',rwidth=0.6)\n",
        "\n",
        "plt.xlabel('x')\n",
        "plt.ylabel('y')\n",
        "plt.title('Interesting Graph\\nCheck it out')\n",
        "plt.show()"
      ]
    },
    {
      "cell_type": "markdown",
      "metadata": {
        "id": "U_A3cd7PGB7O"
      },
      "source": [
        "### 3. 散点图"
      ]
    },
    {
      "cell_type": "markdown",
      "metadata": {
        "id": "g4OFoEnTGB7O"
      },
      "source": [
        "- 接下来，我们将介绍散点图。散点图通常用于比较两个变量来寻找相关性或分组，如果你在 3 维绘制则是 3 个。\n"
      ]
    },
    {
      "cell_type": "code",
      "execution_count": null,
      "metadata": {
        "id": "9TUHf4EiGB7O",
        "outputId": "7be50a4d-2d68-44c7-d919-9114a1c09fb3"
      },
      "outputs": [
        {
          "data": {
            "image/png": "[encoded data removed]",
            "text/plain": [
              "<Figure size 640x480 with 1 Axes>"
            ]
          },
          "metadata": {},
          "output_type": "display_data"
        }
      ],
      "source": [
        "x = [1,2,3,4,5,6,7,8]\n",
        "y = [5,2,4,2,1,4,5,2]\n",
        "\n",
        "#s为size\n",
        "plt.scatter(x,y, label='skitscat', color='k', s=25, marker=\"x\")\n",
        "\n",
        "plt.xlabel('x')\n",
        "plt.ylabel('y')\n",
        "plt.title('Interesting Graph\\nCheck it out')\n",
        "plt.legend()\n",
        "plt.show()"
      ]
    },
    {
      "cell_type": "markdown",
      "metadata": {
        "id": "ARZ7LeMSGB7O"
      },
      "source": [
        "### 4. 饼图"
      ]
    },
    {
      "cell_type": "code",
      "execution_count": null,
      "metadata": {
        "id": "kcoly5-LGB7O",
        "outputId": "2f6a8d3c-795a-4677-b73a-95f3e7cab338"
      },
      "outputs": [
        {
          "data": {
            "image/png": "[encoded data removed]",
            "text/plain": [
              "<Figure size 640x480 with 1 Axes>"
            ]
          },
          "metadata": {},
          "output_type": "display_data"
        }
      ],
      "source": [
        "slices = [7,2,2,13]\n",
        "activities = ['sleeping','eating','working','playing']\n",
        "cols = ['c','m','r','b']\n",
        "\n",
        "#slices是切片内容\n",
        "plt.pie(slices,\n",
        "        labels=activities,\n",
        "        colors=cols,\n",
        "        startangle=90,   #第一条线开始的角度，90度即为竖线\n",
        "        shadow= True,\n",
        "        explode=(0,0.1,0,0),    #一个切片拉出\n",
        "        autopct='%1.1f%%')   #选择将百分比放置到图表上面\n",
        "\n",
        "plt.title('Interesting Graph\\nCheck it out')\n",
        "plt.show()"
      ]
    }
  ],
  "metadata": {
    "kernelspec": {
      "display_name": "Python 3 (ipykernel)",
      "language": "python",
      "name": "python3"
    },
    "language_info": {
      "codemirror_mode": {
        "name": "ipython",
        "version": 3
      },
      "file_extension": ".py",
      "mimetype": "text/x-python",
      "name": "python",
      "nbconvert_exporter": "python",
      "pygments_lexer": "ipython3",
      "version": "3.9.13"
    },
    "toc": {
      "nav_menu": {},
      "number_sections": true,
      "sideBar": true,
      "skip_h1_title": false,
      "toc_cell": false,
      "toc_position": {},
      "toc_section_display": "block",
      "toc_window_display": false
    },
    "varInspector": {
      "cols": {
        "lenName": 16,
        "lenType": 16,
        "lenVar": 40
      },
      "kernels_config": {
        "python": {
          "delete_cmd_postfix": "",
          "delete_cmd_prefix": "del ",
          "library": "var_list.py",
          "varRefreshCmd": "print(var_dic_list())"
        },
        "r": {
          "delete_cmd_postfix": ") ",
          "delete_cmd_prefix": "rm(",
          "library": "var_list.r",
          "varRefreshCmd": "cat(var_dic_list()) "
        }
      },
      "types_to_exclude": [
        "module",
        "function",
        "builtin_function_or_method",
        "instance",
        "_Feature"
      ],
      "window_display": false
    },
    "colab": {
      "provenance": []
    }
  },
  "nbformat": 4,
  "nbformat_minor": 0
}