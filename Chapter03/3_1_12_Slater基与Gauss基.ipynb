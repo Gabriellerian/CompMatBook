{
  "nbformat": 4,
  "nbformat_minor": 0,
  "metadata": {
    "colab": {
      "provenance": [],
      "authorship_tag": "ABX9TyNjEeehsZ0lfpGRUdIz39zd"
    },
    "kernelspec": {
      "name": "python3",
      "display_name": "Python 3"
    },
    "language_info": {
      "name": "python"
    }
  },
  "cells": [
    {
      "cell_type": "markdown",
      "source": [
        "<div style=\"color:black; background-color:#FFF3E9; border: 1px solid #FFE0C3; border-radius: 10px; margin-bottom:1rem\">\n",
        "    <p style=\"margin:1rem; padding-left: 1rem; line-height: 2.5;\">\n",
        "        ©️ <b><i>Copyright 2023 @ Authors</i></b><br/>\n",
        "        作者：<a style=\"font-weight:bold\" href=\"mailto:bshan@mail.hust.edu.cn\">斯坦福大厨 📨 </a><br>\n",
        "        日期：2023-08-09<br/>\n",
        "        <img src=\"https://github.com/stanfordbshan/CompMatBook/blob/main/author.png?raw=true\" width=\"100\"/>\n",
        "        共享协议：本作品采用<a rel=\"license\" href=\"http://creativecommons.org/licenses/by-nc-sa/4.0/\">知识共享署名-非商业性使用-相同方式共享 4.0 国际许可协议</a>进行许可。</i><br/>\n",
        "    </p>\n",
        "</div>\n",
        "\n",
        "恭喜您已经发现了这份神奇的计算材料学课件！这份课件是我在熬夜吃掉不计其数的披萨和咖啡后创作出来的，配套的教材是由单斌、陈征征、陈蓉合著的《计算材料学--从算法原理到代码实现》。学习资料合集您可以在这个网址找到：[www.materialssimulation.com/book](http://www.materialssimulation.com/book)，您也可以跟着up主[无人问津晦涩难懂的B站视频](https://space.bilibili.com/1111135013/channel/collectiondetail?sid=1458375)一起进行学习。希望它能帮您在计算材料学的道路上摔得不那么痛。\n",
        "\n",
        "就像您尊重那些一边烘焙披萨一边写代码的大厨一样，当您使用这份课件时，请：\n",
        "\n",
        "- 记得告诉大家这份课件是斯坦福大厨写的，并且他在华中科技大学微纳中心工作\n",
        "- 别用它去赚大钱，这个课件是用来学习的，不是用来买披萨的\n",
        "- 保持开放共享的精神\n",
        "\n",
        "\n",
        "\n",
        "\n",
        "如果你有关于计算材料学的想法，或者你只是想和我讨论最好吃的披萨口味，欢迎通过邮件 bshan@mail.hust.edu.cn 联系我。"
      ],
      "metadata": {
        "id": "LJLaHU72jdbf"
      }
    },
    {
      "cell_type": "markdown",
      "source": [
        "# 目录（对应《计算材料学》章节3.1.12）\n",
        "\n",
        "<a href=\"https://item.jd.com/10089064828853.html\"><img src=\"https://github.com/stanfordbshan/CompMatBook/blob/main/cover.png?raw=true\"  width=\"200\"/></a>\n",
        "<a href=\"https://item.jd.com/10089064828853.html\">点击购买</a>\n",
        "\n",
        "* [STO](#STObasics)\n",
        "    * [1. STO定义](#STObasics)\n",
        "    * [2. 交叠积分](#overlap)\n",
        "    * [3. 积分方法的MC评估](#mcIntegral)\n",
        "* [GTO](#GTObasics)\n",
        "    * [1. GTO定义](#GTObasics)\n",
        "    * [2. 算法步骤](#GTOalgo)\n",
        "* [参考](#references)"
      ],
      "metadata": {
        "id": "Ilx8DLxAos2M"
      }
    },
    {
      "cell_type": "markdown",
      "source": [
        "<a name='STObasics'></a>\n",
        "# 1. Slater Type Orbitals\n",
        "\n",
        "斯莱特型轨道（Slater Type Orbitals, STOs）是用于描述电子在原子或分子中的行为的一种数学函数。这种函数在量子化学和分子模拟中有着广泛的应用，特别是在哈特里-福克（Hartree-Fock）方法中。STOs具有解析性质，这使得它们在计算中相对容易处理。\n",
        "\n",
        "STO的一般形式是：\n",
        "\n",
        "$$\n",
        "\\psi(\\mathbf{r}) = N \\left( \\frac{Z}{a_0} \\right)^{\\frac{n}{2}} r^{(n-1)} e^{-Zr/a_0} Y_l^m(\\theta, \\phi)\n",
        "$$\n",
        "\n",
        "其中，$ \\mathbf{r} = (r, \\theta, \\phi) $ 是球坐标系下的坐标，$ N $ 是归一化常数，$ Z $ 是有效核电荷，$ a_0 $ 是玻尔半径，$ n $ 是主量子数，$ Y_l^m(\\theta, \\phi) $ 是球谐函数。\n",
        "\n",
        "几个关键参数：\n",
        "\n",
        "- $ N $：归一化常数，确保轨道函数满足归一化条件。\n",
        "- $ Z $：有效核电荷，描述了原子核对电子的有效吸引力。\n",
        "- $ a_0 $：玻尔半径，是一个物理常数。\n",
        "- $ n $：主量子数，描述了电子所处的能级。\n",
        "- $ Y_l^m(\\theta, \\phi) $：球谐函数，描述了电子的角动量。"
      ],
      "metadata": {
        "id": "th2gD4IrSewu"
      }
    },
    {
      "cell_type": "markdown",
      "source": [
        "## a) 1s STO\n",
        "\n",
        "最简单的斯莱特型轨道（Slater Type Orbital, STO）是\\(1s\\)轨道，通常表示为$\\psi_{1s}(\\mathbf{r}; \\zeta_a, \\mathbf{R}_a)$。在这个表达式中，$\\mathbf{r}$是电子的位置矢量，$\\zeta_a$是一个称为轨道指数的参数，$\\mathbf{R}_a$是与轨道相关联的原子或核$a$的位置矢量。\n",
        "\n",
        "$1s$ STO的函数形式为：\n",
        "\n",
        "$$\n",
        "\\psi_{1s}(\\mathbf{r}; \\zeta_a, \\mathbf{R}_a) = \\sqrt{\\frac{1}{\\pi}} \\zeta_a^{3/2} e^{-\\zeta_a |\\mathbf{r} - \\mathbf{R}_a|}\n",
        "$$\n",
        "\n",
        "其中，$ |\\mathbf{r} - \\mathbf{R}_a| $是电子和核$a$之间的距离。\n",
        "\n",
        "关键特点：\n",
        "\n",
        "- $ \\zeta_a $：轨道指数控制电子云的扩散。更大的$\\zeta_a$意味着电子更靠近核局域化。\n",
        "\n",
        "- $ \\mathbf{R}_a $：与轨道局域化的原子或核$a$的位置矢量。在分子计算中，这将是分子中特定原子的位置。\n",
        "\n",
        "$1s$ STO是球对称的，这意味着它只依赖于距离核$r$的距离，而不依赖于角度$\\theta$和$\\phi$。这使得它在涉及类氢原子或离子的计算中特别简单和有用。\n",
        "\n",
        "$1s$ STO通常用作构建哈特里-福克和其他量子化学方法中更复杂分子轨道的基础模块。尽管它很简单，但它捕捉了电子局域化的基本物理性质，并为更复杂的系统提供了合理的第一近似。\n",
        "\n",
        "接下来我们来进行STO 1s轨道的可视化"
      ],
      "metadata": {
        "id": "81IpxTx4zrIq"
      }
    },
    {
      "cell_type": "code",
      "execution_count": null,
      "metadata": {
        "id": "OncXrJ8nhI8_"
      },
      "outputs": [],
      "source": [
        "import numpy as np\n",
        "\n",
        "def STO_1s(r, Ra, zeta):\n",
        "    \"\"\"\n",
        "    Compute the value of the 1s Slater-type orbital (STO) at a given position.\n",
        "\n",
        "    Parameters:\n",
        "    r: np.ndarray or float\n",
        "        Position vector of electron.\n",
        "    Ra: np.ndarray or float\n",
        "        Position vector of the nucleus (center of the STO).\n",
        "    zeta: float\n",
        "        Orbital exponent.\n",
        "\n",
        "    Returns:\n",
        "    float\n",
        "        Value of the 1s STO at the given position.\n",
        "    \"\"\"\n",
        "\n",
        "    # Calculate distance between electron and nucleus\n",
        "    distance = np.linalg.norm(r - Ra)\n",
        "\n",
        "    # Calculate the normalization constant\n",
        "    N = ( zeta**1.5 ) * np.sqrt(1/np.pi)\n",
        "\n",
        "    # Compute the value of the STO\n",
        "    value = N * np.exp(-zeta * distance)\n",
        "\n",
        "    return value\n",
        "\n"
      ]
    },
    {
      "cell_type": "code",
      "source": [
        "import numpy as np\n",
        "import matplotlib.pyplot as plt\n",
        "\n",
        "\n",
        "def visualize_STO_1s_1D(zeta):\n",
        "    # Define a 1D grid along the x-axis\n",
        "    x = np.linspace(0, 6, 500)\n",
        "\n",
        "    # Initialize an array to store the STO values\n",
        "    values = np.zeros(x.shape)\n",
        "\n",
        "    # Center of the orbital\n",
        "    Ra = np.array([0, 0, 0])\n",
        "\n",
        "    # Evaluate the STO function at each point along the x-axis\n",
        "    for i, x_val in enumerate(x):\n",
        "        r = np.array([x_val, 0, 0])\n",
        "        values[i] = STO_1s(r, Ra, zeta)\n",
        "\n",
        "    # Create a figure\n",
        "    plt.figure()\n",
        "\n",
        "    # Plot the STO values\n",
        "    plt.plot(x, values)\n",
        "\n",
        "    # Add labels and title\n",
        "    plt.xlabel('X')\n",
        "    plt.grid(True)\n",
        "    plt.ylabel('STO-1s Value')\n",
        "    plt.title(f'STO-1s along X-axis with zeta = {zeta}')\n",
        "\n",
        "    plt.show()\n",
        "\n",
        "# Visualize STO-1s with a zeta value of 1.0\n",
        "visualize_STO_1s_1D(1.0)\n"
      ],
      "metadata": {
        "colab": {
          "base_uri": "https://localhost:8080/",
          "height": 472
        },
        "id": "9eSub-iopz7t",
        "outputId": "b3fce5b1-03a3-446a-8a55-90b857ffb6c6"
      },
      "execution_count": null,
      "outputs": [
        {
          "output_type": "display_data",
          "data": {
            "text/plain": [
              "<Figure size 640x480 with 1 Axes>"
            ],
            "image/png": "[encoded data removed]"
          },
          "metadata": {}
        }
      ]
    },
    {
      "cell_type": "markdown",
      "source": [
        "<a name=\"overlap\"></a>\n",
        "## b) Slater的交叠积分\n",
        "\n",
        "两个1s Slater型轨道（STO）之间的重叠积分 $ S $ 可以写作：\n",
        "\n",
        "$$\n",
        "S = \\int d\\tau \\, \\psi_{1s}(\\mathbf{r}; \\zeta_a, \\mathbf{R}_a) \\psi_{1s}(\\mathbf{r}; \\zeta_b, \\mathbf{R}_b)\n",
        "$$\n",
        "\n",
        "对于1s STO，$\\psi_{1s}(\\mathbf{r}; \\zeta, \\mathbf{R}) = \\zeta^{3/2} \\sqrt{\\frac{1}{\\pi}} e^{-\\zeta |\\mathbf{r} - \\mathbf{R}|}$。\n",
        "\n",
        "将这些代入积分中，我们得到：\n",
        "\n",
        "$$\n",
        "S = \\int d\\tau \\left( \\zeta_a^{3/2} \\sqrt{\\frac{1}{\\pi}} e^{-\\zeta_a |\\mathbf{r} - \\mathbf{R}_a|} \\right) \\left( \\zeta_b^{3/2} \\sqrt{\\frac{1}{\\pi}} e^{-\\zeta_b |\\mathbf{r} - \\mathbf{R}_b|} \\right)\n",
        "$$\n",
        "\n",
        "简化后：\n",
        "\n",
        "$$\n",
        "S = \\zeta_a^{3/2} \\zeta_b^{3/2} \\frac{1}{\\pi} \\int d\\tau \\, e^{-\\zeta_a |\\mathbf{r} - \\mathbf{R}_a| - \\zeta_b |\\mathbf{r} - \\mathbf{R}_b|}\n",
        "$$\n",
        "\n",
        "我们可以转换到球坐标，并选择z轴，使其与 $ \\mathbf{R}_b - \\mathbf{R}_a $ 对齐。这样，表达式 $ |\\mathbf{r} - \\mathbf{R}_a| $ 和 $ |\\mathbf{r} - \\mathbf{R}_b| $在 $ r, \\theta, \\phi $ 方面会更容易处理。\n",
        "\n",
        "当然，让我用中文和您指定的LaTeX符号进行解释。\n",
        "\n",
        "首先，我们考虑两个中心位于 $ \\mathbf{R}_a = [0, 0, 0] $ 和 $ \\mathbf{R}_b = [0, 0, 1] $ 的1s Slater型轨道（STO）之间的重叠积分 $ S $。该积分 $ S $ 最初可以定义为笛卡尔坐标中的：\n",
        "\n",
        "$$\n",
        "S = \\int dx \\, dy \\, dz \\, \\psi_{1s}(\\mathbf{r}; \\zeta_a, \\mathbf{R}_a) \\psi_{1s}(\\mathbf{r}; \\zeta_b, \\mathbf{R}_b)\n",
        "$$\n",
        "\n",
        "对于我们正在考虑的特定STO，这是：\n",
        "\n",
        "$$\n",
        "S = \\zeta_a^{3/2} \\zeta_b^{3/2} \\frac{1}{\\pi} \\int dx \\, dy \\, dz \\, e^{-\\zeta_a \\sqrt{x^2 + y^2 + z^2}} e^{-\\zeta_b \\sqrt{x^2 + y^2 + (z-1)^2}}\n",
        "$$\n",
        "\n",
        "现在我们希望将这个积分转换为球坐标 $ (r, \\theta, \\phi)$。\n",
        "\n",
        "从笛卡尔坐标 $ (x, y, z) $ 到球坐标 $ (r, \\theta, \\phi) $ 的变换的雅可比行列式是 $ r^2 \\sin(\\theta) $。\n",
        "\n",
        "球坐标与笛卡尔坐标的关系为：\n",
        "\n",
        "$$\n",
        "\\begin{aligned}\n",
        "x &= r \\sin(\\theta) \\cos(\\phi) \\\\\n",
        "y &= r \\sin(\\theta) \\sin(\\phi) \\\\\n",
        "z &= r \\cos(\\theta)\n",
        "\\end{aligned}\n",
        "$$\n",
        "\n",
        "另外，请注意， $(z - 1)^2 = (r \\cos(\\theta) - 1)^2 $。\n",
        "\n",
        "现在， $ S $ 变为：\n",
        "\n",
        "$$\n",
        "S = \\zeta_a^{3/2} \\zeta_b^{3/2} \\frac{1}{\\pi} \\int_0^\\infty dr \\, r^2 \\int_0^\\pi d\\theta \\, \\sin(\\theta) \\int_0^{2\\pi} d\\phi \\, e^{-\\zeta_a r} e^{-\\zeta_b \\sqrt{r^2 - 2 r \\cos(\\theta) + 1}}\n",
        "$$\n",
        "\n",
        "$ \\phi $ 积分很直接，给出一个 $ 2\\pi $ 的因子，剩下的是：\n",
        "\n",
        "$$\n",
        "S = 2\\zeta_a^{3/2} \\zeta_b^{3/2}  \\int_0^\\infty dr \\, r^2 \\int_0^\\pi d\\theta \\, \\sin(\\theta) \\, e^{-\\zeta_a r -\\zeta_b \\sqrt{r^2 - 2 r \\cos(\\theta) + 1}}\n",
        "$$\n",
        "\n",
        "这就是球坐标中的重叠积分 $ S $。\n",
        "\n",
        "我们可以利用球坐标变换简化后的双重积分表达式进行STO 1s交叠积分的计算"
      ],
      "metadata": {
        "id": "MskAydTrsiTI"
      }
    },
    {
      "cell_type": "code",
      "source": [
        "from scipy.integrate import nquad\n",
        "import numpy as np\n",
        "\n",
        "# Define the integrand function\n",
        "def integrand(theta, r):\n",
        "    return 2* r**2 * np.sin(theta) * np.exp(-r - np.sqrt((r - np.cos(theta))**2 + 1 - np.cos(theta)**2))\n",
        "\n",
        "# Perform numerical integration using nquad\n",
        "result, error = nquad(integrand, [[0, np.pi], [0, np.inf]])\n",
        "\n",
        "print(f\"The overlap integral is: {result} error estimate: {error}\")\n"
      ],
      "metadata": {
        "colab": {
          "base_uri": "https://localhost:8080/"
        },
        "id": "ElecGasQKNTq",
        "outputId": "3f3d5ce2-f2d4-4a14-8d3c-98ecc375a0d3"
      },
      "execution_count": null,
      "outputs": [
        {
          "output_type": "stream",
          "name": "stdout",
          "text": [
            "The overlap integral is: 0.8583853626451877 error estimate: 1.1970699904363156e-08\n"
          ]
        }
      ]
    },
    {
      "cell_type": "markdown",
      "source": [
        "也可以直接利用原定义进行积分计算"
      ],
      "metadata": {
        "id": "4P9LLH--f7SX"
      }
    },
    {
      "cell_type": "code",
      "source": [
        "import numpy as np\n",
        "\n",
        "def STO_1s_overlap(x,y,z, zeta_a, zeta_b, Ra, Rb):\n",
        "    \"\"\"\n",
        "    Calculate the overlap integral between two 1s Slater-type orbitals.\n",
        "\n",
        "    Parameters:\n",
        "    r: float\n",
        "        position vector\n",
        "    zeta_a: float\n",
        "        Orbital exponent for orbital centered at Ra.\n",
        "    zeta_b: float\n",
        "        Orbital exponent for orbital centered at Rb.\n",
        "    Ra: np.ndarray\n",
        "        Position vector of nucleus a.\n",
        "    Rb: np.ndarray\n",
        "        Position vector of nucleus b.\n",
        "\n",
        "    Returns:\n",
        "    float\n",
        "        Value of the overlap integral.\n",
        "    \"\"\"\n",
        "    r = np.array([x,y,z])\n",
        "\n",
        "    S1 = STO_1s(r, Ra, zeta_a)\n",
        "    S2 = STO_1s(r, Rb, zeta_b)\n",
        "\n",
        "    return S1*S2\n",
        "\n",
        "# Example usage:\n",
        "Ra = np.array([0, 0, 0])\n",
        "Rb = np.array([0, 0, 1])\n",
        "zeta_a = 1.0\n",
        "zeta_b = 1.0\n",
        "\n",
        "# Calculate the overlap integral\n",
        "result, error = nquad(STO_1s_overlap, [[-np.inf, np.inf], [-np.inf, np.inf], [-np.inf, np.inf]], args=(zeta_a, zeta_b, Ra, Rb))\n",
        "\n",
        "print(f\"The overlap integral is: {result} error estimate: {error}\")\n"
      ],
      "metadata": {
        "colab": {
          "base_uri": "https://localhost:8080/"
        },
        "id": "qxcsOLjPsfi5",
        "outputId": "58139c9c-450c-4ac0-bc46-2fa5f8b47935"
      },
      "execution_count": null,
      "outputs": [
        {
          "output_type": "stream",
          "name": "stdout",
          "text": [
            "The overlap integral is: 0.8583853630577125 error estimate: 1.4897306838924846e-08\n"
          ]
        }
      ]
    },
    {
      "cell_type": "markdown",
      "source": [
        "<a name=\"mcIntegral\"></a>\n",
        "## c) 朴素蒙特卡洛方法计算STO交叠积分\n",
        "\n",
        "使用朴素蒙特卡洛方法来评估斯莱特型轨道（STO）的重叠积分基本步骤如下：\n",
        "\n",
        "1. **定义参数**：确定用于描述两个STO的参数，包括轨道指数（$\\zeta_a$ 和 $\\zeta_b$）和两个轨道中心的位置（$\\mathbf{R}_a$ 和 $\\mathbf{R}_b$）。\n",
        "\n",
        "2. **随机采样**：在一个立方体空间内随机生成一定数量（$N$）的点。这个立方体应足够大，以包括两个STO的主要电子云区域。\n",
        "\n",
        "3. **计算体积元素**：基于立方体的大小和采样点的数量，计算体积元素（$\\Delta V$）。这通常是立方体体积除以点的数量。\n",
        "\n",
        "4. **评估STO函数**：对于每一个随机生成的点，计算两个STO函数的值。\n",
        "\n",
        "    - $ \\text{Value}_a = \\text{STO}_1(\\text{Point}, \\mathbf{R}_a, \\zeta_a) $\n",
        "    - $ \\text{Value}_b = \\text{STO}_2(\\text{Point}, \\mathbf{R}_b, \\zeta_b) $\n",
        "\n",
        "5. **计算重叠**：使用STO函数的值计算每个点的贡献，并将其加总。\n",
        "$$\n",
        "\\text{Integral Value} = \\Delta V \\times \\sum_{i=1}^{N} (\\text{Value}_{a,i} \\times \\text{Value}_{b,i})\n",
        "$$  \n",
        "\n",
        "6. **返回结果**：得到的“Integral Value”即为两个STO的重叠积分的近似值。\n",
        "\n",
        "这种方法的优点是实现简单，但缺点是精度较低，特别是当STO函数在空间中变化非常快时。为了提高精度，通常需要增加采样点的数量。"
      ],
      "metadata": {
        "id": "VisMJT4V1lo8"
      }
    },
    {
      "cell_type": "code",
      "source": [
        "import numpy as np\n",
        "\n",
        "def STO_monte_carlo_overlap(zeta_a, zeta_b, Ra, Rb, num_points=1e8):\n",
        "    \"\"\"\n",
        "    Calculate the overlap integral between two 1s Slater Type Orbitals (STOs)\n",
        "    using Monte Carlo integration.\n",
        "\n",
        "    Parameters\n",
        "    ----------\n",
        "    zeta_a : float\n",
        "        Orbital exponent for the first STO centered at Ra.\n",
        "    zeta_b : float\n",
        "        Orbital exponent for the second STO centered at Rb.\n",
        "    Ra : array_like\n",
        "        Position vector of the nucleus for the first STO, shape (3,).\n",
        "    Rb : array_like\n",
        "        Position vector of the nucleus for the second STO, shape (3,).\n",
        "    num_points : int, optional\n",
        "        Number of Monte Carlo points to sample. Default is 1e8.\n",
        "\n",
        "    Returns\n",
        "    -------\n",
        "    float\n",
        "        The overlap integral between the two STOs.\n",
        "\n",
        "    Notes\n",
        "    -----\n",
        "    This function assumes that the STOs are normalized.\n",
        "\n",
        "    Examples\n",
        "    --------\n",
        "    >>> STO_monte_carlo_overlap(1.0, 1.0, [0, 0, 0], [0, 0, 0])\n",
        "    Approximately 1 (for same STOs overlap should be 1)\n",
        "    \"\"\"\n",
        "\n",
        "    num_points = int(num_points)\n",
        "\n",
        "    # Generate random points in a cube surrounding the two centers\n",
        "    max_dim = 10  # the maximum distance out to which we sample points (cube from -3 to +3 along each axis)\n",
        "    points = np.random.uniform(-max_dim, max_dim, (num_points, 3))\n",
        "\n",
        "    # Calculate the volume element based on the cube size\n",
        "    volume_element = (2 * max_dim)**3 / num_points\n",
        "\n",
        "    # Evaluate the STO functions at each point\n",
        "    values_a = np.array([STO_1s(point, Ra, zeta_a) for point in points])\n",
        "    values_b = np.array([STO_1s(point, Rb, zeta_b) for point in points])\n",
        "\n",
        "    # Evaluate the integral\n",
        "    integral_value = np.sum(values_a * values_b) * volume_element\n",
        "\n",
        "    return integral_value\n",
        "\n",
        "\n",
        "# Example usage\n",
        "Ra = np.array([0, 0, 0])\n",
        "Rb = np.array([0, 0, 1])\n",
        "zeta_a = 1.0\n",
        "zeta_b = 1.0\n",
        "num_points = 1e6\n",
        "\n",
        "overlap_value = STO_monte_carlo_overlap(zeta_a, zeta_b, Ra, Rb, num_points)\n",
        "print(f\"The Monte Carlo estimate for the overlap integral is: {overlap_value}\")\n"
      ],
      "metadata": {
        "colab": {
          "base_uri": "https://localhost:8080/"
        },
        "id": "qhdHfwDntvUK",
        "outputId": "29b3aece-0f0b-454e-df04-d55e72526e62"
      },
      "execution_count": null,
      "outputs": [
        {
          "output_type": "stream",
          "name": "stdout",
          "text": [
            "The Monte Carlo estimate for the overlap integral is: 0.8626955105339398\n"
          ]
        }
      ]
    },
    {
      "cell_type": "markdown",
      "source": [
        "## d)使用重要性抽样蒙特卡洛计算交叠积分\n",
        "\n",
        "使用重要性抽样（Importance Sampling）的蒙特卡洛方法评估斯莱特型轨道（STO）的重叠积分的基本步骤如下：\n",
        "\n",
        "1. **定义参数**：确定用于描述两个STO的参数，包括轨道指数（\\(\\zeta_a\\) 和 \\(\\zeta_b\\)）以及两个轨道中心的位置（\\(\\mathbf{R}_a\\) 和 \\(\\mathbf{R}_b\\)）。\n",
        "\n",
        "2. **选择权重函数**：选择一个权重函数 \\(w(x)\\)，它应能近似地描述两个STO的重叠区域。通常，权重函数应易于积分并与待求积分函数有相似的特性。\n",
        "\n",
        "3. **生成加权随机样本**：使用权重函数生成一组随机样本点。这通常涉及到从与权重函数成比例的概率分布中抽样。\n",
        "\n",
        "4. **计算体积元素和权重**：对于每个随机点，计算体积元素（或者在这种情况下，概率密度函数的值）。\n",
        "\n",
        "5. **评估STO函数**：在每个随机生成的点上评估两个STO函数的值。\n",
        "\n",
        "    - $ \\text{Value}_a = \\text{STO}_1(\\text{Point}, \\mathbf{R}_a, \\zeta_a) $\n",
        "    - $ \\text{Value}_b = \\text{STO}_2(\\text{Point}, \\mathbf{R}_b, \\zeta_b) $\n",
        "\n",
        "6. **计算加权重叠**：使用STO函数的值和权重计算每个点的加权贡献，并加总。\n",
        "\n",
        "$$\n",
        "\\text{Integral Value} = \\sum_{i=1}^{N} \\frac{\\text{Value}_{a,i} \\times \\text{Value}_{b,i}}{w(\\text{Point}_i)}\n",
        "$$\n",
        "\n",
        "7. **归一化和返回结果**：根据权重函数进行归一化，得到的“Integral Value”即为两个STO之间的重叠积分的近似值。\n",
        "\n",
        "重要性抽样的优点是能够提供比朴素蒙特卡洛方法更精确的结果，特别是在函数在空间中变化很快或者具有尖峰的情况下。然而，选择合适的权重函数可能是一个挑战。"
      ],
      "metadata": {
        "id": "NjMmqoYc1oyZ"
      }
    },
    {
      "cell_type": "code",
      "source": [
        "def gaussian_sampling(center, sigma, num_points):\n",
        "    return np.random.normal(loc=center, scale=sigma, size=(num_points, 3))\n",
        "\n",
        "def importance_sampling_overlap(zeta_a, zeta_b, Ra, Rb, num_points=1e8):\n",
        "    num_points = int(num_points)\n",
        "\n",
        "    # Choose a center for the Gaussian sampling distribution\n",
        "    center = (Ra + Rb) / 2\n",
        "\n",
        "    # Choose a standard deviation for the Gaussian\n",
        "    sigma = np.sqrt(1 / (zeta_a + zeta_b))\n",
        "\n",
        "    # Generate random points using Gaussian sampling\n",
        "    points = gaussian_sampling(center, sigma, num_points)\n",
        "\n",
        "    # Evaluate the STO functions at each point\n",
        "    values_a = np.array([STO_1s(point, Ra, zeta_a) for point in points])\n",
        "    values_b = np.array([STO_1s(point, Rb, zeta_b) for point in points])\n",
        "\n",
        "    # Calculate the PDF of the Gaussian at each point\n",
        "    gaussian_pdf = 1 / ((2 * np.pi * sigma**2)**(3/2)) * np.exp(-np.sum((points - center)**2, axis=1) / (2 * sigma**2))\n",
        "\n",
        "    # Evaluate the integral using importance sampling\n",
        "    integral_value = np.sum(values_a * values_b / gaussian_pdf) / num_points\n",
        "\n",
        "    return integral_value\n",
        "\n",
        "# Example usage\n",
        "Ra = np.array([0, 0, 0])\n",
        "Rb = np.array([0, 0, 1])\n",
        "zeta_a = 1.0\n",
        "zeta_b = 1.0\n",
        "num_points = 1e6\n",
        "\n",
        "overlap_value = importance_sampling_overlap(zeta_a, zeta_b, Ra, Rb, num_points)\n",
        "print(f\"The importance sampling Monte Carlo estimate for the overlap integral is: {overlap_value}\")\n"
      ],
      "metadata": {
        "colab": {
          "base_uri": "https://localhost:8080/"
        },
        "id": "EFiIotCt1rvK",
        "outputId": "2e1256fd-8177-4d41-8ade-b15803a65041"
      },
      "execution_count": null,
      "outputs": [
        {
          "output_type": "stream",
          "name": "stdout",
          "text": [
            "The importance sampling Monte Carlo estimate for the overlap integral is: 0.8490774284265379\n"
          ]
        }
      ]
    },
    {
      "cell_type": "markdown",
      "source": [
        "<a name=\"GTObasics\"></a>\n",
        "# 2. Gaussian Type Orbitals\n",
        "\n",
        "高斯型轨道（Gaussian Type Orbitals，GTOs）是用于描述电子在原子或分子中的行为的一种数学函数。与斯莱特型轨道（Slater Type Orbitals，STOs）相比，GTOs 在数值计算中更为高效，尤其是在处理多中心积分时。这主要是因为高斯函数的乘积和加法在积分运算中有更简单的解析形式。\n",
        "\n",
        "高斯型轨道的一般形式为：\n",
        "\n",
        "$$\n",
        "\\psi(\\mathbf{r}) = N x^l y^m z^n e^{-\\alpha r^2}\n",
        "$$\n",
        "\n",
        "其中，$ \\mathbf{r} = (x, y, z) $ 是笛卡尔坐标，$ N $ 是归一化常数，$ \\alpha $ 是高斯函数的宽度参数，$ l, m, n $ 是量子数，分别描述了轨道在 $ x, y, z $ 方向上的角动量。\n",
        "\n",
        "几个关键参数：\n",
        "\n",
        "- $ N $：归一化常数，确保轨道函数满足归一化条件。\n",
        "- $ \\alpha $：高斯宽度参数，描述了电子云的扩散程度。\n",
        "- $ l, m, n $：分别描述了轨道在 $ x, y, z $ 方向上的角动量。\n",
        "\n",
        "高斯型轨道优点主要是计算效率高，特别是在处理多电子系统和多中心积分时。局限性主要是不能精确地描述电子与核之间的库仑相互作用，通常需要使用多个高斯函数的线性组合来提高精度。\n",
        "\n",
        "让我们首先定义一个1s类型的Gauss基函数"
      ],
      "metadata": {
        "id": "X-DV7ZnCVUrZ"
      }
    },
    {
      "cell_type": "code",
      "source": [
        "def GTO_1s(r, Ra, alpha):\n",
        "    \"\"\"\n",
        "    Compute the value of the 1s Gaussian-type orbital (GTO) at a given position.\n",
        "\n",
        "    Parameters:\n",
        "    r: np.ndarray or float\n",
        "        Position vector of electron.\n",
        "    Ra: np.ndarray or float\n",
        "        Position vector of the nucleus (center of the GTO).\n",
        "    alpha: float\n",
        "        Orbital exponent.\n",
        "\n",
        "    Returns:\n",
        "    float\n",
        "        Value of the 1s GTO at the given position.\n",
        "    \"\"\"\n",
        "\n",
        "    # Calculate distance between electron and nucleus\n",
        "    distance_squared = np.linalg.norm(r - Ra)**2\n",
        "\n",
        "    # Calculate the normalization constant\n",
        "    N = (2 * alpha / np.pi)**(3 / 4)\n",
        "\n",
        "    # Compute the value of the GTO\n",
        "    value = N * np.exp(-alpha * distance_squared)\n",
        "\n",
        "    return value\n",
        "\n",
        "# Test the function\n",
        "r_test = np.array([0.1, 0.2, 0.9])\n",
        "Ra_test = np.array([0, 0, 0])\n",
        "alpha_test = 1.0\n",
        "\n",
        "GTO_value = GTO_1s(r_test, Ra_test, alpha_test)\n",
        "GTO_value\n"
      ],
      "metadata": {
        "colab": {
          "base_uri": "https://localhost:8080/"
        },
        "id": "LLCq9voain_b",
        "outputId": "7bf01d07-2c71-4daf-96a6-b30512cdf106"
      },
      "execution_count": null,
      "outputs": [
        {
          "output_type": "execute_result",
          "data": {
            "text/plain": [
              "0.3015899309146682"
            ]
          },
          "metadata": {},
          "execution_count": 12
        }
      ]
    },
    {
      "cell_type": "markdown",
      "source": [
        "## Gaussian的Overlap积分\n",
        "\n",
        "与Slater基函数不同，两个 1s 高斯轨道（GTOs）之间的重叠积分可以直接通过解析方式计算。两个分别位于 $ \\mathbf{A} $ 和 $ \\mathbf{B} $、轨道指数分别为 $ \\alpha $ 和 $ \\beta $ 的 1s 高斯轨道之间的重叠积分的通用公式为：\n",
        "\n",
        "$$\n",
        "S = \\left( \\frac{2\\sqrt{\\alpha\\beta}}{\\alpha + \\beta} \\right)^{3/2} \\exp\\left( -\\frac{\\alpha \\beta}{\\alpha + \\beta} |\\mathbf{A} - \\mathbf{B}|^2 \\right)\n",
        "$$\n",
        "\n"
      ],
      "metadata": {
        "id": "seCxJy_bhjv3"
      }
    },
    {
      "cell_type": "code",
      "source": [
        "import numpy as np\n",
        "\n",
        "def integrand_gaussian_1s_analytical(alpha, beta, Ra, Rb):\n",
        "    \"\"\"Calculate the overlap integral for two 1s Gaussian orbitals\n",
        "    centered at Ra and Rb with the same orbital exponent alpha and beta.\n",
        "    \"\"\"\n",
        "    # Calculate the distance between the two centers\n",
        "    distance_squared = np.linalg.norm(Ra - Rb)**2\n",
        "\n",
        "    # Calculate the overlap integral using the analytical formula\n",
        "    S = ((2*np.sqrt(alpha*beta) / (alpha + beta))**(3 / 2)) * np.exp(-((alpha * beta) / (alpha + beta)) * distance_squared)\n",
        "\n",
        "    return S\n",
        "\n",
        "# Test the function\n",
        "# Test the function\n",
        "alpha_test = 1.0\n",
        "beta_test = 1.0\n",
        "Ra_test = np.array([0, 0, 0])\n",
        "Rb_test = np.array([0, 0, 1])\n",
        "\n",
        "overlap_integral = integrand_gaussian_1s_analytical(alpha_test, beta_test, Ra_test, Rb_test)\n",
        "overlap_integral\n"
      ],
      "metadata": {
        "colab": {
          "base_uri": "https://localhost:8080/"
        },
        "id": "AyX3hLoFiMwq",
        "outputId": "f6707299-99e2-4110-d273-dc368ae95268"
      },
      "execution_count": null,
      "outputs": [
        {
          "output_type": "execute_result",
          "data": {
            "text/plain": [
              "0.6065306597126334"
            ]
          },
          "metadata": {},
          "execution_count": 10
        }
      ]
    },
    {
      "cell_type": "markdown",
      "source": [
        "我们可以用数值积分验证解析形式的正确性"
      ],
      "metadata": {
        "id": "50gUQ9QGaQwx"
      }
    },
    {
      "cell_type": "code",
      "source": [
        "import numpy as np\n",
        "from scipy.integrate import nquad\n",
        "\n",
        "def GTO_1s_overlap(x, y, z, alpha, beta, Ra, Rb):\n",
        "    \"\"\"\n",
        "    Calculate the overlap value at (x,y,z) between two 1s Gaussian-type orbitals.\n",
        "\n",
        "    Parameters:\n",
        "    x, y, z: float\n",
        "        Coordinates of the point where the overlap is calculated.\n",
        "    alpha, beta: float\n",
        "        Orbital exponents for the two GTOs.\n",
        "    Ra, Rb: np.ndarray or float\n",
        "        Position vectors of the nuclei (centers of the GTOs).\n",
        "\n",
        "    Returns:\n",
        "    float\n",
        "        Value of the overlap at the given point.\n",
        "    \"\"\"\n",
        "\n",
        "    # Position vector for the point (x, y, z)\n",
        "    r = np.array([x, y, z])\n",
        "\n",
        "    # Calculate distance between point and each nucleus\n",
        "    G1 = GTO_1s(r, Ra, alpha)\n",
        "    G2 = GTO_1s(r, Rb, beta)\n",
        "\n",
        "    return G1*G2\n",
        "\n",
        "# Test the function\n",
        "alpha, beta = 1.0, 1.0\n",
        "Ra = np.array([0, 0, 0])\n",
        "Rb = np.array([0, 0, 1])\n",
        "\n",
        "# Calculate the overlap integral\n",
        "result, error = nquad(GTO_1s_overlap, [[-np.inf, np.inf], [-np.inf, np.inf], [-np.inf, np.inf]], args=(alpha, beta, Ra, Rb))\n",
        "\n",
        "print(f\"The overlap integral is: {result}, error: {error}\")\n"
      ],
      "metadata": {
        "colab": {
          "base_uri": "https://localhost:8080/"
        },
        "id": "1XnmJolY-n6j",
        "outputId": "8278975d-b4bb-4f8b-f97f-71cb17f3012c"
      },
      "execution_count": null,
      "outputs": [
        {
          "output_type": "stream",
          "name": "stdout",
          "text": [
            "The overlap integral is: 0.6065306597186648, error: 1.4899109701329964e-08\n"
          ]
        }
      ]
    },
    {
      "cell_type": "markdown",
      "source": [
        "# 3. 总结\n",
        "\n",
        "斯莱特型轨道（Slater Type Orbitals, STOs）和高斯型轨道（Gaussian Type Orbitals, GTOs）是量子化学和分子模拟中用于描述电子云分布的两种主要数学函数。两者都有各自的优点和局限性，通常会根据特定应用的需求来选择使用哪一种。\n",
        "\n",
        "**斯莱特型轨道（STOs）**\n",
        "\n",
        "- **优点**：STOs 能更精确地模拟电子与核之间的相互作用，因此在理论上更符合物理现实。\n",
        "- **局限性**：计算复杂度高，特别是在处理多中心积分时。这在大分子体系的模拟中可能会成为瓶颈。\n",
        "\n",
        "**高斯型轨道（GTOs）**\n",
        "\n",
        "- **优点**：计算效率高，特别是在处理多电子和多中心积分时。这使得 GTOs 在大规模量子化学计算中更受欢迎。\n",
        "- **局限性**：不能很好地模拟电子与核的相互作用，通常需要使用多个高斯函数的线性组合（即复合高斯轨道）来提高精度。\n",
        "\n",
        "在实际应用中，STOs 和 GTOs 常常会被结合使用。例如，在初步的量子化学计算中，可能会首先使用 GTOs 来进行快速的筛选和评估，然后再用 STOs 进行更精确的计算。另外，也有一些混合方法试图结合两者的优点，以实现既精确又高效的电子结构计算。\n",
        "\n",
        "总体而言，STOs 和 GTOs 各有优缺点，选择哪一种取决于特定问题的需求，包括计算资源、精度要求以及所研究体系的复杂性。"
      ],
      "metadata": {
        "id": "lTctGvvbcrDU"
      }
    },
    {
      "cell_type": "markdown",
      "source": [
        "当然，无论您是STO的铁杆粉丝，还是GTO的忠实拥趸，我们都知道，在量子化学的舞台上，这两位“明星”各有千秋。STO像是那位深情的诗人，每一个字、每一个句都追求完美，但总是让人等得太久。而GTO则像是流行歌手，虽然歌词不总是那么深刻，但绝对让人觉得耳目一新，难以忘怀。\n",
        "\n",
        "所以，无论您选择哪一种，都请记得——在量子世界里，精确和效率往往是一对难舍难分的“老冤家”。希望您在这场“明星大战”中找到您的“真命天子”！祝科研愉快，不见不散！"
      ],
      "metadata": {
        "id": "-WCJjKILdWHe"
      }
    },
    {
      "cell_type": "markdown",
      "source": [
        "<a name=\"references\"></a>\n",
        "# 4. 参考资料\n",
        "\n",
        "- [本章节B站配套视频](https://www.bilibili.com/video/BV1hC4y1n7kD/)\n",
        "- [Small Gaussian Expansions of Slater‐Type Orbitals](https://pubs.aip.org/aip/jcp/article-abstract/52/1/431/85134/Small-Gaussian-Expansions-of-Slater-Type-Orbitals?redirectedFrom=fulltext)"
      ],
      "metadata": {
        "id": "Z5idkjMim5hg"
      }
    },
    {
      "cell_type": "code",
      "source": [],
      "metadata": {
        "id": "1SVqGQK0dX_t"
      },
      "execution_count": null,
      "outputs": []
    }
  ]
}